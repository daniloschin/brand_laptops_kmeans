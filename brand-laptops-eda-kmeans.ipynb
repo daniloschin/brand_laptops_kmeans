{
 "cells": [
  {
   "cell_type": "markdown",
   "id": "460354fd",
   "metadata": {
    "papermill": {
     "duration": 0.021582,
     "end_time": "2024-03-11T05:10:01.236737",
     "exception": false,
     "start_time": "2024-03-11T05:10:01.215155",
     "status": "completed"
    },
    "tags": []
   },
   "source": [
    "<div style=\"padding:20px;color:white;margin:0;font-size:300%;text-align:center;display:fill;border-radius:5px;background-color:#008849;overflow:hidden;font-weight:800\">Brand Laptops</div>"
   ]
  },
  {
   "cell_type": "code",
   "execution_count": 1,
   "id": "28899cc5",
   "metadata": {
    "_cell_guid": "b1076dfc-b9ad-4769-8c92-a6c4dae69d19",
    "_uuid": "8f2839f25d086af736a60e9eeb907d3b93b6e0e5",
    "execution": {
     "iopub.execute_input": "2024-03-11T05:10:01.285996Z",
     "iopub.status.busy": "2024-03-11T05:10:01.285512Z",
     "iopub.status.idle": "2024-03-11T05:10:02.550984Z",
     "shell.execute_reply": "2024-03-11T05:10:02.549623Z"
    },
    "papermill": {
     "duration": 1.292234,
     "end_time": "2024-03-11T05:10:02.553824",
     "exception": false,
     "start_time": "2024-03-11T05:10:01.261590",
     "status": "completed"
    },
    "tags": []
   },
   "outputs": [
    {
     "name": "stdout",
     "output_type": "stream",
     "text": [
      "/kaggle/input/brand-laptops-dataset/laptops.csv\n"
     ]
    }
   ],
   "source": [
    "# This Python 3 environment comes with many helpful analytics libraries installed\n",
    "# It is defined by the kaggle/python Docker image: https://github.com/kaggle/docker-python\n",
    "# For example, here's several helpful packages to load\n",
    "\n",
    "import numpy as np # linear algebra\n",
    "import pandas as pd # data processing, CSV file I/O (e.g. pd.read_csv)\n",
    "\n",
    "# Input data files are available in the read-only \"../input/\" directory\n",
    "# For example, running this (by clicking run or pressing Shift+Enter) will list all files under the input directory\n",
    "\n",
    "import os\n",
    "for dirname, _, filenames in os.walk('/kaggle/input'):\n",
    "    for filename in filenames:\n",
    "        print(os.path.join(dirname, filename))\n",
    "\n",
    "# You can write up to 20GB to the current directory (/kaggle/working/) that gets preserved as output when you create a version using \"Save & Run All\" \n",
    "# You can also write temporary files to /kaggle/temp/, but they won't be saved outside of the current session"
   ]
  },
  {
   "cell_type": "markdown",
   "id": "e778ad79",
   "metadata": {
    "papermill": {
     "duration": 0.023736,
     "end_time": "2024-03-11T05:10:02.598470",
     "exception": false,
     "start_time": "2024-03-11T05:10:02.574734",
     "status": "completed"
    },
    "tags": []
   },
   "source": [
    "## <b><div style='padding:15px;background-color:#008849;color:white;border-radius:2px;font-size:110%;text-align: center'>1  |  About Dataset</div></b>"
   ]
  },
  {
   "cell_type": "markdown",
   "id": "9b1aa143",
   "metadata": {
    "papermill": {
     "duration": 0.021542,
     "end_time": "2024-03-11T05:10:02.642613",
     "exception": false,
     "start_time": "2024-03-11T05:10:02.621071",
     "status": "completed"
    },
    "tags": []
   },
   "source": [
    "### <b><span style='color:#DEB078'>1.1 |</span><span style='color:#003f88'> Content</span></b>  "
   ]
  },
  {
   "cell_type": "markdown",
   "id": "9b902f63",
   "metadata": {
    "papermill": {
     "duration": 0.021077,
     "end_time": "2024-03-11T05:10:02.684627",
     "exception": false,
     "start_time": "2024-03-11T05:10:02.663550",
     "status": "completed"
    },
    "tags": []
   },
   "source": [
    "**About the laptops.csv file:**\n",
    "\n",
    "Brand : The name of the laptop brand.\n",
    "\n",
    "Model : The specific model or series of the laptop.\n",
    "\n",
    "Price : The price of the laptop in Indian rupees.\n",
    "\n",
    "Rating : The rating assigned to each laptop based on its specifications.\n",
    "\n",
    "Processor brand : The brand of the processor used in the laptop.\n",
    "\n",
    "Processor tier : The performance tier or category of the processor.\n",
    "\n",
    "Number of Cores : The number of processing cores in the processor.\n",
    "\n",
    "Number of Threads : The number of threads supported by the processor.\n",
    "\n",
    "Ram memory : The amount of RAM used in the laptop.\n",
    "\n",
    "Primary storage type : The type of primary storage (e.g., HDD, SSD).\n",
    "\n",
    "Primary storage capacity : The capacity of the primary storage in the laptop.\n",
    "\n",
    "Secondary storage type : The type of secondary storage, if available.\n",
    "\n",
    "Secondary storage capacity : The capacity of the secondary storage in the laptop.\n",
    "\n",
    "GPU brand : The brand of the graphics processing unit (GPU).\n",
    "\n",
    "GPU type : The type of the GPU.\n",
    "\n",
    "Is Touch screen : Indicates whether the laptop has a touch screen feature.\n",
    "\n",
    "Display size : The size of the laptop display in inches.\n",
    "\n",
    "Resolution width : The width resolution of the display.\n",
    "\n",
    "Resolution height : The height resolution of the display.\n",
    "\n",
    "OS : The operating system installed on the laptop.\n",
    "\n",
    "Year of warranty : The duration of the warranty provided for the laptop, usually in years"
   ]
  },
  {
   "cell_type": "markdown",
   "id": "92c71ce7",
   "metadata": {
    "papermill": {
     "duration": 0.022925,
     "end_time": "2024-03-11T05:10:02.728578",
     "exception": false,
     "start_time": "2024-03-11T05:10:02.705653",
     "status": "completed"
    },
    "tags": []
   },
   "source": [
    "### <b><span style='color:#DEB078'>1.2 |</span><span style='color:#003f88'> Context</span></b>  "
   ]
  },
  {
   "cell_type": "markdown",
   "id": "5363afbf",
   "metadata": {
    "papermill": {
     "duration": 0.020104,
     "end_time": "2024-03-11T05:10:02.770602",
     "exception": false,
     "start_time": "2024-03-11T05:10:02.750498",
     "status": "completed"
    },
    "tags": []
   },
   "source": [
    "## About this file\n",
    "\n",
    "**This meticulously cleaned dataset presents a comprehensive collection of 991 unique laptops sourced from the 'Smartprix' website. Enriched with 22 features including laptop name, price in Indian rupees, processor, GPU, and more, it provides valuable insights for building robust price prediction models and effective recommendation systems. Updated as of January 14, 2024, this dataset is a reliable foundation for exploring the intricate landscape of laptop pricing dynamics and consumer preferences**"
   ]
  },
  {
   "cell_type": "markdown",
   "id": "b2f521cc",
   "metadata": {
    "papermill": {
     "duration": 0.022918,
     "end_time": "2024-03-11T05:10:02.815067",
     "exception": false,
     "start_time": "2024-03-11T05:10:02.792149",
     "status": "completed"
    },
    "tags": []
   },
   "source": [
    "## <b><div style='padding:15px;background-color:#008849;color:white;border-radius:2px;font-size:110%;text-align: center'>2  |  Libraries</div></b>"
   ]
  },
  {
   "cell_type": "code",
   "execution_count": 2,
   "id": "29968d23",
   "metadata": {
    "execution": {
     "iopub.execute_input": "2024-03-11T05:10:02.860969Z",
     "iopub.status.busy": "2024-03-11T05:10:02.859461Z",
     "iopub.status.idle": "2024-03-11T05:10:21.462211Z",
     "shell.execute_reply": "2024-03-11T05:10:21.460672Z"
    },
    "papermill": {
     "duration": 18.628231,
     "end_time": "2024-03-11T05:10:21.465456",
     "exception": false,
     "start_time": "2024-03-11T05:10:02.837225",
     "status": "completed"
    },
    "tags": []
   },
   "outputs": [
    {
     "name": "stdout",
     "output_type": "stream",
     "text": [
      "Requirement already satisfied: plotly==5.18.0 in /opt/conda/lib/python3.10/site-packages (5.18.0)\r\n",
      "Requirement already satisfied: tenacity>=6.2.0 in /opt/conda/lib/python3.10/site-packages (from plotly==5.18.0) (8.2.3)\r\n",
      "Requirement already satisfied: packaging in /opt/conda/lib/python3.10/site-packages (from plotly==5.18.0) (21.3)\r\n",
      "Requirement already satisfied: pyparsing!=3.0.5,>=2.0.2 in /opt/conda/lib/python3.10/site-packages (from packaging->plotly==5.18.0) (3.1.1)\r\n"
     ]
    }
   ],
   "source": [
    "!pip install plotly==5.18.0\n",
    "import plotly.graph_objects as go\n",
    "import matplotlib.pyplot as plt\n",
    "import pandas as pd\n",
    "import numpy as np\n",
    "import seaborn as sns\n",
    "\n",
    "pd.set_option('display.max_columns', None)\n",
    "sns.set_style(\"whitegrid\")\n",
    "\n",
    "import warnings\n",
    "warnings.filterwarnings('ignore')"
   ]
  },
  {
   "cell_type": "markdown",
   "id": "d1ac9e85",
   "metadata": {
    "papermill": {
     "duration": 0.020321,
     "end_time": "2024-03-11T05:10:21.507883",
     "exception": false,
     "start_time": "2024-03-11T05:10:21.487562",
     "status": "completed"
    },
    "tags": []
   },
   "source": [
    "## <b><div style='padding:15px;background-color:#008849;color:white;border-radius:2px;font-size:110%;text-align: center'>3  |  Dataset</div></b>\n"
   ]
  },
  {
   "cell_type": "code",
   "execution_count": 3,
   "id": "297ad25f",
   "metadata": {
    "execution": {
     "iopub.execute_input": "2024-03-11T05:10:21.553793Z",
     "iopub.status.busy": "2024-03-11T05:10:21.553322Z",
     "iopub.status.idle": "2024-03-11T05:10:21.588356Z",
     "shell.execute_reply": "2024-03-11T05:10:21.587185Z"
    },
    "papermill": {
     "duration": 0.061818,
     "end_time": "2024-03-11T05:10:21.590941",
     "exception": false,
     "start_time": "2024-03-11T05:10:21.529123",
     "status": "completed"
    },
    "tags": []
   },
   "outputs": [],
   "source": [
    "# Download data\n",
    "\n",
    "df = pd.read_csv('/kaggle/input/brand-laptops-dataset/laptops.csv')"
   ]
  },
  {
   "cell_type": "code",
   "execution_count": 4,
   "id": "e5985bf3",
   "metadata": {
    "execution": {
     "iopub.execute_input": "2024-03-11T05:10:21.636823Z",
     "iopub.status.busy": "2024-03-11T05:10:21.635890Z",
     "iopub.status.idle": "2024-03-11T05:10:21.669274Z",
     "shell.execute_reply": "2024-03-11T05:10:21.667887Z"
    },
    "papermill": {
     "duration": 0.059724,
     "end_time": "2024-03-11T05:10:21.672189",
     "exception": false,
     "start_time": "2024-03-11T05:10:21.612465",
     "status": "completed"
    },
    "tags": []
   },
   "outputs": [
    {
     "data": {
      "text/html": [
       "<div>\n",
       "<style scoped>\n",
       "    .dataframe tbody tr th:only-of-type {\n",
       "        vertical-align: middle;\n",
       "    }\n",
       "\n",
       "    .dataframe tbody tr th {\n",
       "        vertical-align: top;\n",
       "    }\n",
       "\n",
       "    .dataframe thead th {\n",
       "        text-align: right;\n",
       "    }\n",
       "</style>\n",
       "<table border=\"1\" class=\"dataframe\">\n",
       "  <thead>\n",
       "    <tr style=\"text-align: right;\">\n",
       "      <th></th>\n",
       "      <th>index</th>\n",
       "      <th>brand</th>\n",
       "      <th>Model</th>\n",
       "      <th>Price</th>\n",
       "      <th>Rating</th>\n",
       "      <th>processor_brand</th>\n",
       "      <th>processor_tier</th>\n",
       "      <th>num_cores</th>\n",
       "      <th>num_threads</th>\n",
       "      <th>ram_memory</th>\n",
       "      <th>primary_storage_type</th>\n",
       "      <th>primary_storage_capacity</th>\n",
       "      <th>secondary_storage_type</th>\n",
       "      <th>secondary_storage_capacity</th>\n",
       "      <th>gpu_brand</th>\n",
       "      <th>gpu_type</th>\n",
       "      <th>is_touch_screen</th>\n",
       "      <th>display_size</th>\n",
       "      <th>resolution_width</th>\n",
       "      <th>resolution_height</th>\n",
       "      <th>OS</th>\n",
       "      <th>year_of_warranty</th>\n",
       "    </tr>\n",
       "  </thead>\n",
       "  <tbody>\n",
       "    <tr>\n",
       "      <th>0</th>\n",
       "      <td>1</td>\n",
       "      <td>tecno</td>\n",
       "      <td>Tecno Megabook T1 Laptop (11th Gen Core i3/ 8G...</td>\n",
       "      <td>23990</td>\n",
       "      <td>63</td>\n",
       "      <td>intel</td>\n",
       "      <td>core i3</td>\n",
       "      <td>2</td>\n",
       "      <td>4</td>\n",
       "      <td>8</td>\n",
       "      <td>SSD</td>\n",
       "      <td>512</td>\n",
       "      <td>No secondary storage</td>\n",
       "      <td>0</td>\n",
       "      <td>intel</td>\n",
       "      <td>integrated</td>\n",
       "      <td>False</td>\n",
       "      <td>15.6</td>\n",
       "      <td>1920</td>\n",
       "      <td>1080</td>\n",
       "      <td>windows</td>\n",
       "      <td>1</td>\n",
       "    </tr>\n",
       "    <tr>\n",
       "      <th>1</th>\n",
       "      <td>2</td>\n",
       "      <td>tecno</td>\n",
       "      <td>Tecno Megabook T1 Laptop (11th Gen Core i7/ 16...</td>\n",
       "      <td>35990</td>\n",
       "      <td>67</td>\n",
       "      <td>intel</td>\n",
       "      <td>core i7</td>\n",
       "      <td>4</td>\n",
       "      <td>8</td>\n",
       "      <td>16</td>\n",
       "      <td>SSD</td>\n",
       "      <td>1024</td>\n",
       "      <td>No secondary storage</td>\n",
       "      <td>0</td>\n",
       "      <td>intel</td>\n",
       "      <td>integrated</td>\n",
       "      <td>False</td>\n",
       "      <td>15.6</td>\n",
       "      <td>1920</td>\n",
       "      <td>1080</td>\n",
       "      <td>windows</td>\n",
       "      <td>1</td>\n",
       "    </tr>\n",
       "    <tr>\n",
       "      <th>2</th>\n",
       "      <td>3</td>\n",
       "      <td>hp</td>\n",
       "      <td>HP Victus 15-fb0157AX Gaming Laptop (AMD Ryzen...</td>\n",
       "      <td>51100</td>\n",
       "      <td>73</td>\n",
       "      <td>amd</td>\n",
       "      <td>ryzen 5</td>\n",
       "      <td>6</td>\n",
       "      <td>12</td>\n",
       "      <td>8</td>\n",
       "      <td>SSD</td>\n",
       "      <td>512</td>\n",
       "      <td>No secondary storage</td>\n",
       "      <td>0</td>\n",
       "      <td>amd</td>\n",
       "      <td>dedicated</td>\n",
       "      <td>False</td>\n",
       "      <td>15.6</td>\n",
       "      <td>1920</td>\n",
       "      <td>1080</td>\n",
       "      <td>windows</td>\n",
       "      <td>1</td>\n",
       "    </tr>\n",
       "    <tr>\n",
       "      <th>3</th>\n",
       "      <td>4</td>\n",
       "      <td>acer</td>\n",
       "      <td>Acer Extensa EX214-53 Laptop (12th Gen Core i5...</td>\n",
       "      <td>39990</td>\n",
       "      <td>62</td>\n",
       "      <td>intel</td>\n",
       "      <td>core i5</td>\n",
       "      <td>12</td>\n",
       "      <td>16</td>\n",
       "      <td>8</td>\n",
       "      <td>SSD</td>\n",
       "      <td>512</td>\n",
       "      <td>No secondary storage</td>\n",
       "      <td>0</td>\n",
       "      <td>intel</td>\n",
       "      <td>integrated</td>\n",
       "      <td>False</td>\n",
       "      <td>14.0</td>\n",
       "      <td>1920</td>\n",
       "      <td>1080</td>\n",
       "      <td>windows</td>\n",
       "      <td>1</td>\n",
       "    </tr>\n",
       "    <tr>\n",
       "      <th>4</th>\n",
       "      <td>5</td>\n",
       "      <td>lenovo</td>\n",
       "      <td>Lenovo V15 82KDA01BIH Laptop (AMD Ryzen 3 5300...</td>\n",
       "      <td>28580</td>\n",
       "      <td>62</td>\n",
       "      <td>amd</td>\n",
       "      <td>ryzen 3</td>\n",
       "      <td>4</td>\n",
       "      <td>8</td>\n",
       "      <td>8</td>\n",
       "      <td>SSD</td>\n",
       "      <td>512</td>\n",
       "      <td>No secondary storage</td>\n",
       "      <td>0</td>\n",
       "      <td>amd</td>\n",
       "      <td>integrated</td>\n",
       "      <td>False</td>\n",
       "      <td>15.6</td>\n",
       "      <td>1920</td>\n",
       "      <td>1080</td>\n",
       "      <td>windows</td>\n",
       "      <td>1</td>\n",
       "    </tr>\n",
       "  </tbody>\n",
       "</table>\n",
       "</div>"
      ],
      "text/plain": [
       "   index   brand                                              Model  Price  \\\n",
       "0      1   tecno  Tecno Megabook T1 Laptop (11th Gen Core i3/ 8G...  23990   \n",
       "1      2   tecno  Tecno Megabook T1 Laptop (11th Gen Core i7/ 16...  35990   \n",
       "2      3      hp  HP Victus 15-fb0157AX Gaming Laptop (AMD Ryzen...  51100   \n",
       "3      4    acer  Acer Extensa EX214-53 Laptop (12th Gen Core i5...  39990   \n",
       "4      5  lenovo  Lenovo V15 82KDA01BIH Laptop (AMD Ryzen 3 5300...  28580   \n",
       "\n",
       "   Rating processor_brand processor_tier  num_cores  num_threads  ram_memory  \\\n",
       "0      63           intel        core i3          2            4           8   \n",
       "1      67           intel        core i7          4            8          16   \n",
       "2      73             amd        ryzen 5          6           12           8   \n",
       "3      62           intel        core i5         12           16           8   \n",
       "4      62             amd        ryzen 3          4            8           8   \n",
       "\n",
       "  primary_storage_type  primary_storage_capacity secondary_storage_type  \\\n",
       "0                  SSD                       512   No secondary storage   \n",
       "1                  SSD                      1024   No secondary storage   \n",
       "2                  SSD                       512   No secondary storage   \n",
       "3                  SSD                       512   No secondary storage   \n",
       "4                  SSD                       512   No secondary storage   \n",
       "\n",
       "   secondary_storage_capacity gpu_brand    gpu_type  is_touch_screen  \\\n",
       "0                           0     intel  integrated            False   \n",
       "1                           0     intel  integrated            False   \n",
       "2                           0       amd   dedicated            False   \n",
       "3                           0     intel  integrated            False   \n",
       "4                           0       amd  integrated            False   \n",
       "\n",
       "   display_size  resolution_width  resolution_height       OS year_of_warranty  \n",
       "0          15.6              1920               1080  windows                1  \n",
       "1          15.6              1920               1080  windows                1  \n",
       "2          15.6              1920               1080  windows                1  \n",
       "3          14.0              1920               1080  windows                1  \n",
       "4          15.6              1920               1080  windows                1  "
      ]
     },
     "execution_count": 4,
     "metadata": {},
     "output_type": "execute_result"
    }
   ],
   "source": [
    "df.head()"
   ]
  },
  {
   "cell_type": "markdown",
   "id": "1e59e8ef",
   "metadata": {
    "papermill": {
     "duration": 0.020914,
     "end_time": "2024-03-11T05:10:21.714015",
     "exception": false,
     "start_time": "2024-03-11T05:10:21.693101",
     "status": "completed"
    },
    "tags": []
   },
   "source": [
    "## <b><div style='padding:15px;background-color:#008849;color:white;border-radius:2px;font-size:110%;text-align: center'>4  |  Inspecting Dataframe Structure</div></b>"
   ]
  },
  {
   "cell_type": "code",
   "execution_count": 5,
   "id": "ee6135d7",
   "metadata": {
    "execution": {
     "iopub.execute_input": "2024-03-11T05:10:21.758120Z",
     "iopub.status.busy": "2024-03-11T05:10:21.757694Z",
     "iopub.status.idle": "2024-03-11T05:10:21.776575Z",
     "shell.execute_reply": "2024-03-11T05:10:21.775245Z"
    },
    "papermill": {
     "duration": 0.044138,
     "end_time": "2024-03-11T05:10:21.779240",
     "exception": false,
     "start_time": "2024-03-11T05:10:21.735102",
     "status": "completed"
    },
    "tags": []
   },
   "outputs": [
    {
     "data": {
      "text/html": [
       "<div>\n",
       "<style scoped>\n",
       "    .dataframe tbody tr th:only-of-type {\n",
       "        vertical-align: middle;\n",
       "    }\n",
       "\n",
       "    .dataframe tbody tr th {\n",
       "        vertical-align: top;\n",
       "    }\n",
       "\n",
       "    .dataframe thead th {\n",
       "        text-align: right;\n",
       "    }\n",
       "</style>\n",
       "<table border=\"1\" class=\"dataframe\">\n",
       "  <thead>\n",
       "    <tr style=\"text-align: right;\">\n",
       "      <th></th>\n",
       "      <th>0</th>\n",
       "      <th>1</th>\n",
       "      <th>2</th>\n",
       "      <th>3</th>\n",
       "      <th>4</th>\n",
       "    </tr>\n",
       "  </thead>\n",
       "  <tbody>\n",
       "    <tr>\n",
       "      <th>index</th>\n",
       "      <td>1</td>\n",
       "      <td>2</td>\n",
       "      <td>3</td>\n",
       "      <td>4</td>\n",
       "      <td>5</td>\n",
       "    </tr>\n",
       "    <tr>\n",
       "      <th>brand</th>\n",
       "      <td>tecno</td>\n",
       "      <td>tecno</td>\n",
       "      <td>hp</td>\n",
       "      <td>acer</td>\n",
       "      <td>lenovo</td>\n",
       "    </tr>\n",
       "    <tr>\n",
       "      <th>Model</th>\n",
       "      <td>Tecno Megabook T1 Laptop (11th Gen Core i3/ 8G...</td>\n",
       "      <td>Tecno Megabook T1 Laptop (11th Gen Core i7/ 16...</td>\n",
       "      <td>HP Victus 15-fb0157AX Gaming Laptop (AMD Ryzen...</td>\n",
       "      <td>Acer Extensa EX214-53 Laptop (12th Gen Core i5...</td>\n",
       "      <td>Lenovo V15 82KDA01BIH Laptop (AMD Ryzen 3 5300...</td>\n",
       "    </tr>\n",
       "    <tr>\n",
       "      <th>Price</th>\n",
       "      <td>23990</td>\n",
       "      <td>35990</td>\n",
       "      <td>51100</td>\n",
       "      <td>39990</td>\n",
       "      <td>28580</td>\n",
       "    </tr>\n",
       "    <tr>\n",
       "      <th>Rating</th>\n",
       "      <td>63</td>\n",
       "      <td>67</td>\n",
       "      <td>73</td>\n",
       "      <td>62</td>\n",
       "      <td>62</td>\n",
       "    </tr>\n",
       "    <tr>\n",
       "      <th>processor_brand</th>\n",
       "      <td>intel</td>\n",
       "      <td>intel</td>\n",
       "      <td>amd</td>\n",
       "      <td>intel</td>\n",
       "      <td>amd</td>\n",
       "    </tr>\n",
       "    <tr>\n",
       "      <th>processor_tier</th>\n",
       "      <td>core i3</td>\n",
       "      <td>core i7</td>\n",
       "      <td>ryzen 5</td>\n",
       "      <td>core i5</td>\n",
       "      <td>ryzen 3</td>\n",
       "    </tr>\n",
       "    <tr>\n",
       "      <th>num_cores</th>\n",
       "      <td>2</td>\n",
       "      <td>4</td>\n",
       "      <td>6</td>\n",
       "      <td>12</td>\n",
       "      <td>4</td>\n",
       "    </tr>\n",
       "    <tr>\n",
       "      <th>num_threads</th>\n",
       "      <td>4</td>\n",
       "      <td>8</td>\n",
       "      <td>12</td>\n",
       "      <td>16</td>\n",
       "      <td>8</td>\n",
       "    </tr>\n",
       "    <tr>\n",
       "      <th>ram_memory</th>\n",
       "      <td>8</td>\n",
       "      <td>16</td>\n",
       "      <td>8</td>\n",
       "      <td>8</td>\n",
       "      <td>8</td>\n",
       "    </tr>\n",
       "    <tr>\n",
       "      <th>primary_storage_type</th>\n",
       "      <td>SSD</td>\n",
       "      <td>SSD</td>\n",
       "      <td>SSD</td>\n",
       "      <td>SSD</td>\n",
       "      <td>SSD</td>\n",
       "    </tr>\n",
       "    <tr>\n",
       "      <th>primary_storage_capacity</th>\n",
       "      <td>512</td>\n",
       "      <td>1024</td>\n",
       "      <td>512</td>\n",
       "      <td>512</td>\n",
       "      <td>512</td>\n",
       "    </tr>\n",
       "    <tr>\n",
       "      <th>secondary_storage_type</th>\n",
       "      <td>No secondary storage</td>\n",
       "      <td>No secondary storage</td>\n",
       "      <td>No secondary storage</td>\n",
       "      <td>No secondary storage</td>\n",
       "      <td>No secondary storage</td>\n",
       "    </tr>\n",
       "    <tr>\n",
       "      <th>secondary_storage_capacity</th>\n",
       "      <td>0</td>\n",
       "      <td>0</td>\n",
       "      <td>0</td>\n",
       "      <td>0</td>\n",
       "      <td>0</td>\n",
       "    </tr>\n",
       "    <tr>\n",
       "      <th>gpu_brand</th>\n",
       "      <td>intel</td>\n",
       "      <td>intel</td>\n",
       "      <td>amd</td>\n",
       "      <td>intel</td>\n",
       "      <td>amd</td>\n",
       "    </tr>\n",
       "    <tr>\n",
       "      <th>gpu_type</th>\n",
       "      <td>integrated</td>\n",
       "      <td>integrated</td>\n",
       "      <td>dedicated</td>\n",
       "      <td>integrated</td>\n",
       "      <td>integrated</td>\n",
       "    </tr>\n",
       "    <tr>\n",
       "      <th>is_touch_screen</th>\n",
       "      <td>False</td>\n",
       "      <td>False</td>\n",
       "      <td>False</td>\n",
       "      <td>False</td>\n",
       "      <td>False</td>\n",
       "    </tr>\n",
       "    <tr>\n",
       "      <th>display_size</th>\n",
       "      <td>15.6</td>\n",
       "      <td>15.6</td>\n",
       "      <td>15.6</td>\n",
       "      <td>14.0</td>\n",
       "      <td>15.6</td>\n",
       "    </tr>\n",
       "    <tr>\n",
       "      <th>resolution_width</th>\n",
       "      <td>1920</td>\n",
       "      <td>1920</td>\n",
       "      <td>1920</td>\n",
       "      <td>1920</td>\n",
       "      <td>1920</td>\n",
       "    </tr>\n",
       "    <tr>\n",
       "      <th>resolution_height</th>\n",
       "      <td>1080</td>\n",
       "      <td>1080</td>\n",
       "      <td>1080</td>\n",
       "      <td>1080</td>\n",
       "      <td>1080</td>\n",
       "    </tr>\n",
       "    <tr>\n",
       "      <th>OS</th>\n",
       "      <td>windows</td>\n",
       "      <td>windows</td>\n",
       "      <td>windows</td>\n",
       "      <td>windows</td>\n",
       "      <td>windows</td>\n",
       "    </tr>\n",
       "    <tr>\n",
       "      <th>year_of_warranty</th>\n",
       "      <td>1</td>\n",
       "      <td>1</td>\n",
       "      <td>1</td>\n",
       "      <td>1</td>\n",
       "      <td>1</td>\n",
       "    </tr>\n",
       "  </tbody>\n",
       "</table>\n",
       "</div>"
      ],
      "text/plain": [
       "                                                                            0  \\\n",
       "index                                                                       1   \n",
       "brand                                                                   tecno   \n",
       "Model                       Tecno Megabook T1 Laptop (11th Gen Core i3/ 8G...   \n",
       "Price                                                                   23990   \n",
       "Rating                                                                     63   \n",
       "processor_brand                                                         intel   \n",
       "processor_tier                                                        core i3   \n",
       "num_cores                                                                   2   \n",
       "num_threads                                                                 4   \n",
       "ram_memory                                                                  8   \n",
       "primary_storage_type                                                      SSD   \n",
       "primary_storage_capacity                                                  512   \n",
       "secondary_storage_type                                   No secondary storage   \n",
       "secondary_storage_capacity                                                  0   \n",
       "gpu_brand                                                               intel   \n",
       "gpu_type                                                           integrated   \n",
       "is_touch_screen                                                         False   \n",
       "display_size                                                             15.6   \n",
       "resolution_width                                                         1920   \n",
       "resolution_height                                                        1080   \n",
       "OS                                                                    windows   \n",
       "year_of_warranty                                                            1   \n",
       "\n",
       "                                                                            1  \\\n",
       "index                                                                       2   \n",
       "brand                                                                   tecno   \n",
       "Model                       Tecno Megabook T1 Laptop (11th Gen Core i7/ 16...   \n",
       "Price                                                                   35990   \n",
       "Rating                                                                     67   \n",
       "processor_brand                                                         intel   \n",
       "processor_tier                                                        core i7   \n",
       "num_cores                                                                   4   \n",
       "num_threads                                                                 8   \n",
       "ram_memory                                                                 16   \n",
       "primary_storage_type                                                      SSD   \n",
       "primary_storage_capacity                                                 1024   \n",
       "secondary_storage_type                                   No secondary storage   \n",
       "secondary_storage_capacity                                                  0   \n",
       "gpu_brand                                                               intel   \n",
       "gpu_type                                                           integrated   \n",
       "is_touch_screen                                                         False   \n",
       "display_size                                                             15.6   \n",
       "resolution_width                                                         1920   \n",
       "resolution_height                                                        1080   \n",
       "OS                                                                    windows   \n",
       "year_of_warranty                                                            1   \n",
       "\n",
       "                                                                            2  \\\n",
       "index                                                                       3   \n",
       "brand                                                                      hp   \n",
       "Model                       HP Victus 15-fb0157AX Gaming Laptop (AMD Ryzen...   \n",
       "Price                                                                   51100   \n",
       "Rating                                                                     73   \n",
       "processor_brand                                                           amd   \n",
       "processor_tier                                                        ryzen 5   \n",
       "num_cores                                                                   6   \n",
       "num_threads                                                                12   \n",
       "ram_memory                                                                  8   \n",
       "primary_storage_type                                                      SSD   \n",
       "primary_storage_capacity                                                  512   \n",
       "secondary_storage_type                                   No secondary storage   \n",
       "secondary_storage_capacity                                                  0   \n",
       "gpu_brand                                                                 amd   \n",
       "gpu_type                                                            dedicated   \n",
       "is_touch_screen                                                         False   \n",
       "display_size                                                             15.6   \n",
       "resolution_width                                                         1920   \n",
       "resolution_height                                                        1080   \n",
       "OS                                                                    windows   \n",
       "year_of_warranty                                                            1   \n",
       "\n",
       "                                                                            3  \\\n",
       "index                                                                       4   \n",
       "brand                                                                    acer   \n",
       "Model                       Acer Extensa EX214-53 Laptop (12th Gen Core i5...   \n",
       "Price                                                                   39990   \n",
       "Rating                                                                     62   \n",
       "processor_brand                                                         intel   \n",
       "processor_tier                                                        core i5   \n",
       "num_cores                                                                  12   \n",
       "num_threads                                                                16   \n",
       "ram_memory                                                                  8   \n",
       "primary_storage_type                                                      SSD   \n",
       "primary_storage_capacity                                                  512   \n",
       "secondary_storage_type                                   No secondary storage   \n",
       "secondary_storage_capacity                                                  0   \n",
       "gpu_brand                                                               intel   \n",
       "gpu_type                                                           integrated   \n",
       "is_touch_screen                                                         False   \n",
       "display_size                                                             14.0   \n",
       "resolution_width                                                         1920   \n",
       "resolution_height                                                        1080   \n",
       "OS                                                                    windows   \n",
       "year_of_warranty                                                            1   \n",
       "\n",
       "                                                                            4  \n",
       "index                                                                       5  \n",
       "brand                                                                  lenovo  \n",
       "Model                       Lenovo V15 82KDA01BIH Laptop (AMD Ryzen 3 5300...  \n",
       "Price                                                                   28580  \n",
       "Rating                                                                     62  \n",
       "processor_brand                                                           amd  \n",
       "processor_tier                                                        ryzen 3  \n",
       "num_cores                                                                   4  \n",
       "num_threads                                                                 8  \n",
       "ram_memory                                                                  8  \n",
       "primary_storage_type                                                      SSD  \n",
       "primary_storage_capacity                                                  512  \n",
       "secondary_storage_type                                   No secondary storage  \n",
       "secondary_storage_capacity                                                  0  \n",
       "gpu_brand                                                                 amd  \n",
       "gpu_type                                                           integrated  \n",
       "is_touch_screen                                                         False  \n",
       "display_size                                                             15.6  \n",
       "resolution_width                                                         1920  \n",
       "resolution_height                                                        1080  \n",
       "OS                                                                    windows  \n",
       "year_of_warranty                                                            1  "
      ]
     },
     "metadata": {},
     "output_type": "display_data"
    }
   ],
   "source": [
    "display(df[0:5].T)"
   ]
  },
  {
   "cell_type": "code",
   "execution_count": 6,
   "id": "9632dbab",
   "metadata": {
    "execution": {
     "iopub.execute_input": "2024-03-11T05:10:21.825981Z",
     "iopub.status.busy": "2024-03-11T05:10:21.825299Z",
     "iopub.status.idle": "2024-03-11T05:10:21.837289Z",
     "shell.execute_reply": "2024-03-11T05:10:21.836096Z"
    },
    "papermill": {
     "duration": 0.03913,
     "end_time": "2024-03-11T05:10:21.840141",
     "exception": false,
     "start_time": "2024-03-11T05:10:21.801011",
     "status": "completed"
    },
    "tags": []
   },
   "outputs": [],
   "source": [
    "# Delete the 'index' column\n",
    "df.drop([\"index\"], axis=1, inplace=True)"
   ]
  },
  {
   "cell_type": "code",
   "execution_count": 7,
   "id": "892834ec",
   "metadata": {
    "execution": {
     "iopub.execute_input": "2024-03-11T05:10:21.886334Z",
     "iopub.status.busy": "2024-03-11T05:10:21.885627Z",
     "iopub.status.idle": "2024-03-11T05:10:21.916023Z",
     "shell.execute_reply": "2024-03-11T05:10:21.914726Z"
    },
    "papermill": {
     "duration": 0.057597,
     "end_time": "2024-03-11T05:10:21.919643",
     "exception": false,
     "start_time": "2024-03-11T05:10:21.862046",
     "status": "completed"
    },
    "tags": []
   },
   "outputs": [
    {
     "name": "stdout",
     "output_type": "stream",
     "text": [
      "<class 'pandas.core.frame.DataFrame'>\n",
      "RangeIndex: 991 entries, 0 to 990\n",
      "Data columns (total 21 columns):\n",
      " #   Column                      Non-Null Count  Dtype  \n",
      "---  ------                      --------------  -----  \n",
      " 0   brand                       991 non-null    object \n",
      " 1   Model                       991 non-null    object \n",
      " 2   Price                       991 non-null    int64  \n",
      " 3   Rating                      991 non-null    int64  \n",
      " 4   processor_brand             991 non-null    object \n",
      " 5   processor_tier              991 non-null    object \n",
      " 6   num_cores                   991 non-null    int64  \n",
      " 7   num_threads                 991 non-null    int64  \n",
      " 8   ram_memory                  991 non-null    int64  \n",
      " 9   primary_storage_type        991 non-null    object \n",
      " 10  primary_storage_capacity    991 non-null    int64  \n",
      " 11  secondary_storage_type      991 non-null    object \n",
      " 12  secondary_storage_capacity  991 non-null    int64  \n",
      " 13  gpu_brand                   991 non-null    object \n",
      " 14  gpu_type                    991 non-null    object \n",
      " 15  is_touch_screen             991 non-null    bool   \n",
      " 16  display_size                991 non-null    float64\n",
      " 17  resolution_width            991 non-null    int64  \n",
      " 18  resolution_height           991 non-null    int64  \n",
      " 19  OS                          991 non-null    object \n",
      " 20  year_of_warranty            991 non-null    object \n",
      "dtypes: bool(1), float64(1), int64(9), object(10)\n",
      "memory usage: 155.9+ KB\n"
     ]
    }
   ],
   "source": [
    "df.info()"
   ]
  },
  {
   "cell_type": "markdown",
   "id": "2e2b9150",
   "metadata": {
    "papermill": {
     "duration": 0.021227,
     "end_time": "2024-03-11T05:10:21.963243",
     "exception": false,
     "start_time": "2024-03-11T05:10:21.942016",
     "status": "completed"
    },
    "tags": []
   },
   "source": [
    "### <b><span style='color:#DEB078'>4.1 |</span><span style='color:#008849'> Duplicated</span></b> "
   ]
  },
  {
   "cell_type": "code",
   "execution_count": 8,
   "id": "ebc784a0",
   "metadata": {
    "execution": {
     "iopub.execute_input": "2024-03-11T05:10:22.009137Z",
     "iopub.status.busy": "2024-03-11T05:10:22.007803Z",
     "iopub.status.idle": "2024-03-11T05:10:22.020036Z",
     "shell.execute_reply": "2024-03-11T05:10:22.018772Z"
    },
    "papermill": {
     "duration": 0.037722,
     "end_time": "2024-03-11T05:10:22.022694",
     "exception": false,
     "start_time": "2024-03-11T05:10:21.984972",
     "status": "completed"
    },
    "tags": []
   },
   "outputs": [
    {
     "data": {
      "text/plain": [
       "0"
      ]
     },
     "execution_count": 8,
     "metadata": {},
     "output_type": "execute_result"
    }
   ],
   "source": [
    "df.duplicated().sum()"
   ]
  },
  {
   "cell_type": "markdown",
   "id": "46d913de",
   "metadata": {
    "papermill": {
     "duration": 0.021675,
     "end_time": "2024-03-11T05:10:22.066346",
     "exception": false,
     "start_time": "2024-03-11T05:10:22.044671",
     "status": "completed"
    },
    "tags": []
   },
   "source": [
    "<div class=\"alert alert-block alert-info\" style=\"background-color:caf0f8;color:#008849;border-color:black;width:80%;margin: auto;text-align: center;\">\n",
    "<b>Insight:</b> No duplicate data.</div>"
   ]
  },
  {
   "cell_type": "markdown",
   "id": "037718fc",
   "metadata": {
    "execution": {
     "iopub.execute_input": "2022-08-04T16:38:10.343489Z",
     "iopub.status.busy": "2022-08-04T16:38:10.343034Z",
     "iopub.status.idle": "2022-08-04T16:38:10.350486Z",
     "shell.execute_reply": "2022-08-04T16:38:10.348806Z",
     "shell.execute_reply.started": "2022-08-04T16:38:10.343453Z"
    },
    "papermill": {
     "duration": 0.021725,
     "end_time": "2024-03-11T05:10:22.110392",
     "exception": false,
     "start_time": "2024-03-11T05:10:22.088667",
     "status": "completed"
    },
    "tags": []
   },
   "source": [
    "### <b><span style='color:#DEB078'>4.2 |</span><span style='color:#008849'> NaN</span></b> "
   ]
  },
  {
   "cell_type": "code",
   "execution_count": 9,
   "id": "937edb9e",
   "metadata": {
    "execution": {
     "iopub.execute_input": "2024-03-11T05:10:22.158287Z",
     "iopub.status.busy": "2024-03-11T05:10:22.157151Z",
     "iopub.status.idle": "2024-03-11T05:10:22.166545Z",
     "shell.execute_reply": "2024-03-11T05:10:22.165134Z"
    },
    "papermill": {
     "duration": 0.03666,
     "end_time": "2024-03-11T05:10:22.168925",
     "exception": false,
     "start_time": "2024-03-11T05:10:22.132265",
     "status": "completed"
    },
    "tags": []
   },
   "outputs": [
    {
     "name": "stdout",
     "output_type": "stream",
     "text": [
      "0\n"
     ]
    }
   ],
   "source": [
    "# isnull\n",
    "print(df.isnull().sum().sum())"
   ]
  },
  {
   "cell_type": "markdown",
   "id": "9e81b9f6",
   "metadata": {
    "papermill": {
     "duration": 0.022054,
     "end_time": "2024-03-11T05:10:22.278513",
     "exception": false,
     "start_time": "2024-03-11T05:10:22.256459",
     "status": "completed"
    },
    "tags": []
   },
   "source": [
    "<div class=\"alert alert-block alert-info\" style=\"background-color:caf0f8;color:#008849;border-color:black;width:80%;margin: auto;text-align: center;\">\n",
    "<b>Insight:</b> No Null data data.</div>"
   ]
  },
  {
   "cell_type": "markdown",
   "id": "e7da812a",
   "metadata": {
    "papermill": {
     "duration": 0.021715,
     "end_time": "2024-03-11T05:10:22.322303",
     "exception": false,
     "start_time": "2024-03-11T05:10:22.300588",
     "status": "completed"
    },
    "tags": []
   },
   "source": [
    "### <b><span style='color:#DEB078'>4.3 |</span><span style='color:#008849'> Outliers</span></b> "
   ]
  },
  {
   "cell_type": "code",
   "execution_count": 10,
   "id": "312c9102",
   "metadata": {
    "execution": {
     "iopub.execute_input": "2024-03-11T05:10:22.369958Z",
     "iopub.status.busy": "2024-03-11T05:10:22.369515Z",
     "iopub.status.idle": "2024-03-11T05:10:22.384533Z",
     "shell.execute_reply": "2024-03-11T05:10:22.383126Z"
    },
    "papermill": {
     "duration": 0.042216,
     "end_time": "2024-03-11T05:10:22.387264",
     "exception": false,
     "start_time": "2024-03-11T05:10:22.345048",
     "status": "completed"
    },
    "tags": []
   },
   "outputs": [
    {
     "name": "stdout",
     "output_type": "stream",
     "text": [
      "Numerical Features Count 11\n",
      "Discrete features Count 9\n",
      "Continuous features Count 2\n",
      "Categorical features Count 10\n",
      "Binary Categorical features Count 3\n"
     ]
    }
   ],
   "source": [
    "# Identify number of columns by type\n",
    "\n",
    "numerical_features = [feature for feature in df.columns if df[feature].dtypes != 'O']\n",
    "discrete_features = [feature for feature in numerical_features if len(df[feature].unique())<25]\n",
    "continuous_features = [feature for feature in numerical_features if feature not in discrete_features]\n",
    "categorical_features = [feature for feature in df.columns if feature not in numerical_features]\n",
    "binary_categorical_features = [feature for feature in categorical_features if len(df[feature].unique()) <=3]\n",
    "print(\"Numerical Features Count {}\".format(len(numerical_features)))\n",
    "print(\"Discrete features Count {}\".format(len(discrete_features)))\n",
    "print(\"Continuous features Count {}\".format(len(continuous_features)))\n",
    "print(\"Categorical features Count {}\".format(len(categorical_features)))\n",
    "print(\"Binary Categorical features Count {}\".format(len(binary_categorical_features)))"
   ]
  },
  {
   "cell_type": "code",
   "execution_count": 11,
   "id": "d371083e",
   "metadata": {
    "execution": {
     "iopub.execute_input": "2024-03-11T05:10:22.433726Z",
     "iopub.status.busy": "2024-03-11T05:10:22.432929Z",
     "iopub.status.idle": "2024-03-11T05:10:22.438969Z",
     "shell.execute_reply": "2024-03-11T05:10:22.438130Z"
    },
    "papermill": {
     "duration": 0.031845,
     "end_time": "2024-03-11T05:10:22.441066",
     "exception": false,
     "start_time": "2024-03-11T05:10:22.409221",
     "status": "completed"
    },
    "tags": []
   },
   "outputs": [
    {
     "name": "stdout",
     "output_type": "stream",
     "text": [
      "['Price', 'Rating']\n"
     ]
    }
   ],
   "source": [
    "outliers_features = [feature for feature in continuous_features if feature not in ['ID']]\n",
    "print(outliers_features)"
   ]
  },
  {
   "cell_type": "code",
   "execution_count": 12,
   "id": "bd0a2eb6",
   "metadata": {
    "execution": {
     "iopub.execute_input": "2024-03-11T05:10:22.488124Z",
     "iopub.status.busy": "2024-03-11T05:10:22.487406Z",
     "iopub.status.idle": "2024-03-11T05:10:22.495318Z",
     "shell.execute_reply": "2024-03-11T05:10:22.494088Z"
    },
    "papermill": {
     "duration": 0.035,
     "end_time": "2024-03-11T05:10:22.498159",
     "exception": false,
     "start_time": "2024-03-11T05:10:22.463159",
     "status": "completed"
    },
    "tags": []
   },
   "outputs": [],
   "source": [
    "# Delete outliers\n",
    "\n",
    "def plot_boxplot(df, continuous_features):\n",
    "    # create copy of dataframe\n",
    "    data = df[continuous_features].copy()\n",
    "    # Create subplots \n",
    "    fig, axes = plt.subplots(nrows=len(data.columns)//2, ncols=2,figsize=(8,4))\n",
    "    fig.subplots_adjust(hspace=0.7)\n",
    "    \n",
    "    # set fontdict\n",
    "    font = {'family': 'serif',\n",
    "        'color':  'darkblue',\n",
    "        'weight': 'normal',\n",
    "        'size': 16,\n",
    "        }\n",
    "    \n",
    "    # Generate distplot\n",
    "    for ax, feature in zip(axes.flatten(), data.columns):\n",
    "        sns.boxplot(data[feature],ax=ax)\n",
    "        ax.set_title(f'Analysis of {feature}', fontdict=font)\n",
    "    plt.show()"
   ]
  },
  {
   "cell_type": "code",
   "execution_count": 13,
   "id": "6432c777",
   "metadata": {
    "execution": {
     "iopub.execute_input": "2024-03-11T05:10:22.544947Z",
     "iopub.status.busy": "2024-03-11T05:10:22.544198Z",
     "iopub.status.idle": "2024-03-11T05:10:23.109338Z",
     "shell.execute_reply": "2024-03-11T05:10:23.108355Z"
    },
    "papermill": {
     "duration": 0.591334,
     "end_time": "2024-03-11T05:10:23.111723",
     "exception": false,
     "start_time": "2024-03-11T05:10:22.520389",
     "status": "completed"
    },
    "tags": []
   },
   "outputs": [
    {
     "data": {
      "image/png": "[encoded data removed]",
      "text/plain": [
       "<Figure size 800x400 with 2 Axes>"
      ]
     },
     "metadata": {},
     "output_type": "display_data"
    }
   ],
   "source": [
    "plot_boxplot(df, continuous_features)\n"
   ]
  },
  {
   "cell_type": "markdown",
   "id": "f6a3487a",
   "metadata": {
    "execution": {
     "iopub.execute_input": "2023-02-19T14:43:38.961444Z",
     "iopub.status.busy": "2023-02-19T14:43:38.959696Z",
     "iopub.status.idle": "2023-02-19T14:43:38.968429Z",
     "shell.execute_reply": "2023-02-19T14:43:38.966763Z",
     "shell.execute_reply.started": "2023-02-19T14:43:38.961380Z"
    },
    "papermill": {
     "duration": 0.024792,
     "end_time": "2024-03-11T05:10:23.159547",
     "exception": false,
     "start_time": "2024-03-11T05:10:23.134755",
     "status": "completed"
    },
    "tags": []
   },
   "source": [
    "<div class=\"alert alert-block alert-info\" style=\"background-color:caf0f8;color:#008849;border-color:black;width:80%;margin: auto;text-align: center;\">\n",
    "<b>Insight:</b> We can see outliers in the columns. Let's remove them.</div>"
   ]
  },
  {
   "cell_type": "code",
   "execution_count": 14,
   "id": "922d13aa",
   "metadata": {
    "execution": {
     "iopub.execute_input": "2024-03-11T05:10:23.207800Z",
     "iopub.status.busy": "2024-03-11T05:10:23.207096Z",
     "iopub.status.idle": "2024-03-11T05:10:23.215635Z",
     "shell.execute_reply": "2024-03-11T05:10:23.214388Z"
    },
    "papermill": {
     "duration": 0.036016,
     "end_time": "2024-03-11T05:10:23.218836",
     "exception": false,
     "start_time": "2024-03-11T05:10:23.182820",
     "status": "completed"
    },
    "tags": []
   },
   "outputs": [],
   "source": [
    "# Remove outliers\n",
    "\n",
    "def remove_outliers(df,outliers_features):\n",
    "       \n",
    "    data = df.copy()\n",
    "    \n",
    "    for feature in data[outliers_features].columns:\n",
    "        Q3 = data[feature].quantile(0.75)\n",
    "        Q1 = data[feature].quantile(0.25)\n",
    "        IQR = Q3 - Q1\n",
    "        lower_limit = round(Q1 - 1.5 * IQR)\n",
    "        upper_limit = round(Q3 + 1.5 * IQR)\n",
    "        data.loc[data[feature]>= upper_limit,feature] = upper_limit\n",
    "        data.loc[data[feature]<=lower_limit,feature] = lower_limit\n",
    "        data = data[(data[feature] < upper_limit) & (data[feature] > lower_limit)]\n",
    "    return data"
   ]
  },
  {
   "cell_type": "code",
   "execution_count": 15,
   "id": "5138acca",
   "metadata": {
    "execution": {
     "iopub.execute_input": "2024-03-11T05:10:23.269201Z",
     "iopub.status.busy": "2024-03-11T05:10:23.268359Z",
     "iopub.status.idle": "2024-03-11T05:10:23.283784Z",
     "shell.execute_reply": "2024-03-11T05:10:23.282229Z"
    },
    "papermill": {
     "duration": 0.042603,
     "end_time": "2024-03-11T05:10:23.286549",
     "exception": false,
     "start_time": "2024-03-11T05:10:23.243946",
     "status": "completed"
    },
    "tags": []
   },
   "outputs": [],
   "source": [
    "df = remove_outliers(df,outliers_features)"
   ]
  },
  {
   "cell_type": "code",
   "execution_count": 16,
   "id": "5d702336",
   "metadata": {
    "execution": {
     "iopub.execute_input": "2024-03-11T05:10:23.335414Z",
     "iopub.status.busy": "2024-03-11T05:10:23.334622Z",
     "iopub.status.idle": "2024-03-11T05:10:23.772904Z",
     "shell.execute_reply": "2024-03-11T05:10:23.771737Z"
    },
    "papermill": {
     "duration": 0.465157,
     "end_time": "2024-03-11T05:10:23.775522",
     "exception": false,
     "start_time": "2024-03-11T05:10:23.310365",
     "status": "completed"
    },
    "tags": []
   },
   "outputs": [
    {
     "data": {
      "image/png": "[encoded data removed]",
      "text/plain": [
       "<Figure size 800x400 with 2 Axes>"
      ]
     },
     "metadata": {},
     "output_type": "display_data"
    }
   ],
   "source": [
    "plot_boxplot(df, outliers_features)\n"
   ]
  },
  {
   "cell_type": "code",
   "execution_count": 17,
   "id": "dcd6df82",
   "metadata": {
    "execution": {
     "iopub.execute_input": "2024-03-11T05:10:23.824954Z",
     "iopub.status.busy": "2024-03-11T05:10:23.824475Z",
     "iopub.status.idle": "2024-03-11T05:10:23.866463Z",
     "shell.execute_reply": "2024-03-11T05:10:23.865261Z"
    },
    "papermill": {
     "duration": 0.069565,
     "end_time": "2024-03-11T05:10:23.869035",
     "exception": false,
     "start_time": "2024-03-11T05:10:23.799470",
     "status": "completed"
    },
    "tags": []
   },
   "outputs": [
    {
     "data": {
      "text/html": [
       "<div>\n",
       "<style scoped>\n",
       "    .dataframe tbody tr th:only-of-type {\n",
       "        vertical-align: middle;\n",
       "    }\n",
       "\n",
       "    .dataframe tbody tr th {\n",
       "        vertical-align: top;\n",
       "    }\n",
       "\n",
       "    .dataframe thead th {\n",
       "        text-align: right;\n",
       "    }\n",
       "</style>\n",
       "<table border=\"1\" class=\"dataframe\">\n",
       "  <thead>\n",
       "    <tr style=\"text-align: right;\">\n",
       "      <th></th>\n",
       "      <th>Price</th>\n",
       "      <th>Rating</th>\n",
       "      <th>num_cores</th>\n",
       "      <th>num_threads</th>\n",
       "      <th>ram_memory</th>\n",
       "      <th>primary_storage_capacity</th>\n",
       "      <th>secondary_storage_capacity</th>\n",
       "      <th>display_size</th>\n",
       "      <th>resolution_width</th>\n",
       "      <th>resolution_height</th>\n",
       "    </tr>\n",
       "  </thead>\n",
       "  <tbody>\n",
       "    <tr>\n",
       "      <th>count</th>\n",
       "      <td>901.000000</td>\n",
       "      <td>901.000000</td>\n",
       "      <td>901.000000</td>\n",
       "      <td>901.000000</td>\n",
       "      <td>901.000000</td>\n",
       "      <td>901.000000</td>\n",
       "      <td>901.000000</td>\n",
       "      <td>901.000000</td>\n",
       "      <td>901.000000</td>\n",
       "      <td>901.000000</td>\n",
       "    </tr>\n",
       "    <tr>\n",
       "      <th>mean</th>\n",
       "      <td>65638.207547</td>\n",
       "      <td>63.340733</td>\n",
       "      <td>7.596004</td>\n",
       "      <td>11.614872</td>\n",
       "      <td>12.446171</td>\n",
       "      <td>583.067703</td>\n",
       "      <td>4.403996</td>\n",
       "      <td>15.154828</td>\n",
       "      <td>1959.236404</td>\n",
       "      <td>1148.741398</td>\n",
       "    </tr>\n",
       "    <tr>\n",
       "      <th>std</th>\n",
       "      <td>30117.011657</td>\n",
       "      <td>8.507669</td>\n",
       "      <td>3.346133</td>\n",
       "      <td>4.460613</td>\n",
       "      <td>4.254232</td>\n",
       "      <td>207.792163</td>\n",
       "      <td>35.166603</td>\n",
       "      <td>0.882856</td>\n",
       "      <td>294.427721</td>\n",
       "      <td>223.174513</td>\n",
       "    </tr>\n",
       "    <tr>\n",
       "      <th>min</th>\n",
       "      <td>9800.000000</td>\n",
       "      <td>39.000000</td>\n",
       "      <td>2.000000</td>\n",
       "      <td>0.000000</td>\n",
       "      <td>2.000000</td>\n",
       "      <td>32.000000</td>\n",
       "      <td>0.000000</td>\n",
       "      <td>10.100000</td>\n",
       "      <td>1080.000000</td>\n",
       "      <td>768.000000</td>\n",
       "    </tr>\n",
       "    <tr>\n",
       "      <th>25%</th>\n",
       "      <td>43000.000000</td>\n",
       "      <td>58.000000</td>\n",
       "      <td>6.000000</td>\n",
       "      <td>8.000000</td>\n",
       "      <td>8.000000</td>\n",
       "      <td>512.000000</td>\n",
       "      <td>0.000000</td>\n",
       "      <td>14.000000</td>\n",
       "      <td>1920.000000</td>\n",
       "      <td>1080.000000</td>\n",
       "    </tr>\n",
       "    <tr>\n",
       "      <th>50%</th>\n",
       "      <td>59990.000000</td>\n",
       "      <td>64.000000</td>\n",
       "      <td>8.000000</td>\n",
       "      <td>12.000000</td>\n",
       "      <td>16.000000</td>\n",
       "      <td>512.000000</td>\n",
       "      <td>0.000000</td>\n",
       "      <td>15.600000</td>\n",
       "      <td>1920.000000</td>\n",
       "      <td>1080.000000</td>\n",
       "    </tr>\n",
       "    <tr>\n",
       "      <th>75%</th>\n",
       "      <td>80190.000000</td>\n",
       "      <td>70.000000</td>\n",
       "      <td>10.000000</td>\n",
       "      <td>16.000000</td>\n",
       "      <td>16.000000</td>\n",
       "      <td>512.000000</td>\n",
       "      <td>0.000000</td>\n",
       "      <td>15.600000</td>\n",
       "      <td>1920.000000</td>\n",
       "      <td>1080.000000</td>\n",
       "    </tr>\n",
       "    <tr>\n",
       "      <th>max</th>\n",
       "      <td>155299.000000</td>\n",
       "      <td>88.000000</td>\n",
       "      <td>24.000000</td>\n",
       "      <td>32.000000</td>\n",
       "      <td>32.000000</td>\n",
       "      <td>1024.000000</td>\n",
       "      <td>512.000000</td>\n",
       "      <td>17.300000</td>\n",
       "      <td>3840.000000</td>\n",
       "      <td>2560.000000</td>\n",
       "    </tr>\n",
       "  </tbody>\n",
       "</table>\n",
       "</div>"
      ],
      "text/plain": [
       "               Price      Rating   num_cores  num_threads  ram_memory  \\\n",
       "count     901.000000  901.000000  901.000000   901.000000  901.000000   \n",
       "mean    65638.207547   63.340733    7.596004    11.614872   12.446171   \n",
       "std     30117.011657    8.507669    3.346133     4.460613    4.254232   \n",
       "min      9800.000000   39.000000    2.000000     0.000000    2.000000   \n",
       "25%     43000.000000   58.000000    6.000000     8.000000    8.000000   \n",
       "50%     59990.000000   64.000000    8.000000    12.000000   16.000000   \n",
       "75%     80190.000000   70.000000   10.000000    16.000000   16.000000   \n",
       "max    155299.000000   88.000000   24.000000    32.000000   32.000000   \n",
       "\n",
       "       primary_storage_capacity  secondary_storage_capacity  display_size  \\\n",
       "count                901.000000                  901.000000    901.000000   \n",
       "mean                 583.067703                    4.403996     15.154828   \n",
       "std                  207.792163                   35.166603      0.882856   \n",
       "min                   32.000000                    0.000000     10.100000   \n",
       "25%                  512.000000                    0.000000     14.000000   \n",
       "50%                  512.000000                    0.000000     15.600000   \n",
       "75%                  512.000000                    0.000000     15.600000   \n",
       "max                 1024.000000                  512.000000     17.300000   \n",
       "\n",
       "       resolution_width  resolution_height  \n",
       "count        901.000000         901.000000  \n",
       "mean        1959.236404        1148.741398  \n",
       "std          294.427721         223.174513  \n",
       "min         1080.000000         768.000000  \n",
       "25%         1920.000000        1080.000000  \n",
       "50%         1920.000000        1080.000000  \n",
       "75%         1920.000000        1080.000000  \n",
       "max         3840.000000        2560.000000  "
      ]
     },
     "execution_count": 17,
     "metadata": {},
     "output_type": "execute_result"
    }
   ],
   "source": [
    "df.describe()"
   ]
  },
  {
   "cell_type": "markdown",
   "id": "21ca2f8b",
   "metadata": {
    "execution": {
     "iopub.execute_input": "2022-08-04T18:25:26.648562Z",
     "iopub.status.busy": "2022-08-04T18:25:26.647963Z",
     "iopub.status.idle": "2022-08-04T18:25:26.675724Z",
     "shell.execute_reply": "2022-08-04T18:25:26.673928Z",
     "shell.execute_reply.started": "2022-08-04T18:25:26.648468Z"
    },
    "papermill": {
     "duration": 0.023771,
     "end_time": "2024-03-11T05:10:23.918548",
     "exception": false,
     "start_time": "2024-03-11T05:10:23.894777",
     "status": "completed"
    },
    "tags": []
   },
   "source": [
    "### <b><span style='color:#DEB078'>4.4 |</span><span style='color:#008849'> Non-numeric</span></b> "
   ]
  },
  {
   "cell_type": "code",
   "execution_count": 18,
   "id": "8cc9a8ec",
   "metadata": {
    "execution": {
     "iopub.execute_input": "2024-03-11T05:10:23.969844Z",
     "iopub.status.busy": "2024-03-11T05:10:23.968579Z",
     "iopub.status.idle": "2024-03-11T05:10:24.003338Z",
     "shell.execute_reply": "2024-03-11T05:10:24.001746Z"
    },
    "papermill": {
     "duration": 0.06359,
     "end_time": "2024-03-11T05:10:24.006142",
     "exception": false,
     "start_time": "2024-03-11T05:10:23.942552",
     "status": "completed"
    },
    "tags": []
   },
   "outputs": [
    {
     "data": {
      "text/html": [
       "<div>\n",
       "<style scoped>\n",
       "    .dataframe tbody tr th:only-of-type {\n",
       "        vertical-align: middle;\n",
       "    }\n",
       "\n",
       "    .dataframe tbody tr th {\n",
       "        vertical-align: top;\n",
       "    }\n",
       "\n",
       "    .dataframe thead th {\n",
       "        text-align: right;\n",
       "    }\n",
       "</style>\n",
       "<table border=\"1\" class=\"dataframe\">\n",
       "  <thead>\n",
       "    <tr style=\"text-align: right;\">\n",
       "      <th></th>\n",
       "      <th>brand</th>\n",
       "      <th>Model</th>\n",
       "      <th>processor_brand</th>\n",
       "      <th>processor_tier</th>\n",
       "      <th>primary_storage_type</th>\n",
       "      <th>secondary_storage_type</th>\n",
       "      <th>gpu_brand</th>\n",
       "      <th>gpu_type</th>\n",
       "      <th>OS</th>\n",
       "      <th>year_of_warranty</th>\n",
       "    </tr>\n",
       "  </thead>\n",
       "  <tbody>\n",
       "    <tr>\n",
       "      <th>count</th>\n",
       "      <td>901</td>\n",
       "      <td>901</td>\n",
       "      <td>901</td>\n",
       "      <td>901</td>\n",
       "      <td>901</td>\n",
       "      <td>901</td>\n",
       "      <td>901</td>\n",
       "      <td>901</td>\n",
       "      <td>901</td>\n",
       "      <td>901</td>\n",
       "    </tr>\n",
       "    <tr>\n",
       "      <th>unique</th>\n",
       "      <td>22</td>\n",
       "      <td>901</td>\n",
       "      <td>4</td>\n",
       "      <td>13</td>\n",
       "      <td>2</td>\n",
       "      <td>2</td>\n",
       "      <td>5</td>\n",
       "      <td>3</td>\n",
       "      <td>5</td>\n",
       "      <td>4</td>\n",
       "    </tr>\n",
       "    <tr>\n",
       "      <th>top</th>\n",
       "      <td>lenovo</td>\n",
       "      <td>Tecno Megabook T1 Laptop (11th Gen Core i3/ 8G...</td>\n",
       "      <td>intel</td>\n",
       "      <td>core i5</td>\n",
       "      <td>SSD</td>\n",
       "      <td>No secondary storage</td>\n",
       "      <td>intel</td>\n",
       "      <td>integrated</td>\n",
       "      <td>windows</td>\n",
       "      <td>1</td>\n",
       "    </tr>\n",
       "    <tr>\n",
       "      <th>freq</th>\n",
       "      <td>194</td>\n",
       "      <td>1</td>\n",
       "      <td>632</td>\n",
       "      <td>334</td>\n",
       "      <td>881</td>\n",
       "      <td>886</td>\n",
       "      <td>440</td>\n",
       "      <td>594</td>\n",
       "      <td>857</td>\n",
       "      <td>822</td>\n",
       "    </tr>\n",
       "  </tbody>\n",
       "</table>\n",
       "</div>"
      ],
      "text/plain": [
       "         brand                                              Model  \\\n",
       "count      901                                                901   \n",
       "unique      22                                                901   \n",
       "top     lenovo  Tecno Megabook T1 Laptop (11th Gen Core i3/ 8G...   \n",
       "freq       194                                                  1   \n",
       "\n",
       "       processor_brand processor_tier primary_storage_type  \\\n",
       "count              901            901                  901   \n",
       "unique               4             13                    2   \n",
       "top              intel        core i5                  SSD   \n",
       "freq               632            334                  881   \n",
       "\n",
       "       secondary_storage_type gpu_brand    gpu_type       OS year_of_warranty  \n",
       "count                     901       901         901      901              901  \n",
       "unique                      2         5           3        5                4  \n",
       "top      No secondary storage     intel  integrated  windows                1  \n",
       "freq                      886       440         594      857              822  "
      ]
     },
     "execution_count": 18,
     "metadata": {},
     "output_type": "execute_result"
    }
   ],
   "source": [
    "# Checking non-numeric df columns\n",
    "\n",
    "df.describe(include=['O'])"
   ]
  },
  {
   "cell_type": "code",
   "execution_count": 19,
   "id": "978e5ef9",
   "metadata": {
    "execution": {
     "iopub.execute_input": "2024-03-11T05:10:24.058534Z",
     "iopub.status.busy": "2024-03-11T05:10:24.057438Z",
     "iopub.status.idle": "2024-03-11T05:10:24.265704Z",
     "shell.execute_reply": "2024-03-11T05:10:24.264330Z"
    },
    "papermill": {
     "duration": 0.23659,
     "end_time": "2024-03-11T05:10:24.268611",
     "exception": false,
     "start_time": "2024-03-11T05:10:24.032021",
     "status": "completed"
    },
    "tags": []
   },
   "outputs": [],
   "source": [
    "# Converting object columns to numeric - \"LabelEncoder\"\n",
    "\n",
    "from sklearn.preprocessing import LabelEncoder\n",
    "\n",
    "# instanciar encoder\n",
    "lb = LabelEncoder()\n",
    "\n",
    "objList = df.select_dtypes(include = \"object\").columns\n",
    "\n",
    "for obj in objList:\n",
    "    df[obj] = lb.fit_transform(df[obj].astype(str))\n"
   ]
  },
  {
   "cell_type": "code",
   "execution_count": 20,
   "id": "ead50631",
   "metadata": {
    "execution": {
     "iopub.execute_input": "2024-03-11T05:10:24.322204Z",
     "iopub.status.busy": "2024-03-11T05:10:24.321752Z",
     "iopub.status.idle": "2024-03-11T05:10:24.343326Z",
     "shell.execute_reply": "2024-03-11T05:10:24.341990Z"
    },
    "papermill": {
     "duration": 0.050489,
     "end_time": "2024-03-11T05:10:24.345876",
     "exception": false,
     "start_time": "2024-03-11T05:10:24.295387",
     "status": "completed"
    },
    "tags": []
   },
   "outputs": [
    {
     "data": {
      "text/html": [
       "<div>\n",
       "<style scoped>\n",
       "    .dataframe tbody tr th:only-of-type {\n",
       "        vertical-align: middle;\n",
       "    }\n",
       "\n",
       "    .dataframe tbody tr th {\n",
       "        vertical-align: top;\n",
       "    }\n",
       "\n",
       "    .dataframe thead th {\n",
       "        text-align: right;\n",
       "    }\n",
       "</style>\n",
       "<table border=\"1\" class=\"dataframe\">\n",
       "  <thead>\n",
       "    <tr style=\"text-align: right;\">\n",
       "      <th></th>\n",
       "      <th>brand</th>\n",
       "      <th>Model</th>\n",
       "      <th>Price</th>\n",
       "      <th>Rating</th>\n",
       "      <th>processor_brand</th>\n",
       "      <th>processor_tier</th>\n",
       "      <th>num_cores</th>\n",
       "      <th>num_threads</th>\n",
       "      <th>ram_memory</th>\n",
       "      <th>primary_storage_type</th>\n",
       "      <th>primary_storage_capacity</th>\n",
       "      <th>secondary_storage_type</th>\n",
       "      <th>secondary_storage_capacity</th>\n",
       "      <th>gpu_brand</th>\n",
       "      <th>gpu_type</th>\n",
       "      <th>is_touch_screen</th>\n",
       "      <th>display_size</th>\n",
       "      <th>resolution_width</th>\n",
       "      <th>resolution_height</th>\n",
       "      <th>OS</th>\n",
       "      <th>year_of_warranty</th>\n",
       "    </tr>\n",
       "  </thead>\n",
       "  <tbody>\n",
       "    <tr>\n",
       "      <th>0</th>\n",
       "      <td>18</td>\n",
       "      <td>881</td>\n",
       "      <td>23990</td>\n",
       "      <td>63</td>\n",
       "      <td>2</td>\n",
       "      <td>1</td>\n",
       "      <td>2</td>\n",
       "      <td>4</td>\n",
       "      <td>8</td>\n",
       "      <td>1</td>\n",
       "      <td>512</td>\n",
       "      <td>0</td>\n",
       "      <td>0</td>\n",
       "      <td>3</td>\n",
       "      <td>2</td>\n",
       "      <td>False</td>\n",
       "      <td>15.6</td>\n",
       "      <td>1920</td>\n",
       "      <td>1080</td>\n",
       "      <td>4</td>\n",
       "      <td>0</td>\n",
       "    </tr>\n",
       "    <tr>\n",
       "      <th>1</th>\n",
       "      <td>18</td>\n",
       "      <td>882</td>\n",
       "      <td>35990</td>\n",
       "      <td>67</td>\n",
       "      <td>2</td>\n",
       "      <td>3</td>\n",
       "      <td>4</td>\n",
       "      <td>8</td>\n",
       "      <td>16</td>\n",
       "      <td>1</td>\n",
       "      <td>1024</td>\n",
       "      <td>0</td>\n",
       "      <td>0</td>\n",
       "      <td>3</td>\n",
       "      <td>2</td>\n",
       "      <td>False</td>\n",
       "      <td>15.6</td>\n",
       "      <td>1920</td>\n",
       "      <td>1080</td>\n",
       "      <td>4</td>\n",
       "      <td>0</td>\n",
       "    </tr>\n",
       "    <tr>\n",
       "      <th>2</th>\n",
       "      <td>9</td>\n",
       "      <td>554</td>\n",
       "      <td>51100</td>\n",
       "      <td>73</td>\n",
       "      <td>0</td>\n",
       "      <td>10</td>\n",
       "      <td>6</td>\n",
       "      <td>12</td>\n",
       "      <td>8</td>\n",
       "      <td>1</td>\n",
       "      <td>512</td>\n",
       "      <td>0</td>\n",
       "      <td>0</td>\n",
       "      <td>0</td>\n",
       "      <td>1</td>\n",
       "      <td>False</td>\n",
       "      <td>15.6</td>\n",
       "      <td>1920</td>\n",
       "      <td>1080</td>\n",
       "      <td>4</td>\n",
       "      <td>0</td>\n",
       "    </tr>\n",
       "    <tr>\n",
       "      <th>3</th>\n",
       "      <td>0</td>\n",
       "      <td>51</td>\n",
       "      <td>39990</td>\n",
       "      <td>62</td>\n",
       "      <td>2</td>\n",
       "      <td>2</td>\n",
       "      <td>12</td>\n",
       "      <td>16</td>\n",
       "      <td>8</td>\n",
       "      <td>1</td>\n",
       "      <td>512</td>\n",
       "      <td>0</td>\n",
       "      <td>0</td>\n",
       "      <td>3</td>\n",
       "      <td>2</td>\n",
       "      <td>False</td>\n",
       "      <td>14.0</td>\n",
       "      <td>1920</td>\n",
       "      <td>1080</td>\n",
       "      <td>4</td>\n",
       "      <td>0</td>\n",
       "    </tr>\n",
       "    <tr>\n",
       "      <th>4</th>\n",
       "      <td>12</td>\n",
       "      <td>764</td>\n",
       "      <td>28580</td>\n",
       "      <td>62</td>\n",
       "      <td>0</td>\n",
       "      <td>9</td>\n",
       "      <td>4</td>\n",
       "      <td>8</td>\n",
       "      <td>8</td>\n",
       "      <td>1</td>\n",
       "      <td>512</td>\n",
       "      <td>0</td>\n",
       "      <td>0</td>\n",
       "      <td>0</td>\n",
       "      <td>2</td>\n",
       "      <td>False</td>\n",
       "      <td>15.6</td>\n",
       "      <td>1920</td>\n",
       "      <td>1080</td>\n",
       "      <td>4</td>\n",
       "      <td>0</td>\n",
       "    </tr>\n",
       "  </tbody>\n",
       "</table>\n",
       "</div>"
      ],
      "text/plain": [
       "   brand  Model  Price  Rating  processor_brand  processor_tier  num_cores  \\\n",
       "0     18    881  23990      63                2               1          2   \n",
       "1     18    882  35990      67                2               3          4   \n",
       "2      9    554  51100      73                0              10          6   \n",
       "3      0     51  39990      62                2               2         12   \n",
       "4     12    764  28580      62                0               9          4   \n",
       "\n",
       "   num_threads  ram_memory  primary_storage_type  primary_storage_capacity  \\\n",
       "0            4           8                     1                       512   \n",
       "1            8          16                     1                      1024   \n",
       "2           12           8                     1                       512   \n",
       "3           16           8                     1                       512   \n",
       "4            8           8                     1                       512   \n",
       "\n",
       "   secondary_storage_type  secondary_storage_capacity  gpu_brand  gpu_type  \\\n",
       "0                       0                           0          3         2   \n",
       "1                       0                           0          3         2   \n",
       "2                       0                           0          0         1   \n",
       "3                       0                           0          3         2   \n",
       "4                       0                           0          0         2   \n",
       "\n",
       "   is_touch_screen  display_size  resolution_width  resolution_height  OS  \\\n",
       "0            False          15.6              1920               1080   4   \n",
       "1            False          15.6              1920               1080   4   \n",
       "2            False          15.6              1920               1080   4   \n",
       "3            False          14.0              1920               1080   4   \n",
       "4            False          15.6              1920               1080   4   \n",
       "\n",
       "   year_of_warranty  \n",
       "0                 0  \n",
       "1                 0  \n",
       "2                 0  \n",
       "3                 0  \n",
       "4                 0  "
      ]
     },
     "execution_count": 20,
     "metadata": {},
     "output_type": "execute_result"
    }
   ],
   "source": [
    "df.head()"
   ]
  },
  {
   "cell_type": "markdown",
   "id": "050b93f4",
   "metadata": {
    "papermill": {
     "duration": 0.024001,
     "end_time": "2024-03-11T05:10:24.394287",
     "exception": false,
     "start_time": "2024-03-11T05:10:24.370286",
     "status": "completed"
    },
    "tags": []
   },
   "source": [
    "## <b><div style='padding:15px;background-color:#008849;color:white;border-radius:2px;font-size:110%;text-align: center'>5  |  Features Transformation</div></b>"
   ]
  },
  {
   "cell_type": "code",
   "execution_count": 21,
   "id": "b79146bd",
   "metadata": {
    "execution": {
     "iopub.execute_input": "2024-03-11T05:10:24.445333Z",
     "iopub.status.busy": "2024-03-11T05:10:24.444527Z",
     "iopub.status.idle": "2024-03-11T05:10:26.266920Z",
     "shell.execute_reply": "2024-03-11T05:10:26.265664Z"
    },
    "papermill": {
     "duration": 1.85622,
     "end_time": "2024-03-11T05:10:26.274892",
     "exception": false,
     "start_time": "2024-03-11T05:10:24.418672",
     "status": "completed"
    },
    "tags": []
   },
   "outputs": [
    {
     "data": {
      "image/png": "[encoded data removed]",
      "text/plain": [
       "<Figure size 1200x1200 with 2 Axes>"
      ]
     },
     "metadata": {},
     "output_type": "display_data"
    }
   ],
   "source": [
    "# Heatmap\n",
    "df_corr = df.corr()\n",
    "f, ax = plt.subplots(figsize=(12, 12))\n",
    "\n",
    "sns.heatmap(df_corr, annot=True, fmt='.2f', cmap='RdYlGn',annot_kws={'size': 10}, ax=ax)\n",
    "plt.show()"
   ]
  },
  {
   "cell_type": "markdown",
   "id": "d95e131b",
   "metadata": {
    "papermill": {
     "duration": 0.038555,
     "end_time": "2024-03-11T05:10:26.347141",
     "exception": false,
     "start_time": "2024-03-11T05:10:26.308586",
     "status": "completed"
    },
    "tags": []
   },
   "source": [
    "## <b><div style='padding:15px;background-color:#008849;color:white;border-radius:2px;font-size:110%;text-align: center'>6  |  Clusters - KMeans</div></b>"
   ]
  },
  {
   "cell_type": "code",
   "execution_count": 22,
   "id": "bbebe756",
   "metadata": {
    "execution": {
     "iopub.execute_input": "2024-03-11T05:10:26.411975Z",
     "iopub.status.busy": "2024-03-11T05:10:26.411541Z",
     "iopub.status.idle": "2024-03-11T05:10:27.344483Z",
     "shell.execute_reply": "2024-03-11T05:10:27.342752Z"
    },
    "papermill": {
     "duration": 0.968563,
     "end_time": "2024-03-11T05:10:27.347684",
     "exception": false,
     "start_time": "2024-03-11T05:10:26.379121",
     "status": "completed"
    },
    "tags": []
   },
   "outputs": [],
   "source": [
    "# Libraries for clustering and evaluation\n",
    "from sklearn.cluster import KMeans\n",
    "from yellowbrick.cluster import KElbowVisualizer\n",
    "from sklearn.metrics import silhouette_score"
   ]
  },
  {
   "cell_type": "markdown",
   "id": "7c6cab19",
   "metadata": {
    "papermill": {
     "duration": 0.030651,
     "end_time": "2024-03-11T05:10:27.408799",
     "exception": false,
     "start_time": "2024-03-11T05:10:27.378148",
     "status": "completed"
    },
    "tags": []
   },
   "source": [
    "### <b><span style='color:#DEB078'>6.1 |</span><span style='color:#008849'> Clusters</span></b>"
   ]
  },
  {
   "cell_type": "markdown",
   "id": "0c4bcc1e",
   "metadata": {
    "papermill": {
     "duration": 0.031459,
     "end_time": "2024-03-11T05:10:27.484755",
     "exception": false,
     "start_time": "2024-03-11T05:10:27.453296",
     "status": "completed"
    },
    "tags": []
   },
   "source": [
    "**Calculating the number of clusters.**"
   ]
  },
  {
   "cell_type": "code",
   "execution_count": 23,
   "id": "85c93b0a",
   "metadata": {
    "execution": {
     "iopub.execute_input": "2024-03-11T05:10:27.547343Z",
     "iopub.status.busy": "2024-03-11T05:10:27.546922Z",
     "iopub.status.idle": "2024-03-11T05:10:39.345222Z",
     "shell.execute_reply": "2024-03-11T05:10:39.343909Z"
    },
    "papermill": {
     "duration": 11.832613,
     "end_time": "2024-03-11T05:10:39.347912",
     "exception": false,
     "start_time": "2024-03-11T05:10:27.515299",
     "status": "completed"
    },
    "tags": []
   },
   "outputs": [
    {
     "data": {
      "image/png": "[encoded data removed]",
      "text/plain": [
       "<Figure size 1200x800 with 2 Axes>"
      ]
     },
     "metadata": {},
     "output_type": "display_data"
    },
    {
     "data": {
      "text/plain": [
       "<Axes: title={'center': 'Distortion Score Elbow for KMeans Clustering'}, xlabel='k', ylabel='distortion score'>"
      ]
     },
     "execution_count": 23,
     "metadata": {},
     "output_type": "execute_result"
    }
   ],
   "source": [
    "plt.figure(figsize=(12, 8))\n",
    "elbow_graph = KElbowVisualizer(KMeans(random_state=123), k=10)\n",
    "elbow_graph.fit(df)\n",
    "elbow_graph.show()"
   ]
  },
  {
   "cell_type": "markdown",
   "id": "7674381a",
   "metadata": {
    "papermill": {
     "duration": 0.031975,
     "end_time": "2024-03-11T05:10:39.412878",
     "exception": false,
     "start_time": "2024-03-11T05:10:39.380903",
     "status": "completed"
    },
    "tags": []
   },
   "source": [
    "<div class=\"alert alert-block alert-info\" style=\"background-color:caf0f8;color:#008849;border-color:black;width:80%;margin: auto;text-align: center;\">\n",
    "<b>Insight:</b> Using KElbowVisualizer we conclude that the best cluster number is 4.</div>"
   ]
  },
  {
   "cell_type": "markdown",
   "id": "6094926a",
   "metadata": {
    "papermill": {
     "duration": 0.034255,
     "end_time": "2024-03-11T05:10:39.480255",
     "exception": false,
     "start_time": "2024-03-11T05:10:39.446000",
     "status": "completed"
    },
    "tags": []
   },
   "source": [
    "### <b><span style='color:#DEB078'>6.2  |</span><span style='color:#008849'> KMeans</span></b>"
   ]
  },
  {
   "cell_type": "code",
   "execution_count": 24,
   "id": "d526d2b5",
   "metadata": {
    "execution": {
     "iopub.execute_input": "2024-03-11T05:10:39.547763Z",
     "iopub.status.busy": "2024-03-11T05:10:39.547319Z",
     "iopub.status.idle": "2024-03-11T05:10:39.552904Z",
     "shell.execute_reply": "2024-03-11T05:10:39.551621Z"
    },
    "papermill": {
     "duration": 0.042138,
     "end_time": "2024-03-11T05:10:39.555521",
     "exception": false,
     "start_time": "2024-03-11T05:10:39.513383",
     "status": "completed"
    },
    "tags": []
   },
   "outputs": [],
   "source": [
    "# We will use 4 clusters.\n",
    "\n",
    "agrupador = KMeans(n_clusters = 4)"
   ]
  },
  {
   "cell_type": "code",
   "execution_count": 25,
   "id": "ff5ca031",
   "metadata": {
    "execution": {
     "iopub.execute_input": "2024-03-11T05:10:39.622517Z",
     "iopub.status.busy": "2024-03-11T05:10:39.622077Z",
     "iopub.status.idle": "2024-03-11T05:10:40.760651Z",
     "shell.execute_reply": "2024-03-11T05:10:40.759476Z"
    },
    "papermill": {
     "duration": 1.175737,
     "end_time": "2024-03-11T05:10:40.763429",
     "exception": false,
     "start_time": "2024-03-11T05:10:39.587692",
     "status": "completed"
    },
    "tags": []
   },
   "outputs": [
    {
     "name": "stdout",
     "output_type": "stream",
     "text": [
      "[1 1 0 1 1 0 1 1 1 0 1 0 0 0 1 2 1 0 0 1 1 1 1 1 3 3 1 0 0 1 1 1 1 3 0 1 1\n",
      " 0 0 2 3 0 2 0 3 1 0 1 1 1 3 0 1 1 2 0 3 0 0 0 1 3 0 0 0 2 1 3 1 0 0 1 0 0\n",
      " 1 1 3 1 0 1 1 0 1 0 0 1 1 0 1 0 3 0 1 3 1 0 0 3 0 1 0 3 1 1 3 1 0 0 3 0 1\n",
      " 0 1 2 2 3 1 1 1 1 1 1 1 0 3 1 1 0 1 1 3 0 1 1 1 2 2 1 0 0 0 1 1 2 1 1 1 1\n",
      " 0 1 0 0 3 0 1 0 1 0 3 1 1 0 3 1 0 1 1 0 1 0 0 0 3 0 0 2 3 1 0 0 3 3 0 1 1\n",
      " 0 1 1 3 3 0 0 0 0 0 1 1 0 1 2 1 1 0 1 1 0 0 0 0 2 2 1 0 0 1 0 3 0 3 2 0 1\n",
      " 0 3 3 1 0 1 1 0 0 1 1 3 1 1 0 1 0 0 0 1 0 1 0 0 1 3 0 1 0 0 3 3 0 0 2 1 0\n",
      " 2 2 0 1 0 1 2 1 1 0 1 3 3 1 1 1 2 3 0 0 0 0 0 1 1 1 0 0 1 0 0 0 0 0 1 0 2\n",
      " 1 1 1 1 1 1 1 1 2 0 1 3 0 1 1 2 3 0 1 1 1 3 3 0 1 3 0 2 3 3 0 1 0 1 1 3 1\n",
      " 1 3 0 1 0 3 1 3 0 0 0 1 1 0 0 1 0 0 3 3 3 3 3 0 0 0 0 3 1 0 1 3 2 0 3 1 3\n",
      " 1 3 1 1 0 1 1 3 0 3 0 0 1 0 1 1 0 1 0 0 1 1 1 0 0 1 3 0 1 0 3 1 2 0 1 1 1\n",
      " 3 0 3 1 3 2 2 0 0 3 0 1 3 1 2 0 1 1 0 0 1 0 0 1 1 3 0 0 0 0 0 0 0 3 1 0 0\n",
      " 0 3 2 1 1 1 3 0 3 0 0 0 0 1 1 1 0 0 3 0 1 3 1 1 1 0 1 1 3 0 0 3 1 2 0 0 0\n",
      " 1 1 0 1 0 1 1 1 1 3 3 3 1 3 1 0 1 0 3 0 3 3 3 3 2 2 2 0 0 0 2 3 1 2 0 1 1\n",
      " 0 3 1 3 3 0 0 2 0 1 0 1 3 3 3 1 3 0 3 2 3 2 1 2 0 1 1 3 3 1 0 3 3 0 1 3 1\n",
      " 0 0 3 0 1 1 0 2 3 2 0 0 1 0 2 3 2 1 1 2 2 3 2 2 0 0 1 0 0 3 0 0 0 1 1 1 0\n",
      " 3 0 0 0 1 3 3 3 3 3 3 1 0 0 1 3 0 0 0 0 0 3 1 0 2 1 3 1 1 0 2 3 2 3 0 1 0\n",
      " 1 0 3 1 3 1 1 1 1 0 1 0 1 1 0 1 0 0 1 3 0 3 1 0 1 3 3 1 3 0 0 0 2 3 2 2 0\n",
      " 0 1 1 0 1 0 1 0 3 1 0 1 0 1 1 1 1 1 3 0 0 0 0 1 3 3 1 1 1 3 0 0 1 0 1 0 1\n",
      " 0 0 1 1 1 0 1 3 3 1 1 0 0 2 1 0 1 3 2 3 1 0 0 0 3 1 3 2 2 2 2 0 2 3 2 2 0\n",
      " 0 2 0 3 0 2 2 0 0 0 0 0 1 0 3 3 3 0 2 3 2 3 0 1 0 0 3 1 1 1 1 3 1 2 1 0 1\n",
      " 0 1 0 1 1 1 2 0 0 1 1 3 3 1 2 2 3 3 3 0 3 0 0 0 0 0 1 1 2 1 0 0 0 0 3 2 0\n",
      " 0 0 0 2 3 1 0 3 0 3 3 0 0 1 1 0 1 2 0 1 1 0 0 2 2 1 1 1 1 1 1 1 1 1 3 0 1\n",
      " 1 2 1 1 1 1 0 3 1 0 0 2 1 1 0 1 1 1 1 1 1 0 1 1 0 1 1 3 3 1 1 0 2 3 0 0 0\n",
      " 0 1 2 0 2 3 0 0 0 0 3 1 0]\n"
     ]
    }
   ],
   "source": [
    "# Group into 4 groups, fit and create a variable with the labels\n",
    "agrupador.fit(df)\n",
    "labels = agrupador.labels_\n",
    "print(labels)"
   ]
  },
  {
   "cell_type": "code",
   "execution_count": 26,
   "id": "0ef3ab2d",
   "metadata": {
    "execution": {
     "iopub.execute_input": "2024-03-11T05:10:40.833087Z",
     "iopub.status.busy": "2024-03-11T05:10:40.832653Z",
     "iopub.status.idle": "2024-03-11T05:10:41.320514Z",
     "shell.execute_reply": "2024-03-11T05:10:41.319188Z"
    },
    "papermill": {
     "duration": 0.524551,
     "end_time": "2024-03-11T05:10:41.323326",
     "exception": false,
     "start_time": "2024-03-11T05:10:40.798775",
     "status": "completed"
    },
    "tags": []
   },
   "outputs": [
    {
     "data": {
      "text/html": [
       "        <script type=\"text/javascript\">\n",
       "        window.PlotlyConfig = {MathJaxConfig: 'local'};\n",
       "        if (window.MathJax && window.MathJax.Hub && window.MathJax.Hub.Config) {window.MathJax.Hub.Config({SVG: {font: \"STIX-Web\"}});}\n",
       "        if (typeof require !== 'undefined') {\n",
       "        require.undef(\"plotly\");\n",
       "        requirejs.config({\n",
       "            paths: {\n",
       "                'plotly': ['https://cdn.plot.ly/plotly-2.27.0.min']\n",
       "            }\n",
       "        });\n",
       "        require(['plotly'], function(Plotly) {\n",
       "            window._Plotly = Plotly;\n",
       "        });\n",
       "        }\n",
       "        </script>\n",
       "        "
      ]
     },
     "metadata": {},
     "output_type": "display_data"
    },
    {
     "data": {
      "text/html": [
       "<div>                            <div id=\"f9f45065-e444-45c4-b9c7-188c1be5f84d\" class=\"plotly-graph-div\" style=\"height:525px; width:100%;\"></div>            <script type=\"text/javascript\">                require([\"plotly\"], function(Plotly) {                    window.PLOTLYENV=window.PLOTLYENV || {};                                    if (document.getElementById(\"f9f45065-e444-45c4-b9c7-188c1be5f84d\")) {                    Plotly.newPlot(                        \"f9f45065-e444-45c4-b9c7-188c1be5f84d\",                        [{\"marker\":{\"color\":[1.0,1.0,0.0,1.0,1.0,0.0,1.0,1.0,1.0,0.0,1.0,0.0,0.0,0.0,1.0,2.0,1.0,0.0,0.0,1.0,1.0,1.0,1.0,1.0,3.0,3.0,1.0,0.0,0.0,1.0,1.0,1.0,1.0,3.0,0.0,1.0,1.0,0.0,0.0,2.0,3.0,0.0,2.0,0.0,3.0,1.0,0.0,1.0,1.0,1.0,3.0,0.0,1.0,1.0,2.0,0.0,3.0,0.0,0.0,0.0,1.0,3.0,0.0,0.0,0.0,2.0,1.0,3.0,1.0,0.0,0.0,1.0,0.0,0.0,1.0,1.0,3.0,1.0,0.0,1.0,1.0,0.0,1.0,0.0,0.0,1.0,1.0,0.0,1.0,0.0,3.0,0.0,1.0,3.0,1.0,0.0,0.0,3.0,0.0,1.0,0.0,3.0,1.0,1.0,3.0,1.0,0.0,0.0,3.0,0.0,1.0,0.0,1.0,2.0,2.0,3.0,1.0,1.0,1.0,1.0,1.0,1.0,1.0,0.0,3.0,1.0,1.0,0.0,1.0,1.0,3.0,0.0,1.0,1.0,1.0,2.0,2.0,1.0,0.0,0.0,0.0,1.0,1.0,2.0,1.0,1.0,1.0,1.0,0.0,1.0,0.0,0.0,3.0,0.0,1.0,0.0,1.0,0.0,3.0,1.0,1.0,0.0,3.0,1.0,0.0,1.0,1.0,0.0,1.0,0.0,0.0,0.0,3.0,0.0,0.0,2.0,3.0,1.0,0.0,0.0,3.0,3.0,0.0,1.0,1.0,0.0,1.0,1.0,3.0,3.0,0.0,0.0,0.0,0.0,0.0,1.0,1.0,0.0,1.0,2.0,1.0,1.0,0.0,1.0,1.0,0.0,0.0,0.0,0.0,2.0,2.0,1.0,0.0,0.0,1.0,0.0,3.0,0.0,3.0,2.0,0.0,1.0,0.0,3.0,3.0,1.0,0.0,1.0,1.0,0.0,0.0,1.0,1.0,3.0,1.0,1.0,0.0,1.0,0.0,0.0,0.0,1.0,0.0,1.0,0.0,0.0,1.0,3.0,0.0,1.0,0.0,0.0,3.0,3.0,0.0,0.0,2.0,1.0,0.0,2.0,2.0,0.0,1.0,0.0,1.0,2.0,1.0,1.0,0.0,1.0,3.0,3.0,1.0,1.0,1.0,2.0,3.0,0.0,0.0,0.0,0.0,0.0,1.0,1.0,1.0,0.0,0.0,1.0,0.0,0.0,0.0,0.0,0.0,1.0,0.0,2.0,1.0,1.0,1.0,1.0,1.0,1.0,1.0,1.0,2.0,0.0,1.0,3.0,0.0,1.0,1.0,2.0,3.0,0.0,1.0,1.0,1.0,3.0,3.0,0.0,1.0,3.0,0.0,2.0,3.0,3.0,0.0,1.0,0.0,1.0,1.0,3.0,1.0,1.0,3.0,0.0,1.0,0.0,3.0,1.0,3.0,0.0,0.0,0.0,1.0,1.0,0.0,0.0,1.0,0.0,0.0,3.0,3.0,3.0,3.0,3.0,0.0,0.0,0.0,0.0,3.0,1.0,0.0,1.0,3.0,2.0,0.0,3.0,1.0,3.0,1.0,3.0,1.0,1.0,0.0,1.0,1.0,3.0,0.0,3.0,0.0,0.0,1.0,0.0,1.0,1.0,0.0,1.0,0.0,0.0,1.0,1.0,1.0,0.0,0.0,1.0,3.0,0.0,1.0,0.0,3.0,1.0,2.0,0.0,1.0,1.0,1.0,3.0,0.0,3.0,1.0,3.0,2.0,2.0,0.0,0.0,3.0,0.0,1.0,3.0,1.0,2.0,0.0,1.0,1.0,0.0,0.0,1.0,0.0,0.0,1.0,1.0,3.0,0.0,0.0,0.0,0.0,0.0,0.0,0.0,3.0,1.0,0.0,0.0,0.0,3.0,2.0,1.0,1.0,1.0,3.0,0.0,3.0,0.0,0.0,0.0,0.0,1.0,1.0,1.0,0.0,0.0,3.0,0.0,1.0,3.0,1.0,1.0,1.0,0.0,1.0,1.0,3.0,0.0,0.0,3.0,1.0,2.0,0.0,0.0,0.0,1.0,1.0,0.0,1.0,0.0,1.0,1.0,1.0,1.0,3.0,3.0,3.0,1.0,3.0,1.0,0.0,1.0,0.0,3.0,0.0,3.0,3.0,3.0,3.0,2.0,2.0,2.0,0.0,0.0,0.0,2.0,3.0,1.0,2.0,0.0,1.0,1.0,0.0,3.0,1.0,3.0,3.0,0.0,0.0,2.0,0.0,1.0,0.0,1.0,3.0,3.0,3.0,1.0,3.0,0.0,3.0,2.0,3.0,2.0,1.0,2.0,0.0,1.0,1.0,3.0,3.0,1.0,0.0,3.0,3.0,0.0,1.0,3.0,1.0,0.0,0.0,3.0,0.0,1.0,1.0,0.0,2.0,3.0,2.0,0.0,0.0,1.0,0.0,2.0,3.0,2.0,1.0,1.0,2.0,2.0,3.0,2.0,2.0,0.0,0.0,1.0,0.0,0.0,3.0,0.0,0.0,0.0,1.0,1.0,1.0,0.0,3.0,0.0,0.0,0.0,1.0,3.0,3.0,3.0,3.0,3.0,3.0,1.0,0.0,0.0,1.0,3.0,0.0,0.0,0.0,0.0,0.0,3.0,1.0,0.0,2.0,1.0,3.0,1.0,1.0,0.0,2.0,3.0,2.0,3.0,0.0,1.0,0.0,1.0,0.0,3.0,1.0,3.0,1.0,1.0,1.0,1.0,0.0,1.0,0.0,1.0,1.0,0.0,1.0,0.0,0.0,1.0,3.0,0.0,3.0,1.0,0.0,1.0,3.0,3.0,1.0,3.0,0.0,0.0,0.0,2.0,3.0,2.0,2.0,0.0,0.0,1.0,1.0,0.0,1.0,0.0,1.0,0.0,3.0,1.0,0.0,1.0,0.0,1.0,1.0,1.0,1.0,1.0,3.0,0.0,0.0,0.0,0.0,1.0,3.0,3.0,1.0,1.0,1.0,3.0,0.0,0.0,1.0,0.0,1.0,0.0,1.0,0.0,0.0,1.0,1.0,1.0,0.0,1.0,3.0,3.0,1.0,1.0,0.0,0.0,2.0,1.0,0.0,1.0,3.0,2.0,3.0,1.0,0.0,0.0,0.0,3.0,1.0,3.0,2.0,2.0,2.0,2.0,0.0,2.0,3.0,2.0,2.0,0.0,0.0,2.0,0.0,3.0,0.0,2.0,2.0,0.0,0.0,0.0,0.0,0.0,1.0,0.0,3.0,3.0,3.0,0.0,2.0,3.0,2.0,3.0,0.0,1.0,0.0,0.0,3.0,1.0,1.0,1.0,1.0,3.0,1.0,2.0,1.0,0.0,1.0,0.0,1.0,0.0,1.0,1.0,1.0,2.0,0.0,0.0,1.0,1.0,3.0,3.0,1.0,2.0,2.0,3.0,3.0,3.0,0.0,3.0,0.0,0.0,0.0,0.0,0.0,1.0,1.0,2.0,1.0,0.0,0.0,0.0,0.0,3.0,2.0,0.0,0.0,0.0,0.0,2.0,3.0,1.0,0.0,3.0,0.0,3.0,3.0,0.0,0.0,1.0,1.0,0.0,1.0,2.0,0.0,1.0,1.0,0.0,0.0,2.0,2.0,1.0,1.0,1.0,1.0,1.0,1.0,1.0,1.0,1.0,3.0,0.0,1.0,1.0,2.0,1.0,1.0,1.0,1.0,0.0,3.0,1.0,0.0,0.0,2.0,1.0,1.0,0.0,1.0,1.0,1.0,1.0,1.0,1.0,0.0,1.0,1.0,0.0,1.0,1.0,3.0,3.0,1.0,1.0,0.0,2.0,3.0,0.0,0.0,0.0,0.0,1.0,2.0,0.0,2.0,3.0,0.0,0.0,0.0,0.0,3.0,1.0,0.0]},\"mode\":\"markers\",\"text\":[1.0,1.0,0.0,1.0,1.0,0.0,1.0,1.0,1.0,0.0,1.0,0.0,0.0,0.0,1.0,2.0,1.0,0.0,0.0,1.0,1.0,1.0,1.0,1.0,3.0,3.0,1.0,0.0,0.0,1.0,1.0,1.0,1.0,3.0,0.0,1.0,1.0,0.0,0.0,2.0,3.0,0.0,2.0,0.0,3.0,1.0,0.0,1.0,1.0,1.0,3.0,0.0,1.0,1.0,2.0,0.0,3.0,0.0,0.0,0.0,1.0,3.0,0.0,0.0,0.0,2.0,1.0,3.0,1.0,0.0,0.0,1.0,0.0,0.0,1.0,1.0,3.0,1.0,0.0,1.0,1.0,0.0,1.0,0.0,0.0,1.0,1.0,0.0,1.0,0.0,3.0,0.0,1.0,3.0,1.0,0.0,0.0,3.0,0.0,1.0,0.0,3.0,1.0,1.0,3.0,1.0,0.0,0.0,3.0,0.0,1.0,0.0,1.0,2.0,2.0,3.0,1.0,1.0,1.0,1.0,1.0,1.0,1.0,0.0,3.0,1.0,1.0,0.0,1.0,1.0,3.0,0.0,1.0,1.0,1.0,2.0,2.0,1.0,0.0,0.0,0.0,1.0,1.0,2.0,1.0,1.0,1.0,1.0,0.0,1.0,0.0,0.0,3.0,0.0,1.0,0.0,1.0,0.0,3.0,1.0,1.0,0.0,3.0,1.0,0.0,1.0,1.0,0.0,1.0,0.0,0.0,0.0,3.0,0.0,0.0,2.0,3.0,1.0,0.0,0.0,3.0,3.0,0.0,1.0,1.0,0.0,1.0,1.0,3.0,3.0,0.0,0.0,0.0,0.0,0.0,1.0,1.0,0.0,1.0,2.0,1.0,1.0,0.0,1.0,1.0,0.0,0.0,0.0,0.0,2.0,2.0,1.0,0.0,0.0,1.0,0.0,3.0,0.0,3.0,2.0,0.0,1.0,0.0,3.0,3.0,1.0,0.0,1.0,1.0,0.0,0.0,1.0,1.0,3.0,1.0,1.0,0.0,1.0,0.0,0.0,0.0,1.0,0.0,1.0,0.0,0.0,1.0,3.0,0.0,1.0,0.0,0.0,3.0,3.0,0.0,0.0,2.0,1.0,0.0,2.0,2.0,0.0,1.0,0.0,1.0,2.0,1.0,1.0,0.0,1.0,3.0,3.0,1.0,1.0,1.0,2.0,3.0,0.0,0.0,0.0,0.0,0.0,1.0,1.0,1.0,0.0,0.0,1.0,0.0,0.0,0.0,0.0,0.0,1.0,0.0,2.0,1.0,1.0,1.0,1.0,1.0,1.0,1.0,1.0,2.0,0.0,1.0,3.0,0.0,1.0,1.0,2.0,3.0,0.0,1.0,1.0,1.0,3.0,3.0,0.0,1.0,3.0,0.0,2.0,3.0,3.0,0.0,1.0,0.0,1.0,1.0,3.0,1.0,1.0,3.0,0.0,1.0,0.0,3.0,1.0,3.0,0.0,0.0,0.0,1.0,1.0,0.0,0.0,1.0,0.0,0.0,3.0,3.0,3.0,3.0,3.0,0.0,0.0,0.0,0.0,3.0,1.0,0.0,1.0,3.0,2.0,0.0,3.0,1.0,3.0,1.0,3.0,1.0,1.0,0.0,1.0,1.0,3.0,0.0,3.0,0.0,0.0,1.0,0.0,1.0,1.0,0.0,1.0,0.0,0.0,1.0,1.0,1.0,0.0,0.0,1.0,3.0,0.0,1.0,0.0,3.0,1.0,2.0,0.0,1.0,1.0,1.0,3.0,0.0,3.0,1.0,3.0,2.0,2.0,0.0,0.0,3.0,0.0,1.0,3.0,1.0,2.0,0.0,1.0,1.0,0.0,0.0,1.0,0.0,0.0,1.0,1.0,3.0,0.0,0.0,0.0,0.0,0.0,0.0,0.0,3.0,1.0,0.0,0.0,0.0,3.0,2.0,1.0,1.0,1.0,3.0,0.0,3.0,0.0,0.0,0.0,0.0,1.0,1.0,1.0,0.0,0.0,3.0,0.0,1.0,3.0,1.0,1.0,1.0,0.0,1.0,1.0,3.0,0.0,0.0,3.0,1.0,2.0,0.0,0.0,0.0,1.0,1.0,0.0,1.0,0.0,1.0,1.0,1.0,1.0,3.0,3.0,3.0,1.0,3.0,1.0,0.0,1.0,0.0,3.0,0.0,3.0,3.0,3.0,3.0,2.0,2.0,2.0,0.0,0.0,0.0,2.0,3.0,1.0,2.0,0.0,1.0,1.0,0.0,3.0,1.0,3.0,3.0,0.0,0.0,2.0,0.0,1.0,0.0,1.0,3.0,3.0,3.0,1.0,3.0,0.0,3.0,2.0,3.0,2.0,1.0,2.0,0.0,1.0,1.0,3.0,3.0,1.0,0.0,3.0,3.0,0.0,1.0,3.0,1.0,0.0,0.0,3.0,0.0,1.0,1.0,0.0,2.0,3.0,2.0,0.0,0.0,1.0,0.0,2.0,3.0,2.0,1.0,1.0,2.0,2.0,3.0,2.0,2.0,0.0,0.0,1.0,0.0,0.0,3.0,0.0,0.0,0.0,1.0,1.0,1.0,0.0,3.0,0.0,0.0,0.0,1.0,3.0,3.0,3.0,3.0,3.0,3.0,1.0,0.0,0.0,1.0,3.0,0.0,0.0,0.0,0.0,0.0,3.0,1.0,0.0,2.0,1.0,3.0,1.0,1.0,0.0,2.0,3.0,2.0,3.0,0.0,1.0,0.0,1.0,0.0,3.0,1.0,3.0,1.0,1.0,1.0,1.0,0.0,1.0,0.0,1.0,1.0,0.0,1.0,0.0,0.0,1.0,3.0,0.0,3.0,1.0,0.0,1.0,3.0,3.0,1.0,3.0,0.0,0.0,0.0,2.0,3.0,2.0,2.0,0.0,0.0,1.0,1.0,0.0,1.0,0.0,1.0,0.0,3.0,1.0,0.0,1.0,0.0,1.0,1.0,1.0,1.0,1.0,3.0,0.0,0.0,0.0,0.0,1.0,3.0,3.0,1.0,1.0,1.0,3.0,0.0,0.0,1.0,0.0,1.0,0.0,1.0,0.0,0.0,1.0,1.0,1.0,0.0,1.0,3.0,3.0,1.0,1.0,0.0,0.0,2.0,1.0,0.0,1.0,3.0,2.0,3.0,1.0,0.0,0.0,0.0,3.0,1.0,3.0,2.0,2.0,2.0,2.0,0.0,2.0,3.0,2.0,2.0,0.0,0.0,2.0,0.0,3.0,0.0,2.0,2.0,0.0,0.0,0.0,0.0,0.0,1.0,0.0,3.0,3.0,3.0,0.0,2.0,3.0,2.0,3.0,0.0,1.0,0.0,0.0,3.0,1.0,1.0,1.0,1.0,3.0,1.0,2.0,1.0,0.0,1.0,0.0,1.0,0.0,1.0,1.0,1.0,2.0,0.0,0.0,1.0,1.0,3.0,3.0,1.0,2.0,2.0,3.0,3.0,3.0,0.0,3.0,0.0,0.0,0.0,0.0,0.0,1.0,1.0,2.0,1.0,0.0,0.0,0.0,0.0,3.0,2.0,0.0,0.0,0.0,0.0,2.0,3.0,1.0,0.0,3.0,0.0,3.0,3.0,0.0,0.0,1.0,1.0,0.0,1.0,2.0,0.0,1.0,1.0,0.0,0.0,2.0,2.0,1.0,1.0,1.0,1.0,1.0,1.0,1.0,1.0,1.0,3.0,0.0,1.0,1.0,2.0,1.0,1.0,1.0,1.0,0.0,3.0,1.0,0.0,0.0,2.0,1.0,1.0,0.0,1.0,1.0,1.0,1.0,1.0,1.0,0.0,1.0,1.0,0.0,1.0,1.0,3.0,3.0,1.0,1.0,0.0,2.0,3.0,0.0,0.0,0.0,0.0,1.0,2.0,0.0,2.0,3.0,0.0,0.0,0.0,0.0,3.0,1.0,0.0],\"x\":[23990,35990,51100,39990,28580,70990,34990,49990,36990,59990,34990,64990,52990,57390,47490,153990,49990,75990,55490,27990,19299,27990,39990,27990,77990,78990,19990,71999,66780,44990,47990,47990,46990,102990,68239,46990,34990,53990,63990,113571,88800,53570,116990,70810,81290,35950,69990,39649,29990,32990,83590,54490,42499,27990,147990,74085,86490,60990,56990,72490,35990,108990,57990,69999,71990,119990,26990,77899,50000,56990,57990,49999,72490,69689,9800,15990,83990,46990,60990,44990,34990,66990,24440,51990,54990,11990,48990,74990,49990,53990,81689,63889,37040,94990,35990,72990,55990,94990,51800,49775,53990,79990,41990,37990,85990,39499,57990,67990,94990,75250,47990,66990,43700,154990,119990,104990,34890,32490,43400,40990,30990,40990,31090,68990,96389,43990,45651,52990,38990,33490,109990,72990,40499,35990,44990,148490,152990,37990,60990,50999,65990,32990,47990,132190,14990,33990,39700,32990,52990,29990,68710,61712,91990,60990,32990,72990,23999,71990,84990,25790,31999,72990,92800,48990,54990,39990,24990,61990,38990,72999,52990,62990,87090,70590,66990,114990,99990,34990,64500,74990,104990,94990,77490,24990,39990,55990,48990,39240,90060,85800,57990,60990,73020,53990,56990,32980,36990,59990,31990,144990,25990,31990,57300,29990,49990,56500,56990,60990,56990,119990,121489,47830,52490,67990,40190,61990,89990,55689,89490,119990,65490,34990,69990,78990,105739,42990,54990,21990,33400,50990,50990,43990,27990,105990,46990,46990,53990,48579,70990,69990,75990,24990,70990,30890,51990,57990,48450,79990,63990,19299,69999,62600,99990,83990,59871,56999,144990,40609,64990,132990,136990,54990,24990,63990,24990,116990,41750,36990,52199,21390,90464,87990,21990,34990,32949,150000,79467,56990,54990,57500,54599,62999,36490,45990,46990,66350,62990,36731,51901,59890,73990,61990,67288,34990,74900,152000,31990,29990,46500,32550,49990,44999,42999,19421,123190,68990,46990,107911,51894,30199,20999,155299,111943,76599,40990,46490,46990,99470,79990,56990,39800,88990,55190,112990,86500,105490,61990,47550,64990,49499,36990,90999,34590,32490,99111,55700,35900,70190,92190,27990,79970,51487,51990,56990,39990,32990,63999,65990,16490,53190,50990,92590,85990,84990,80190,109190,54190,54190,66718,53990,78190,39990,61990,38990,93190,139190,70190,103395,39990,90000,34990,79990,28990,49990,61700,32990,49990,86689,68028,89999,69437,73990,39990,63712,49990,32990,56340,30190,56880,56990,39990,29990,46990,50990,54990,38990,99990,74999,42499,67990,86189,36650,113999,65990,48990,49990,34990,86990,65990,97490,22913,99480,128990,113990,51990,51990,90689,69990,47990,100190,40100,137490,53990,42990,28190,73990,73463,44990,60379,75890,27990,37000,88190,62990,73990,69990,66389,60999,71990,61859,98990,36990,59990,56990,52990,90990,114990,25751,44639,44490,89990,62190,98468,58990,60190,73990,64190,41990,44990,45490,75990,75990,94369,62990,47490,94990,36990,41990,40926,71600,33990,37490,85990,57990,58070,109990,31990,152990,58850,59990,63990,26990,41490,70190,36690,67190,44990,46990,45870,38349,84190,86990,98990,32990,87490,47990,77490,41433,74950,87290,60490,77990,89990,96990,104990,149990,149990,114990,55990,58990,55990,119400,99999,37500,132599,50999,37588,36990,58990,105036,43990,101800,94990,69990,72990,119990,56490,37281,69494,32790,97990,78100,91490,36790,88527,59990,99990,146990,109990,123010,25990,139990,67499,35990,22990,84490,95990,39390,60900,81990,89889,67890,36990,89990,43735,74990,64990,89000,64990,43400,40590,70000,141989,98999,129990,65990,75499,25990,76600,126800,99990,133269,41990,32990,120449,129990,78299,152499,117899,71990,63990,23999,65500,73990,97999,52990,62990,73990,32899,24990,47990,73990,99990,52990,61990,69345,44990,96590,87990,86690,87690,78890,83990,38990,50990,55990,39290,107763,59990,72990,56700,65990,53990,78019,30790,57390,115706,41808,109990,44990,47990,52990,115990,83599,139990,87990,58990,49990,60490,35490,71990,90490,44990,111990,45500,40990,43690,49999,66199,29980,55990,29490,33490,53699,42990,57990,54990,47990,104990,74990,94990,40990,50990,47980,94990,84990,38990,79690,60990,51990,67000,125000,89799,150999,131316,75499,52990,40890,40990,69990,46990,65100,38171,64990,95300,35083,54990,27990,73900,34990,34990,46900,29990,46490,94900,52101,58499,74889,61990,28750,99490,80020,28206,42990,38990,88980,71990,73990,27990,73990,49490,61990,45899,68489,63314,48990,31490,38990,64990,32890,91990,87990,28999,29490,61990,76990,149290,39990,75533,43000,109990,129990,81402,49990,58269,56490,55900,92070,39990,104749,126890,131990,133890,154990,52900,144406,94990,149990,134990,60379,52794,154990,69990,84950,69990,143400,113401,67400,64990,76990,72990,58990,32990,61490,105990,86990,111439,76619,142999,93999,118000,79590,63990,35990,52990,63190,81000,39990,40100,36800,46490,104999,47650,114990,46990,60490,49990,65590,42990,71000,30927,47990,46288,124990,51990,58990,38490,44994,88990,96990,31990,132000,115990,89990,109990,81990,52590,91240,62990,69990,64500,71938,51990,33989,39790,119990,38980,55990,65190,72990,68990,77890,123271,70990,69990,62500,68800,143824,85990,45990,59990,104990,68390,97990,92990,64990,74990,43990,44990,63990,39242,129990,58990,22239,37490,55900,61990,145899,138511,21990,43990,45990,32990,32090,21990,45990,33490,35890,79500,56494,43190,43990,119600,27990,36490,48990,45990,65999,87990,33990,50785,57990,146271,32890,43500,61900,39551,30990,26999,32200,44970,45690,59990,41990,30999,76499,37990,47490,92990,82990,29990,32190,68990,118499,87391,68999,50591,60990,53990,40990,154999,54990,119990,77990,66990,59990,75500,65990,91990,44990,67990],\"y\":[63,67,73,62,62,45,56,70,60,71,60,68,71,71,66,85,59,76,71,56,49,59,57,57,63,77,54,66,76,59,62,71,65,48,66,64,60,62,72,77,71,71,80,71,71,58,70,66,54,58,76,70,63,50,80,75,66,67,69,70,64,78,72,72,65,53,53,70,60,71,70,70,62,64,41,46,72,57,54,51,66,72,47,70,65,41,70,75,65,63,71,63,59,70,60,70,67,80,57,62,66,70,63,60,75,62,63,72,72,72,67,64,62,88,75,70,58,54,52,66,49,64,60,74,79,60,67,65,64,56,43,70,60,60,64,78,77,59,64,58,53,54,62,83,45,65,59,63,72,56,67,60,71,66,50,64,49,67,69,50,56,71,76,64,60,58,49,73,56,63,65,73,76,62,69,63,67,63,75,65,76,70,73,50,62,63,57,63,77,76,70,66,66,65,72,53,62,60,59,56,57,57,62,59,65,64,58,70,67,80,78,64,65,73,59,57,67,64,69,75,69,54,70,65,71,59,66,53,53,67,68,62,49,79,68,67,65,60,65,56,60,52,69,50,67,73,62,71,64,39,62,73,78,78,71,54,85,58,74,45,45,59,49,62,52,68,64,52,56,56,56,67,50,54,50,64,64,57,58,51,58,62,50,58,62,69,66,53,62,58,57,60,52,49,63,59,51,47,64,51,64,64,62,41,67,66,63,75,65,44,43,70,78,69,57,63,57,77,58,56,62,64,70,76,67,75,69,58,65,54,53,72,57,56,69,69,60,67,75,45,63,58,63,57,66,60,65,62,47,62,72,70,70,58,57,63,65,69,66,51,64,56,53,57,58,78,58,77,57,65,57,70,47,67,65,57,67,73,53,70,58,62,58,60,62,51,57,46,57,56,58,51,63,57,64,56,70,64,43,69,71,58,75,57,59,65,62,71,63,60,52,62,83,79,67,67,70,66,56,65,57,83,69,50,43,67,67,59,60,59,51,52,58,60,64,63,62,58,58,58,73,53,53,72,70,64,72,41,57,62,73,63,72,58,59,65,69,58,60,56,65,66,70,71,65,76,63,60,57,62,56,58,57,69,63,76,51,70,64,63,60,51,45,60,60,62,57,65,56,58,64,62,63,58,62,54,59,57,71,60,63,60,76,76,77,79,76,77,69,71,70,72,71,59,75,67,59,57,64,67,58,72,72,66,72,73,70,58,60,54,72,67,71,60,73,64,73,77,75,73,45,77,65,58,44,60,63,57,65,63,63,65,58,71,56,69,72,75,72,57,57,70,82,67,80,69,59,44,72,69,73,69,64,46,67,71,72,78,69,70,65,52,60,63,73,62,65,65,59,50,67,60,75,70,64,62,58,66,66,66,70,66,72,57,60,60,60,71,56,69,64,67,66,69,59,67,71,53,69,58,53,60,70,72,83,56,71,64,67,59,70,67,58,78,57,58,52,62,62,50,60,57,57,62,50,67,65,60,78,69,77,60,66,59,77,75,63,70,63,70,63,75,75,72,72,62,65,54,57,69,57,66,59,64,66,53,69,54,64,53,54,56,59,57,71,66,71,64,56,49,59,58,50,57,58,56,52,57,45,67,58,56,63,65,67,63,50,47,66,56,75,75,53,50,64,64,76,51,66,52,73,75,69,50,59,52,50,71,54,71,73,84,75,83,67,73,77,76,80,67,58,82,66,72,65,70,75,57,59,69,71,62,58,57,66,73,76,66,78,70,75,66,71,56,57,67,71,58,54,47,54,65,51,66,51,54,67,56,62,67,45,63,56,78,63,60,59,64,65,77,59,73,73,70,71,65,60,75,59,70,75,64,67,56,52,77,48,59,65,71,73,72,78,63,70,56,62,75,60,57,56,71,64,64,70,62,60,53,62,58,51,74,62,47,64,59,72,79,72,43,59,59,50,44,45,58,56,56,67,70,58,53,68,52,60,54,66,55,72,52,59,59,75,52,54,67,43,50,59,48,58,59,64,60,47,71,58,59,72,74,54,53,72,72,67,71,59,61,58,56,73,68,76,68,65,64,67,68,73,59,68],\"type\":\"scatter\"}],                        {\"template\":{\"data\":{\"histogram2dcontour\":[{\"type\":\"histogram2dcontour\",\"colorbar\":{\"outlinewidth\":0,\"ticks\":\"\"},\"colorscale\":[[0.0,\"#0d0887\"],[0.1111111111111111,\"#46039f\"],[0.2222222222222222,\"#7201a8\"],[0.3333333333333333,\"#9c179e\"],[0.4444444444444444,\"#bd3786\"],[0.5555555555555556,\"#d8576b\"],[0.6666666666666666,\"#ed7953\"],[0.7777777777777778,\"#fb9f3a\"],[0.8888888888888888,\"#fdca26\"],[1.0,\"#f0f921\"]]}],\"choropleth\":[{\"type\":\"choropleth\",\"colorbar\":{\"outlinewidth\":0,\"ticks\":\"\"}}],\"histogram2d\":[{\"type\":\"histogram2d\",\"colorbar\":{\"outlinewidth\":0,\"ticks\":\"\"},\"colorscale\":[[0.0,\"#0d0887\"],[0.1111111111111111,\"#46039f\"],[0.2222222222222222,\"#7201a8\"],[0.3333333333333333,\"#9c179e\"],[0.4444444444444444,\"#bd3786\"],[0.5555555555555556,\"#d8576b\"],[0.6666666666666666,\"#ed7953\"],[0.7777777777777778,\"#fb9f3a\"],[0.8888888888888888,\"#fdca26\"],[1.0,\"#f0f921\"]]}],\"heatmap\":[{\"type\":\"heatmap\",\"colorbar\":{\"outlinewidth\":0,\"ticks\":\"\"},\"colorscale\":[[0.0,\"#0d0887\"],[0.1111111111111111,\"#46039f\"],[0.2222222222222222,\"#7201a8\"],[0.3333333333333333,\"#9c179e\"],[0.4444444444444444,\"#bd3786\"],[0.5555555555555556,\"#d8576b\"],[0.6666666666666666,\"#ed7953\"],[0.7777777777777778,\"#fb9f3a\"],[0.8888888888888888,\"#fdca26\"],[1.0,\"#f0f921\"]]}],\"heatmapgl\":[{\"type\":\"heatmapgl\",\"colorbar\":{\"outlinewidth\":0,\"ticks\":\"\"},\"colorscale\":[[0.0,\"#0d0887\"],[0.1111111111111111,\"#46039f\"],[0.2222222222222222,\"#7201a8\"],[0.3333333333333333,\"#9c179e\"],[0.4444444444444444,\"#bd3786\"],[0.5555555555555556,\"#d8576b\"],[0.6666666666666666,\"#ed7953\"],[0.7777777777777778,\"#fb9f3a\"],[0.8888888888888888,\"#fdca26\"],[1.0,\"#f0f921\"]]}],\"contourcarpet\":[{\"type\":\"contourcarpet\",\"colorbar\":{\"outlinewidth\":0,\"ticks\":\"\"}}],\"contour\":[{\"type\":\"contour\",\"colorbar\":{\"outlinewidth\":0,\"ticks\":\"\"},\"colorscale\":[[0.0,\"#0d0887\"],[0.1111111111111111,\"#46039f\"],[0.2222222222222222,\"#7201a8\"],[0.3333333333333333,\"#9c179e\"],[0.4444444444444444,\"#bd3786\"],[0.5555555555555556,\"#d8576b\"],[0.6666666666666666,\"#ed7953\"],[0.7777777777777778,\"#fb9f3a\"],[0.8888888888888888,\"#fdca26\"],[1.0,\"#f0f921\"]]}],\"surface\":[{\"type\":\"surface\",\"colorbar\":{\"outlinewidth\":0,\"ticks\":\"\"},\"colorscale\":[[0.0,\"#0d0887\"],[0.1111111111111111,\"#46039f\"],[0.2222222222222222,\"#7201a8\"],[0.3333333333333333,\"#9c179e\"],[0.4444444444444444,\"#bd3786\"],[0.5555555555555556,\"#d8576b\"],[0.6666666666666666,\"#ed7953\"],[0.7777777777777778,\"#fb9f3a\"],[0.8888888888888888,\"#fdca26\"],[1.0,\"#f0f921\"]]}],\"mesh3d\":[{\"type\":\"mesh3d\",\"colorbar\":{\"outlinewidth\":0,\"ticks\":\"\"}}],\"scatter\":[{\"fillpattern\":{\"fillmode\":\"overlay\",\"size\":10,\"solidity\":0.2},\"type\":\"scatter\"}],\"parcoords\":[{\"type\":\"parcoords\",\"line\":{\"colorbar\":{\"outlinewidth\":0,\"ticks\":\"\"}}}],\"scatterpolargl\":[{\"type\":\"scatterpolargl\",\"marker\":{\"colorbar\":{\"outlinewidth\":0,\"ticks\":\"\"}}}],\"bar\":[{\"error_x\":{\"color\":\"#2a3f5f\"},\"error_y\":{\"color\":\"#2a3f5f\"},\"marker\":{\"line\":{\"color\":\"#E5ECF6\",\"width\":0.5},\"pattern\":{\"fillmode\":\"overlay\",\"size\":10,\"solidity\":0.2}},\"type\":\"bar\"}],\"scattergeo\":[{\"type\":\"scattergeo\",\"marker\":{\"colorbar\":{\"outlinewidth\":0,\"ticks\":\"\"}}}],\"scatterpolar\":[{\"type\":\"scatterpolar\",\"marker\":{\"colorbar\":{\"outlinewidth\":0,\"ticks\":\"\"}}}],\"histogram\":[{\"marker\":{\"pattern\":{\"fillmode\":\"overlay\",\"size\":10,\"solidity\":0.2}},\"type\":\"histogram\"}],\"scattergl\":[{\"type\":\"scattergl\",\"marker\":{\"colorbar\":{\"outlinewidth\":0,\"ticks\":\"\"}}}],\"scatter3d\":[{\"type\":\"scatter3d\",\"line\":{\"colorbar\":{\"outlinewidth\":0,\"ticks\":\"\"}},\"marker\":{\"colorbar\":{\"outlinewidth\":0,\"ticks\":\"\"}}}],\"scattermapbox\":[{\"type\":\"scattermapbox\",\"marker\":{\"colorbar\":{\"outlinewidth\":0,\"ticks\":\"\"}}}],\"scatterternary\":[{\"type\":\"scatterternary\",\"marker\":{\"colorbar\":{\"outlinewidth\":0,\"ticks\":\"\"}}}],\"scattercarpet\":[{\"type\":\"scattercarpet\",\"marker\":{\"colorbar\":{\"outlinewidth\":0,\"ticks\":\"\"}}}],\"carpet\":[{\"aaxis\":{\"endlinecolor\":\"#2a3f5f\",\"gridcolor\":\"white\",\"linecolor\":\"white\",\"minorgridcolor\":\"white\",\"startlinecolor\":\"#2a3f5f\"},\"baxis\":{\"endlinecolor\":\"#2a3f5f\",\"gridcolor\":\"white\",\"linecolor\":\"white\",\"minorgridcolor\":\"white\",\"startlinecolor\":\"#2a3f5f\"},\"type\":\"carpet\"}],\"table\":[{\"cells\":{\"fill\":{\"color\":\"#EBF0F8\"},\"line\":{\"color\":\"white\"}},\"header\":{\"fill\":{\"color\":\"#C8D4E3\"},\"line\":{\"color\":\"white\"}},\"type\":\"table\"}],\"barpolar\":[{\"marker\":{\"line\":{\"color\":\"#E5ECF6\",\"width\":0.5},\"pattern\":{\"fillmode\":\"overlay\",\"size\":10,\"solidity\":0.2}},\"type\":\"barpolar\"}],\"pie\":[{\"automargin\":true,\"type\":\"pie\"}]},\"layout\":{\"autotypenumbers\":\"strict\",\"colorway\":[\"#636efa\",\"#EF553B\",\"#00cc96\",\"#ab63fa\",\"#FFA15A\",\"#19d3f3\",\"#FF6692\",\"#B6E880\",\"#FF97FF\",\"#FECB52\"],\"font\":{\"color\":\"#2a3f5f\"},\"hovermode\":\"closest\",\"hoverlabel\":{\"align\":\"left\"},\"paper_bgcolor\":\"white\",\"plot_bgcolor\":\"#E5ECF6\",\"polar\":{\"bgcolor\":\"#E5ECF6\",\"angularaxis\":{\"gridcolor\":\"white\",\"linecolor\":\"white\",\"ticks\":\"\"},\"radialaxis\":{\"gridcolor\":\"white\",\"linecolor\":\"white\",\"ticks\":\"\"}},\"ternary\":{\"bgcolor\":\"#E5ECF6\",\"aaxis\":{\"gridcolor\":\"white\",\"linecolor\":\"white\",\"ticks\":\"\"},\"baxis\":{\"gridcolor\":\"white\",\"linecolor\":\"white\",\"ticks\":\"\"},\"caxis\":{\"gridcolor\":\"white\",\"linecolor\":\"white\",\"ticks\":\"\"}},\"coloraxis\":{\"colorbar\":{\"outlinewidth\":0,\"ticks\":\"\"}},\"colorscale\":{\"sequential\":[[0.0,\"#0d0887\"],[0.1111111111111111,\"#46039f\"],[0.2222222222222222,\"#7201a8\"],[0.3333333333333333,\"#9c179e\"],[0.4444444444444444,\"#bd3786\"],[0.5555555555555556,\"#d8576b\"],[0.6666666666666666,\"#ed7953\"],[0.7777777777777778,\"#fb9f3a\"],[0.8888888888888888,\"#fdca26\"],[1.0,\"#f0f921\"]],\"sequentialminus\":[[0.0,\"#0d0887\"],[0.1111111111111111,\"#46039f\"],[0.2222222222222222,\"#7201a8\"],[0.3333333333333333,\"#9c179e\"],[0.4444444444444444,\"#bd3786\"],[0.5555555555555556,\"#d8576b\"],[0.6666666666666666,\"#ed7953\"],[0.7777777777777778,\"#fb9f3a\"],[0.8888888888888888,\"#fdca26\"],[1.0,\"#f0f921\"]],\"diverging\":[[0,\"#8e0152\"],[0.1,\"#c51b7d\"],[0.2,\"#de77ae\"],[0.3,\"#f1b6da\"],[0.4,\"#fde0ef\"],[0.5,\"#f7f7f7\"],[0.6,\"#e6f5d0\"],[0.7,\"#b8e186\"],[0.8,\"#7fbc41\"],[0.9,\"#4d9221\"],[1,\"#276419\"]]},\"xaxis\":{\"gridcolor\":\"white\",\"linecolor\":\"white\",\"ticks\":\"\",\"title\":{\"standoff\":15},\"zerolinecolor\":\"white\",\"automargin\":true,\"zerolinewidth\":2},\"yaxis\":{\"gridcolor\":\"white\",\"linecolor\":\"white\",\"ticks\":\"\",\"title\":{\"standoff\":15},\"zerolinecolor\":\"white\",\"automargin\":true,\"zerolinewidth\":2},\"scene\":{\"xaxis\":{\"backgroundcolor\":\"#E5ECF6\",\"gridcolor\":\"white\",\"linecolor\":\"white\",\"showbackground\":true,\"ticks\":\"\",\"zerolinecolor\":\"white\",\"gridwidth\":2},\"yaxis\":{\"backgroundcolor\":\"#E5ECF6\",\"gridcolor\":\"white\",\"linecolor\":\"white\",\"showbackground\":true,\"ticks\":\"\",\"zerolinecolor\":\"white\",\"gridwidth\":2},\"zaxis\":{\"backgroundcolor\":\"#E5ECF6\",\"gridcolor\":\"white\",\"linecolor\":\"white\",\"showbackground\":true,\"ticks\":\"\",\"zerolinecolor\":\"white\",\"gridwidth\":2}},\"shapedefaults\":{\"line\":{\"color\":\"#2a3f5f\"}},\"annotationdefaults\":{\"arrowcolor\":\"#2a3f5f\",\"arrowhead\":0,\"arrowwidth\":1},\"geo\":{\"bgcolor\":\"white\",\"landcolor\":\"#E5ECF6\",\"subunitcolor\":\"white\",\"showland\":true,\"showlakes\":true,\"lakecolor\":\"white\"},\"title\":{\"x\":0.05},\"mapbox\":{\"style\":\"light\"}}}},                        {\"responsive\": true}                    ).then(function(){\n",
       "                            \n",
       "var gd = document.getElementById('f9f45065-e444-45c4-b9c7-188c1be5f84d');\n",
       "var x = new MutationObserver(function (mutations, observer) {{\n",
       "        var display = window.getComputedStyle(gd).display;\n",
       "        if (!display || display === 'none') {{\n",
       "            console.log([gd, 'removed!']);\n",
       "            Plotly.purge(gd);\n",
       "            observer.disconnect();\n",
       "        }}\n",
       "}});\n",
       "\n",
       "// Listen for the removal of the full notebook cells\n",
       "var notebookContainer = gd.closest('#notebook-container');\n",
       "if (notebookContainer) {{\n",
       "    x.observe(notebookContainer, {childList: true});\n",
       "}}\n",
       "\n",
       "// Listen for the clearing of the current output cell\n",
       "var outputEl = gd.closest('.output');\n",
       "if (outputEl) {{\n",
       "    x.observe(outputEl, {childList: true});\n",
       "}}\n",
       "\n",
       "                        })                };                });            </script>        </div>"
      ]
     },
     "metadata": {},
     "output_type": "display_data"
    }
   ],
   "source": [
    "# Creating a chart (go = graphic object) with data from labels in two dimensions ('Price' and 'Rating')\n",
    "fig = go.Figure()\n",
    "fig.add_trace(go.Scatter(x=df['Price'], y = df['Rating'],\n",
    "                                                        mode = 'markers',                      \n",
    "                                                        marker = dict(color = agrupador.labels_.astype(np.float64)),\n",
    "                                                        text = labels))\n",
    "ax.set_xlabel('Day', fontsize=12) \n",
    "fig.show()"
   ]
  },
  {
   "cell_type": "markdown",
   "id": "25e9cc14",
   "metadata": {
    "papermill": {
     "duration": 0.03233,
     "end_time": "2024-03-11T05:10:41.389698",
     "exception": false,
     "start_time": "2024-03-11T05:10:41.357368",
     "status": "completed"
    },
    "tags": []
   },
   "source": [
    "<div class=\"alert alert-block alert-info\" style=\"background-color:caf0f8;color:#008849;border-color:black;width:80%;margin: auto;text-align: center;\">\n",
    "<b>Insight:</b> There is strong correlation between Price and Rating, as we can see in the graph.</div>"
   ]
  },
  {
   "cell_type": "code",
   "execution_count": 27,
   "id": "f681c468",
   "metadata": {
    "execution": {
     "iopub.execute_input": "2024-03-11T05:10:41.458183Z",
     "iopub.status.busy": "2024-03-11T05:10:41.456880Z",
     "iopub.status.idle": "2024-03-11T05:10:41.471562Z",
     "shell.execute_reply": "2024-03-11T05:10:41.470387Z"
    },
    "papermill": {
     "duration": 0.051282,
     "end_time": "2024-03-11T05:10:41.474645",
     "exception": false,
     "start_time": "2024-03-11T05:10:41.423363",
     "status": "completed"
    },
    "tags": []
   },
   "outputs": [
    {
     "data": {
      "text/html": [
       "<div>                            <div id=\"922ae8ee-4139-4a45-9f86-422e2eb8c69f\" class=\"plotly-graph-div\" style=\"height:525px; width:100%;\"></div>            <script type=\"text/javascript\">                require([\"plotly\"], function(Plotly) {                    window.PLOTLYENV=window.PLOTLYENV || {};                                    if (document.getElementById(\"922ae8ee-4139-4a45-9f86-422e2eb8c69f\")) {                    Plotly.newPlot(                        \"922ae8ee-4139-4a45-9f86-422e2eb8c69f\",                        [{\"marker\":{\"color\":[1.0,1.0,0.0,1.0,1.0,0.0,1.0,1.0,1.0,0.0,1.0,0.0,0.0,0.0,1.0,2.0,1.0,0.0,0.0,1.0,1.0,1.0,1.0,1.0,3.0,3.0,1.0,0.0,0.0,1.0,1.0,1.0,1.0,3.0,0.0,1.0,1.0,0.0,0.0,2.0,3.0,0.0,2.0,0.0,3.0,1.0,0.0,1.0,1.0,1.0,3.0,0.0,1.0,1.0,2.0,0.0,3.0,0.0,0.0,0.0,1.0,3.0,0.0,0.0,0.0,2.0,1.0,3.0,1.0,0.0,0.0,1.0,0.0,0.0,1.0,1.0,3.0,1.0,0.0,1.0,1.0,0.0,1.0,0.0,0.0,1.0,1.0,0.0,1.0,0.0,3.0,0.0,1.0,3.0,1.0,0.0,0.0,3.0,0.0,1.0,0.0,3.0,1.0,1.0,3.0,1.0,0.0,0.0,3.0,0.0,1.0,0.0,1.0,2.0,2.0,3.0,1.0,1.0,1.0,1.0,1.0,1.0,1.0,0.0,3.0,1.0,1.0,0.0,1.0,1.0,3.0,0.0,1.0,1.0,1.0,2.0,2.0,1.0,0.0,0.0,0.0,1.0,1.0,2.0,1.0,1.0,1.0,1.0,0.0,1.0,0.0,0.0,3.0,0.0,1.0,0.0,1.0,0.0,3.0,1.0,1.0,0.0,3.0,1.0,0.0,1.0,1.0,0.0,1.0,0.0,0.0,0.0,3.0,0.0,0.0,2.0,3.0,1.0,0.0,0.0,3.0,3.0,0.0,1.0,1.0,0.0,1.0,1.0,3.0,3.0,0.0,0.0,0.0,0.0,0.0,1.0,1.0,0.0,1.0,2.0,1.0,1.0,0.0,1.0,1.0,0.0,0.0,0.0,0.0,2.0,2.0,1.0,0.0,0.0,1.0,0.0,3.0,0.0,3.0,2.0,0.0,1.0,0.0,3.0,3.0,1.0,0.0,1.0,1.0,0.0,0.0,1.0,1.0,3.0,1.0,1.0,0.0,1.0,0.0,0.0,0.0,1.0,0.0,1.0,0.0,0.0,1.0,3.0,0.0,1.0,0.0,0.0,3.0,3.0,0.0,0.0,2.0,1.0,0.0,2.0,2.0,0.0,1.0,0.0,1.0,2.0,1.0,1.0,0.0,1.0,3.0,3.0,1.0,1.0,1.0,2.0,3.0,0.0,0.0,0.0,0.0,0.0,1.0,1.0,1.0,0.0,0.0,1.0,0.0,0.0,0.0,0.0,0.0,1.0,0.0,2.0,1.0,1.0,1.0,1.0,1.0,1.0,1.0,1.0,2.0,0.0,1.0,3.0,0.0,1.0,1.0,2.0,3.0,0.0,1.0,1.0,1.0,3.0,3.0,0.0,1.0,3.0,0.0,2.0,3.0,3.0,0.0,1.0,0.0,1.0,1.0,3.0,1.0,1.0,3.0,0.0,1.0,0.0,3.0,1.0,3.0,0.0,0.0,0.0,1.0,1.0,0.0,0.0,1.0,0.0,0.0,3.0,3.0,3.0,3.0,3.0,0.0,0.0,0.0,0.0,3.0,1.0,0.0,1.0,3.0,2.0,0.0,3.0,1.0,3.0,1.0,3.0,1.0,1.0,0.0,1.0,1.0,3.0,0.0,3.0,0.0,0.0,1.0,0.0,1.0,1.0,0.0,1.0,0.0,0.0,1.0,1.0,1.0,0.0,0.0,1.0,3.0,0.0,1.0,0.0,3.0,1.0,2.0,0.0,1.0,1.0,1.0,3.0,0.0,3.0,1.0,3.0,2.0,2.0,0.0,0.0,3.0,0.0,1.0,3.0,1.0,2.0,0.0,1.0,1.0,0.0,0.0,1.0,0.0,0.0,1.0,1.0,3.0,0.0,0.0,0.0,0.0,0.0,0.0,0.0,3.0,1.0,0.0,0.0,0.0,3.0,2.0,1.0,1.0,1.0,3.0,0.0,3.0,0.0,0.0,0.0,0.0,1.0,1.0,1.0,0.0,0.0,3.0,0.0,1.0,3.0,1.0,1.0,1.0,0.0,1.0,1.0,3.0,0.0,0.0,3.0,1.0,2.0,0.0,0.0,0.0,1.0,1.0,0.0,1.0,0.0,1.0,1.0,1.0,1.0,3.0,3.0,3.0,1.0,3.0,1.0,0.0,1.0,0.0,3.0,0.0,3.0,3.0,3.0,3.0,2.0,2.0,2.0,0.0,0.0,0.0,2.0,3.0,1.0,2.0,0.0,1.0,1.0,0.0,3.0,1.0,3.0,3.0,0.0,0.0,2.0,0.0,1.0,0.0,1.0,3.0,3.0,3.0,1.0,3.0,0.0,3.0,2.0,3.0,2.0,1.0,2.0,0.0,1.0,1.0,3.0,3.0,1.0,0.0,3.0,3.0,0.0,1.0,3.0,1.0,0.0,0.0,3.0,0.0,1.0,1.0,0.0,2.0,3.0,2.0,0.0,0.0,1.0,0.0,2.0,3.0,2.0,1.0,1.0,2.0,2.0,3.0,2.0,2.0,0.0,0.0,1.0,0.0,0.0,3.0,0.0,0.0,0.0,1.0,1.0,1.0,0.0,3.0,0.0,0.0,0.0,1.0,3.0,3.0,3.0,3.0,3.0,3.0,1.0,0.0,0.0,1.0,3.0,0.0,0.0,0.0,0.0,0.0,3.0,1.0,0.0,2.0,1.0,3.0,1.0,1.0,0.0,2.0,3.0,2.0,3.0,0.0,1.0,0.0,1.0,0.0,3.0,1.0,3.0,1.0,1.0,1.0,1.0,0.0,1.0,0.0,1.0,1.0,0.0,1.0,0.0,0.0,1.0,3.0,0.0,3.0,1.0,0.0,1.0,3.0,3.0,1.0,3.0,0.0,0.0,0.0,2.0,3.0,2.0,2.0,0.0,0.0,1.0,1.0,0.0,1.0,0.0,1.0,0.0,3.0,1.0,0.0,1.0,0.0,1.0,1.0,1.0,1.0,1.0,3.0,0.0,0.0,0.0,0.0,1.0,3.0,3.0,1.0,1.0,1.0,3.0,0.0,0.0,1.0,0.0,1.0,0.0,1.0,0.0,0.0,1.0,1.0,1.0,0.0,1.0,3.0,3.0,1.0,1.0,0.0,0.0,2.0,1.0,0.0,1.0,3.0,2.0,3.0,1.0,0.0,0.0,0.0,3.0,1.0,3.0,2.0,2.0,2.0,2.0,0.0,2.0,3.0,2.0,2.0,0.0,0.0,2.0,0.0,3.0,0.0,2.0,2.0,0.0,0.0,0.0,0.0,0.0,1.0,0.0,3.0,3.0,3.0,0.0,2.0,3.0,2.0,3.0,0.0,1.0,0.0,0.0,3.0,1.0,1.0,1.0,1.0,3.0,1.0,2.0,1.0,0.0,1.0,0.0,1.0,0.0,1.0,1.0,1.0,2.0,0.0,0.0,1.0,1.0,3.0,3.0,1.0,2.0,2.0,3.0,3.0,3.0,0.0,3.0,0.0,0.0,0.0,0.0,0.0,1.0,1.0,2.0,1.0,0.0,0.0,0.0,0.0,3.0,2.0,0.0,0.0,0.0,0.0,2.0,3.0,1.0,0.0,3.0,0.0,3.0,3.0,0.0,0.0,1.0,1.0,0.0,1.0,2.0,0.0,1.0,1.0,0.0,0.0,2.0,2.0,1.0,1.0,1.0,1.0,1.0,1.0,1.0,1.0,1.0,3.0,0.0,1.0,1.0,2.0,1.0,1.0,1.0,1.0,0.0,3.0,1.0,0.0,0.0,2.0,1.0,1.0,0.0,1.0,1.0,1.0,1.0,1.0,1.0,0.0,1.0,1.0,0.0,1.0,1.0,3.0,3.0,1.0,1.0,0.0,2.0,3.0,0.0,0.0,0.0,0.0,1.0,2.0,0.0,2.0,3.0,0.0,0.0,0.0,0.0,3.0,1.0,0.0]},\"mode\":\"markers\",\"text\":[1.0,1.0,0.0,1.0,1.0,0.0,1.0,1.0,1.0,0.0,1.0,0.0,0.0,0.0,1.0,2.0,1.0,0.0,0.0,1.0,1.0,1.0,1.0,1.0,3.0,3.0,1.0,0.0,0.0,1.0,1.0,1.0,1.0,3.0,0.0,1.0,1.0,0.0,0.0,2.0,3.0,0.0,2.0,0.0,3.0,1.0,0.0,1.0,1.0,1.0,3.0,0.0,1.0,1.0,2.0,0.0,3.0,0.0,0.0,0.0,1.0,3.0,0.0,0.0,0.0,2.0,1.0,3.0,1.0,0.0,0.0,1.0,0.0,0.0,1.0,1.0,3.0,1.0,0.0,1.0,1.0,0.0,1.0,0.0,0.0,1.0,1.0,0.0,1.0,0.0,3.0,0.0,1.0,3.0,1.0,0.0,0.0,3.0,0.0,1.0,0.0,3.0,1.0,1.0,3.0,1.0,0.0,0.0,3.0,0.0,1.0,0.0,1.0,2.0,2.0,3.0,1.0,1.0,1.0,1.0,1.0,1.0,1.0,0.0,3.0,1.0,1.0,0.0,1.0,1.0,3.0,0.0,1.0,1.0,1.0,2.0,2.0,1.0,0.0,0.0,0.0,1.0,1.0,2.0,1.0,1.0,1.0,1.0,0.0,1.0,0.0,0.0,3.0,0.0,1.0,0.0,1.0,0.0,3.0,1.0,1.0,0.0,3.0,1.0,0.0,1.0,1.0,0.0,1.0,0.0,0.0,0.0,3.0,0.0,0.0,2.0,3.0,1.0,0.0,0.0,3.0,3.0,0.0,1.0,1.0,0.0,1.0,1.0,3.0,3.0,0.0,0.0,0.0,0.0,0.0,1.0,1.0,0.0,1.0,2.0,1.0,1.0,0.0,1.0,1.0,0.0,0.0,0.0,0.0,2.0,2.0,1.0,0.0,0.0,1.0,0.0,3.0,0.0,3.0,2.0,0.0,1.0,0.0,3.0,3.0,1.0,0.0,1.0,1.0,0.0,0.0,1.0,1.0,3.0,1.0,1.0,0.0,1.0,0.0,0.0,0.0,1.0,0.0,1.0,0.0,0.0,1.0,3.0,0.0,1.0,0.0,0.0,3.0,3.0,0.0,0.0,2.0,1.0,0.0,2.0,2.0,0.0,1.0,0.0,1.0,2.0,1.0,1.0,0.0,1.0,3.0,3.0,1.0,1.0,1.0,2.0,3.0,0.0,0.0,0.0,0.0,0.0,1.0,1.0,1.0,0.0,0.0,1.0,0.0,0.0,0.0,0.0,0.0,1.0,0.0,2.0,1.0,1.0,1.0,1.0,1.0,1.0,1.0,1.0,2.0,0.0,1.0,3.0,0.0,1.0,1.0,2.0,3.0,0.0,1.0,1.0,1.0,3.0,3.0,0.0,1.0,3.0,0.0,2.0,3.0,3.0,0.0,1.0,0.0,1.0,1.0,3.0,1.0,1.0,3.0,0.0,1.0,0.0,3.0,1.0,3.0,0.0,0.0,0.0,1.0,1.0,0.0,0.0,1.0,0.0,0.0,3.0,3.0,3.0,3.0,3.0,0.0,0.0,0.0,0.0,3.0,1.0,0.0,1.0,3.0,2.0,0.0,3.0,1.0,3.0,1.0,3.0,1.0,1.0,0.0,1.0,1.0,3.0,0.0,3.0,0.0,0.0,1.0,0.0,1.0,1.0,0.0,1.0,0.0,0.0,1.0,1.0,1.0,0.0,0.0,1.0,3.0,0.0,1.0,0.0,3.0,1.0,2.0,0.0,1.0,1.0,1.0,3.0,0.0,3.0,1.0,3.0,2.0,2.0,0.0,0.0,3.0,0.0,1.0,3.0,1.0,2.0,0.0,1.0,1.0,0.0,0.0,1.0,0.0,0.0,1.0,1.0,3.0,0.0,0.0,0.0,0.0,0.0,0.0,0.0,3.0,1.0,0.0,0.0,0.0,3.0,2.0,1.0,1.0,1.0,3.0,0.0,3.0,0.0,0.0,0.0,0.0,1.0,1.0,1.0,0.0,0.0,3.0,0.0,1.0,3.0,1.0,1.0,1.0,0.0,1.0,1.0,3.0,0.0,0.0,3.0,1.0,2.0,0.0,0.0,0.0,1.0,1.0,0.0,1.0,0.0,1.0,1.0,1.0,1.0,3.0,3.0,3.0,1.0,3.0,1.0,0.0,1.0,0.0,3.0,0.0,3.0,3.0,3.0,3.0,2.0,2.0,2.0,0.0,0.0,0.0,2.0,3.0,1.0,2.0,0.0,1.0,1.0,0.0,3.0,1.0,3.0,3.0,0.0,0.0,2.0,0.0,1.0,0.0,1.0,3.0,3.0,3.0,1.0,3.0,0.0,3.0,2.0,3.0,2.0,1.0,2.0,0.0,1.0,1.0,3.0,3.0,1.0,0.0,3.0,3.0,0.0,1.0,3.0,1.0,0.0,0.0,3.0,0.0,1.0,1.0,0.0,2.0,3.0,2.0,0.0,0.0,1.0,0.0,2.0,3.0,2.0,1.0,1.0,2.0,2.0,3.0,2.0,2.0,0.0,0.0,1.0,0.0,0.0,3.0,0.0,0.0,0.0,1.0,1.0,1.0,0.0,3.0,0.0,0.0,0.0,1.0,3.0,3.0,3.0,3.0,3.0,3.0,1.0,0.0,0.0,1.0,3.0,0.0,0.0,0.0,0.0,0.0,3.0,1.0,0.0,2.0,1.0,3.0,1.0,1.0,0.0,2.0,3.0,2.0,3.0,0.0,1.0,0.0,1.0,0.0,3.0,1.0,3.0,1.0,1.0,1.0,1.0,0.0,1.0,0.0,1.0,1.0,0.0,1.0,0.0,0.0,1.0,3.0,0.0,3.0,1.0,0.0,1.0,3.0,3.0,1.0,3.0,0.0,0.0,0.0,2.0,3.0,2.0,2.0,0.0,0.0,1.0,1.0,0.0,1.0,0.0,1.0,0.0,3.0,1.0,0.0,1.0,0.0,1.0,1.0,1.0,1.0,1.0,3.0,0.0,0.0,0.0,0.0,1.0,3.0,3.0,1.0,1.0,1.0,3.0,0.0,0.0,1.0,0.0,1.0,0.0,1.0,0.0,0.0,1.0,1.0,1.0,0.0,1.0,3.0,3.0,1.0,1.0,0.0,0.0,2.0,1.0,0.0,1.0,3.0,2.0,3.0,1.0,0.0,0.0,0.0,3.0,1.0,3.0,2.0,2.0,2.0,2.0,0.0,2.0,3.0,2.0,2.0,0.0,0.0,2.0,0.0,3.0,0.0,2.0,2.0,0.0,0.0,0.0,0.0,0.0,1.0,0.0,3.0,3.0,3.0,0.0,2.0,3.0,2.0,3.0,0.0,1.0,0.0,0.0,3.0,1.0,1.0,1.0,1.0,3.0,1.0,2.0,1.0,0.0,1.0,0.0,1.0,0.0,1.0,1.0,1.0,2.0,0.0,0.0,1.0,1.0,3.0,3.0,1.0,2.0,2.0,3.0,3.0,3.0,0.0,3.0,0.0,0.0,0.0,0.0,0.0,1.0,1.0,2.0,1.0,0.0,0.0,0.0,0.0,3.0,2.0,0.0,0.0,0.0,0.0,2.0,3.0,1.0,0.0,3.0,0.0,3.0,3.0,0.0,0.0,1.0,1.0,0.0,1.0,2.0,0.0,1.0,1.0,0.0,0.0,2.0,2.0,1.0,1.0,1.0,1.0,1.0,1.0,1.0,1.0,1.0,3.0,0.0,1.0,1.0,2.0,1.0,1.0,1.0,1.0,0.0,3.0,1.0,0.0,0.0,2.0,1.0,1.0,0.0,1.0,1.0,1.0,1.0,1.0,1.0,0.0,1.0,1.0,0.0,1.0,1.0,3.0,3.0,1.0,1.0,0.0,2.0,3.0,0.0,0.0,0.0,0.0,1.0,2.0,0.0,2.0,3.0,0.0,0.0,0.0,0.0,3.0,1.0,0.0],\"x\":[23990,35990,51100,39990,28580,70990,34990,49990,36990,59990,34990,64990,52990,57390,47490,153990,49990,75990,55490,27990,19299,27990,39990,27990,77990,78990,19990,71999,66780,44990,47990,47990,46990,102990,68239,46990,34990,53990,63990,113571,88800,53570,116990,70810,81290,35950,69990,39649,29990,32990,83590,54490,42499,27990,147990,74085,86490,60990,56990,72490,35990,108990,57990,69999,71990,119990,26990,77899,50000,56990,57990,49999,72490,69689,9800,15990,83990,46990,60990,44990,34990,66990,24440,51990,54990,11990,48990,74990,49990,53990,81689,63889,37040,94990,35990,72990,55990,94990,51800,49775,53990,79990,41990,37990,85990,39499,57990,67990,94990,75250,47990,66990,43700,154990,119990,104990,34890,32490,43400,40990,30990,40990,31090,68990,96389,43990,45651,52990,38990,33490,109990,72990,40499,35990,44990,148490,152990,37990,60990,50999,65990,32990,47990,132190,14990,33990,39700,32990,52990,29990,68710,61712,91990,60990,32990,72990,23999,71990,84990,25790,31999,72990,92800,48990,54990,39990,24990,61990,38990,72999,52990,62990,87090,70590,66990,114990,99990,34990,64500,74990,104990,94990,77490,24990,39990,55990,48990,39240,90060,85800,57990,60990,73020,53990,56990,32980,36990,59990,31990,144990,25990,31990,57300,29990,49990,56500,56990,60990,56990,119990,121489,47830,52490,67990,40190,61990,89990,55689,89490,119990,65490,34990,69990,78990,105739,42990,54990,21990,33400,50990,50990,43990,27990,105990,46990,46990,53990,48579,70990,69990,75990,24990,70990,30890,51990,57990,48450,79990,63990,19299,69999,62600,99990,83990,59871,56999,144990,40609,64990,132990,136990,54990,24990,63990,24990,116990,41750,36990,52199,21390,90464,87990,21990,34990,32949,150000,79467,56990,54990,57500,54599,62999,36490,45990,46990,66350,62990,36731,51901,59890,73990,61990,67288,34990,74900,152000,31990,29990,46500,32550,49990,44999,42999,19421,123190,68990,46990,107911,51894,30199,20999,155299,111943,76599,40990,46490,46990,99470,79990,56990,39800,88990,55190,112990,86500,105490,61990,47550,64990,49499,36990,90999,34590,32490,99111,55700,35900,70190,92190,27990,79970,51487,51990,56990,39990,32990,63999,65990,16490,53190,50990,92590,85990,84990,80190,109190,54190,54190,66718,53990,78190,39990,61990,38990,93190,139190,70190,103395,39990,90000,34990,79990,28990,49990,61700,32990,49990,86689,68028,89999,69437,73990,39990,63712,49990,32990,56340,30190,56880,56990,39990,29990,46990,50990,54990,38990,99990,74999,42499,67990,86189,36650,113999,65990,48990,49990,34990,86990,65990,97490,22913,99480,128990,113990,51990,51990,90689,69990,47990,100190,40100,137490,53990,42990,28190,73990,73463,44990,60379,75890,27990,37000,88190,62990,73990,69990,66389,60999,71990,61859,98990,36990,59990,56990,52990,90990,114990,25751,44639,44490,89990,62190,98468,58990,60190,73990,64190,41990,44990,45490,75990,75990,94369,62990,47490,94990,36990,41990,40926,71600,33990,37490,85990,57990,58070,109990,31990,152990,58850,59990,63990,26990,41490,70190,36690,67190,44990,46990,45870,38349,84190,86990,98990,32990,87490,47990,77490,41433,74950,87290,60490,77990,89990,96990,104990,149990,149990,114990,55990,58990,55990,119400,99999,37500,132599,50999,37588,36990,58990,105036,43990,101800,94990,69990,72990,119990,56490,37281,69494,32790,97990,78100,91490,36790,88527,59990,99990,146990,109990,123010,25990,139990,67499,35990,22990,84490,95990,39390,60900,81990,89889,67890,36990,89990,43735,74990,64990,89000,64990,43400,40590,70000,141989,98999,129990,65990,75499,25990,76600,126800,99990,133269,41990,32990,120449,129990,78299,152499,117899,71990,63990,23999,65500,73990,97999,52990,62990,73990,32899,24990,47990,73990,99990,52990,61990,69345,44990,96590,87990,86690,87690,78890,83990,38990,50990,55990,39290,107763,59990,72990,56700,65990,53990,78019,30790,57390,115706,41808,109990,44990,47990,52990,115990,83599,139990,87990,58990,49990,60490,35490,71990,90490,44990,111990,45500,40990,43690,49999,66199,29980,55990,29490,33490,53699,42990,57990,54990,47990,104990,74990,94990,40990,50990,47980,94990,84990,38990,79690,60990,51990,67000,125000,89799,150999,131316,75499,52990,40890,40990,69990,46990,65100,38171,64990,95300,35083,54990,27990,73900,34990,34990,46900,29990,46490,94900,52101,58499,74889,61990,28750,99490,80020,28206,42990,38990,88980,71990,73990,27990,73990,49490,61990,45899,68489,63314,48990,31490,38990,64990,32890,91990,87990,28999,29490,61990,76990,149290,39990,75533,43000,109990,129990,81402,49990,58269,56490,55900,92070,39990,104749,126890,131990,133890,154990,52900,144406,94990,149990,134990,60379,52794,154990,69990,84950,69990,143400,113401,67400,64990,76990,72990,58990,32990,61490,105990,86990,111439,76619,142999,93999,118000,79590,63990,35990,52990,63190,81000,39990,40100,36800,46490,104999,47650,114990,46990,60490,49990,65590,42990,71000,30927,47990,46288,124990,51990,58990,38490,44994,88990,96990,31990,132000,115990,89990,109990,81990,52590,91240,62990,69990,64500,71938,51990,33989,39790,119990,38980,55990,65190,72990,68990,77890,123271,70990,69990,62500,68800,143824,85990,45990,59990,104990,68390,97990,92990,64990,74990,43990,44990,63990,39242,129990,58990,22239,37490,55900,61990,145899,138511,21990,43990,45990,32990,32090,21990,45990,33490,35890,79500,56494,43190,43990,119600,27990,36490,48990,45990,65999,87990,33990,50785,57990,146271,32890,43500,61900,39551,30990,26999,32200,44970,45690,59990,41990,30999,76499,37990,47490,92990,82990,29990,32190,68990,118499,87391,68999,50591,60990,53990,40990,154999,54990,119990,77990,66990,59990,75500,65990,91990,44990,67990],\"y\":[4,8,12,16,8,8,8,12,8,20,8,16,12,16,8,28,12,16,12,8,2,8,12,4,12,16,8,16,16,12,12,8,12,8,16,12,8,12,12,16,16,12,16,12,16,8,12,12,8,8,16,12,12,8,24,16,16,16,12,16,4,20,12,12,12,8,4,12,12,16,12,12,16,16,0,2,16,8,16,6,8,12,2,12,12,2,16,16,12,16,20,12,8,16,8,16,12,16,12,12,12,12,8,12,16,8,20,12,16,16,12,12,12,20,24,20,4,8,8,12,8,12,4,16,16,8,8,12,8,4,8,20,12,8,8,32,24,8,12,16,12,8,8,16,2,8,8,8,12,8,12,12,16,12,8,16,4,12,16,2,12,16,16,16,12,8,8,12,12,12,12,12,16,16,12,16,16,4,12,16,16,12,16,4,8,16,16,12,16,16,12,16,16,12,12,8,8,12,4,8,4,8,12,4,12,16,16,12,12,16,20,12,8,12,8,12,16,12,16,24,12,8,16,16,20,8,12,2,8,12,12,12,8,16,16,12,12,8,16,12,12,4,16,4,12,12,8,12,12,2,16,16,16,20,12,12,16,4,12,8,8,12,2,16,2,16,12,4,8,8,8,8,4,8,12,5,12,12,8,12,12,12,12,8,8,16,12,8,16,8,12,12,12,4,12,12,4,8,8,8,8,12,12,2,16,12,12,16,8,2,2,12,16,12,8,8,12,16,12,12,12,12,8,16,16,20,12,8,12,4,8,16,8,8,16,8,8,16,16,2,16,4,8,8,12,8,12,12,2,12,12,16,16,16,16,20,12,8,12,12,12,12,12,8,20,16,12,16,8,12,8,16,2,8,12,8,8,20,8,8,12,16,8,12,8,8,8,2,12,12,8,8,12,12,12,12,16,12,6,12,16,4,12,12,8,8,4,16,16,12,4,12,16,16,12,8,12,12,12,20,8,16,16,6,2,12,16,8,12,12,2,4,12,8,16,12,12,12,16,12,16,8,12,12,12,20,16,2,8,8,16,12,16,8,12,12,16,8,8,12,12,12,12,12,8,16,12,12,8,12,8,4,12,12,12,16,4,24,8,12,12,8,8,16,4,12,12,8,6,4,20,16,16,8,16,8,12,6,12,12,12,16,20,16,16,16,20,16,12,12,12,20,16,4,20,12,8,8,12,12,8,12,16,12,16,20,12,4,12,4,12,12,12,4,16,12,16,24,16,16,2,24,12,12,2,16,16,8,8,16,20,16,8,16,8,12,12,16,16,8,8,12,20,16,16,12,12,4,16,12,16,12,8,4,12,16,12,16,16,12,12,4,12,12,12,12,12,12,8,2,12,12,12,8,12,12,6,12,12,12,16,12,12,8,8,16,4,20,8,12,12,12,12,16,4,12,12,8,12,8,8,8,12,12,16,12,12,16,12,4,12,12,8,16,8,8,12,8,12,8,12,8,8,8,8,12,12,8,16,12,16,8,12,12,16,12,8,16,12,12,12,12,16,16,16,12,16,12,12,12,12,16,12,16,16,4,12,8,8,8,8,12,8,12,16,8,12,8,12,2,12,12,4,6,8,12,12,12,2,16,8,12,16,12,12,12,8,8,12,8,16,12,4,2,12,16,16,8,16,8,16,20,16,8,12,12,12,12,8,16,20,16,20,16,8,16,16,16,16,12,12,20,16,12,12,24,16,12,12,12,12,12,4,12,20,12,20,16,24,16,12,16,16,4,12,16,16,8,8,2,8,20,8,24,8,12,12,12,8,8,2,8,8,16,8,8,12,8,12,12,4,16,16,16,20,8,8,16,12,8,12,12,12,4,8,16,8,12,12,12,12,16,16,16,12,12,16,12,16,8,12,16,16,12,16,16,16,8,12,12,8,16,12,2,12,12,16,20,12,2,12,8,8,8,2,8,8,12,16,16,12,12,12,8,4,12,8,12,16,4,8,12,16,8,4,12,0,4,4,8,8,8,12,12,4,16,12,12,16,12,8,8,16,16,20,12,12,12,12,12,12,12,16,12,12,12,16,12,16,8,12],\"type\":\"scatter\"}],                        {\"template\":{\"data\":{\"histogram2dcontour\":[{\"type\":\"histogram2dcontour\",\"colorbar\":{\"outlinewidth\":0,\"ticks\":\"\"},\"colorscale\":[[0.0,\"#0d0887\"],[0.1111111111111111,\"#46039f\"],[0.2222222222222222,\"#7201a8\"],[0.3333333333333333,\"#9c179e\"],[0.4444444444444444,\"#bd3786\"],[0.5555555555555556,\"#d8576b\"],[0.6666666666666666,\"#ed7953\"],[0.7777777777777778,\"#fb9f3a\"],[0.8888888888888888,\"#fdca26\"],[1.0,\"#f0f921\"]]}],\"choropleth\":[{\"type\":\"choropleth\",\"colorbar\":{\"outlinewidth\":0,\"ticks\":\"\"}}],\"histogram2d\":[{\"type\":\"histogram2d\",\"colorbar\":{\"outlinewidth\":0,\"ticks\":\"\"},\"colorscale\":[[0.0,\"#0d0887\"],[0.1111111111111111,\"#46039f\"],[0.2222222222222222,\"#7201a8\"],[0.3333333333333333,\"#9c179e\"],[0.4444444444444444,\"#bd3786\"],[0.5555555555555556,\"#d8576b\"],[0.6666666666666666,\"#ed7953\"],[0.7777777777777778,\"#fb9f3a\"],[0.8888888888888888,\"#fdca26\"],[1.0,\"#f0f921\"]]}],\"heatmap\":[{\"type\":\"heatmap\",\"colorbar\":{\"outlinewidth\":0,\"ticks\":\"\"},\"colorscale\":[[0.0,\"#0d0887\"],[0.1111111111111111,\"#46039f\"],[0.2222222222222222,\"#7201a8\"],[0.3333333333333333,\"#9c179e\"],[0.4444444444444444,\"#bd3786\"],[0.5555555555555556,\"#d8576b\"],[0.6666666666666666,\"#ed7953\"],[0.7777777777777778,\"#fb9f3a\"],[0.8888888888888888,\"#fdca26\"],[1.0,\"#f0f921\"]]}],\"heatmapgl\":[{\"type\":\"heatmapgl\",\"colorbar\":{\"outlinewidth\":0,\"ticks\":\"\"},\"colorscale\":[[0.0,\"#0d0887\"],[0.1111111111111111,\"#46039f\"],[0.2222222222222222,\"#7201a8\"],[0.3333333333333333,\"#9c179e\"],[0.4444444444444444,\"#bd3786\"],[0.5555555555555556,\"#d8576b\"],[0.6666666666666666,\"#ed7953\"],[0.7777777777777778,\"#fb9f3a\"],[0.8888888888888888,\"#fdca26\"],[1.0,\"#f0f921\"]]}],\"contourcarpet\":[{\"type\":\"contourcarpet\",\"colorbar\":{\"outlinewidth\":0,\"ticks\":\"\"}}],\"contour\":[{\"type\":\"contour\",\"colorbar\":{\"outlinewidth\":0,\"ticks\":\"\"},\"colorscale\":[[0.0,\"#0d0887\"],[0.1111111111111111,\"#46039f\"],[0.2222222222222222,\"#7201a8\"],[0.3333333333333333,\"#9c179e\"],[0.4444444444444444,\"#bd3786\"],[0.5555555555555556,\"#d8576b\"],[0.6666666666666666,\"#ed7953\"],[0.7777777777777778,\"#fb9f3a\"],[0.8888888888888888,\"#fdca26\"],[1.0,\"#f0f921\"]]}],\"surface\":[{\"type\":\"surface\",\"colorbar\":{\"outlinewidth\":0,\"ticks\":\"\"},\"colorscale\":[[0.0,\"#0d0887\"],[0.1111111111111111,\"#46039f\"],[0.2222222222222222,\"#7201a8\"],[0.3333333333333333,\"#9c179e\"],[0.4444444444444444,\"#bd3786\"],[0.5555555555555556,\"#d8576b\"],[0.6666666666666666,\"#ed7953\"],[0.7777777777777778,\"#fb9f3a\"],[0.8888888888888888,\"#fdca26\"],[1.0,\"#f0f921\"]]}],\"mesh3d\":[{\"type\":\"mesh3d\",\"colorbar\":{\"outlinewidth\":0,\"ticks\":\"\"}}],\"scatter\":[{\"fillpattern\":{\"fillmode\":\"overlay\",\"size\":10,\"solidity\":0.2},\"type\":\"scatter\"}],\"parcoords\":[{\"type\":\"parcoords\",\"line\":{\"colorbar\":{\"outlinewidth\":0,\"ticks\":\"\"}}}],\"scatterpolargl\":[{\"type\":\"scatterpolargl\",\"marker\":{\"colorbar\":{\"outlinewidth\":0,\"ticks\":\"\"}}}],\"bar\":[{\"error_x\":{\"color\":\"#2a3f5f\"},\"error_y\":{\"color\":\"#2a3f5f\"},\"marker\":{\"line\":{\"color\":\"#E5ECF6\",\"width\":0.5},\"pattern\":{\"fillmode\":\"overlay\",\"size\":10,\"solidity\":0.2}},\"type\":\"bar\"}],\"scattergeo\":[{\"type\":\"scattergeo\",\"marker\":{\"colorbar\":{\"outlinewidth\":0,\"ticks\":\"\"}}}],\"scatterpolar\":[{\"type\":\"scatterpolar\",\"marker\":{\"colorbar\":{\"outlinewidth\":0,\"ticks\":\"\"}}}],\"histogram\":[{\"marker\":{\"pattern\":{\"fillmode\":\"overlay\",\"size\":10,\"solidity\":0.2}},\"type\":\"histogram\"}],\"scattergl\":[{\"type\":\"scattergl\",\"marker\":{\"colorbar\":{\"outlinewidth\":0,\"ticks\":\"\"}}}],\"scatter3d\":[{\"type\":\"scatter3d\",\"line\":{\"colorbar\":{\"outlinewidth\":0,\"ticks\":\"\"}},\"marker\":{\"colorbar\":{\"outlinewidth\":0,\"ticks\":\"\"}}}],\"scattermapbox\":[{\"type\":\"scattermapbox\",\"marker\":{\"colorbar\":{\"outlinewidth\":0,\"ticks\":\"\"}}}],\"scatterternary\":[{\"type\":\"scatterternary\",\"marker\":{\"colorbar\":{\"outlinewidth\":0,\"ticks\":\"\"}}}],\"scattercarpet\":[{\"type\":\"scattercarpet\",\"marker\":{\"colorbar\":{\"outlinewidth\":0,\"ticks\":\"\"}}}],\"carpet\":[{\"aaxis\":{\"endlinecolor\":\"#2a3f5f\",\"gridcolor\":\"white\",\"linecolor\":\"white\",\"minorgridcolor\":\"white\",\"startlinecolor\":\"#2a3f5f\"},\"baxis\":{\"endlinecolor\":\"#2a3f5f\",\"gridcolor\":\"white\",\"linecolor\":\"white\",\"minorgridcolor\":\"white\",\"startlinecolor\":\"#2a3f5f\"},\"type\":\"carpet\"}],\"table\":[{\"cells\":{\"fill\":{\"color\":\"#EBF0F8\"},\"line\":{\"color\":\"white\"}},\"header\":{\"fill\":{\"color\":\"#C8D4E3\"},\"line\":{\"color\":\"white\"}},\"type\":\"table\"}],\"barpolar\":[{\"marker\":{\"line\":{\"color\":\"#E5ECF6\",\"width\":0.5},\"pattern\":{\"fillmode\":\"overlay\",\"size\":10,\"solidity\":0.2}},\"type\":\"barpolar\"}],\"pie\":[{\"automargin\":true,\"type\":\"pie\"}]},\"layout\":{\"autotypenumbers\":\"strict\",\"colorway\":[\"#636efa\",\"#EF553B\",\"#00cc96\",\"#ab63fa\",\"#FFA15A\",\"#19d3f3\",\"#FF6692\",\"#B6E880\",\"#FF97FF\",\"#FECB52\"],\"font\":{\"color\":\"#2a3f5f\"},\"hovermode\":\"closest\",\"hoverlabel\":{\"align\":\"left\"},\"paper_bgcolor\":\"white\",\"plot_bgcolor\":\"#E5ECF6\",\"polar\":{\"bgcolor\":\"#E5ECF6\",\"angularaxis\":{\"gridcolor\":\"white\",\"linecolor\":\"white\",\"ticks\":\"\"},\"radialaxis\":{\"gridcolor\":\"white\",\"linecolor\":\"white\",\"ticks\":\"\"}},\"ternary\":{\"bgcolor\":\"#E5ECF6\",\"aaxis\":{\"gridcolor\":\"white\",\"linecolor\":\"white\",\"ticks\":\"\"},\"baxis\":{\"gridcolor\":\"white\",\"linecolor\":\"white\",\"ticks\":\"\"},\"caxis\":{\"gridcolor\":\"white\",\"linecolor\":\"white\",\"ticks\":\"\"}},\"coloraxis\":{\"colorbar\":{\"outlinewidth\":0,\"ticks\":\"\"}},\"colorscale\":{\"sequential\":[[0.0,\"#0d0887\"],[0.1111111111111111,\"#46039f\"],[0.2222222222222222,\"#7201a8\"],[0.3333333333333333,\"#9c179e\"],[0.4444444444444444,\"#bd3786\"],[0.5555555555555556,\"#d8576b\"],[0.6666666666666666,\"#ed7953\"],[0.7777777777777778,\"#fb9f3a\"],[0.8888888888888888,\"#fdca26\"],[1.0,\"#f0f921\"]],\"sequentialminus\":[[0.0,\"#0d0887\"],[0.1111111111111111,\"#46039f\"],[0.2222222222222222,\"#7201a8\"],[0.3333333333333333,\"#9c179e\"],[0.4444444444444444,\"#bd3786\"],[0.5555555555555556,\"#d8576b\"],[0.6666666666666666,\"#ed7953\"],[0.7777777777777778,\"#fb9f3a\"],[0.8888888888888888,\"#fdca26\"],[1.0,\"#f0f921\"]],\"diverging\":[[0,\"#8e0152\"],[0.1,\"#c51b7d\"],[0.2,\"#de77ae\"],[0.3,\"#f1b6da\"],[0.4,\"#fde0ef\"],[0.5,\"#f7f7f7\"],[0.6,\"#e6f5d0\"],[0.7,\"#b8e186\"],[0.8,\"#7fbc41\"],[0.9,\"#4d9221\"],[1,\"#276419\"]]},\"xaxis\":{\"gridcolor\":\"white\",\"linecolor\":\"white\",\"ticks\":\"\",\"title\":{\"standoff\":15},\"zerolinecolor\":\"white\",\"automargin\":true,\"zerolinewidth\":2},\"yaxis\":{\"gridcolor\":\"white\",\"linecolor\":\"white\",\"ticks\":\"\",\"title\":{\"standoff\":15},\"zerolinecolor\":\"white\",\"automargin\":true,\"zerolinewidth\":2},\"scene\":{\"xaxis\":{\"backgroundcolor\":\"#E5ECF6\",\"gridcolor\":\"white\",\"linecolor\":\"white\",\"showbackground\":true,\"ticks\":\"\",\"zerolinecolor\":\"white\",\"gridwidth\":2},\"yaxis\":{\"backgroundcolor\":\"#E5ECF6\",\"gridcolor\":\"white\",\"linecolor\":\"white\",\"showbackground\":true,\"ticks\":\"\",\"zerolinecolor\":\"white\",\"gridwidth\":2},\"zaxis\":{\"backgroundcolor\":\"#E5ECF6\",\"gridcolor\":\"white\",\"linecolor\":\"white\",\"showbackground\":true,\"ticks\":\"\",\"zerolinecolor\":\"white\",\"gridwidth\":2}},\"shapedefaults\":{\"line\":{\"color\":\"#2a3f5f\"}},\"annotationdefaults\":{\"arrowcolor\":\"#2a3f5f\",\"arrowhead\":0,\"arrowwidth\":1},\"geo\":{\"bgcolor\":\"white\",\"landcolor\":\"#E5ECF6\",\"subunitcolor\":\"white\",\"showland\":true,\"showlakes\":true,\"lakecolor\":\"white\"},\"title\":{\"x\":0.05},\"mapbox\":{\"style\":\"light\"}}}},                        {\"responsive\": true}                    ).then(function(){\n",
       "                            \n",
       "var gd = document.getElementById('922ae8ee-4139-4a45-9f86-422e2eb8c69f');\n",
       "var x = new MutationObserver(function (mutations, observer) {{\n",
       "        var display = window.getComputedStyle(gd).display;\n",
       "        if (!display || display === 'none') {{\n",
       "            console.log([gd, 'removed!']);\n",
       "            Plotly.purge(gd);\n",
       "            observer.disconnect();\n",
       "        }}\n",
       "}});\n",
       "\n",
       "// Listen for the removal of the full notebook cells\n",
       "var notebookContainer = gd.closest('#notebook-container');\n",
       "if (notebookContainer) {{\n",
       "    x.observe(notebookContainer, {childList: true});\n",
       "}}\n",
       "\n",
       "// Listen for the clearing of the current output cell\n",
       "var outputEl = gd.closest('.output');\n",
       "if (outputEl) {{\n",
       "    x.observe(outputEl, {childList: true});\n",
       "}}\n",
       "\n",
       "                        })                };                });            </script>        </div>"
      ]
     },
     "metadata": {},
     "output_type": "display_data"
    }
   ],
   "source": [
    "# Creating a chart (go = graphic object) with data from labels in two dimensions ('Price' and 'num_threads')\n",
    "fig = go.Figure()\n",
    "fig.add_trace(go.Scatter(x=df['Price'], y = df['num_threads'],\n",
    "                                                        mode = 'markers',                      \n",
    "                                                        marker = dict(color = agrupador.labels_.astype(np.float64)),\n",
    "                                                        text = labels))\n",
    "fig.show()"
   ]
  },
  {
   "cell_type": "markdown",
   "id": "b9508405",
   "metadata": {
    "papermill": {
     "duration": 0.032839,
     "end_time": "2024-03-11T05:10:41.540584",
     "exception": false,
     "start_time": "2024-03-11T05:10:41.507745",
     "status": "completed"
    },
    "tags": []
   },
   "source": [
    "<div class=\"alert alert-block alert-info\" style=\"background-color:caf0f8;color:#008849;border-color:black;width:80%;margin: auto;text-align: center;\">\n",
    "<b>Insight:</b> There is strong correlation between Price and Rating, as we can see in the graph.</div>"
   ]
  },
  {
   "cell_type": "code",
   "execution_count": 28,
   "id": "f0127e58",
   "metadata": {
    "execution": {
     "iopub.execute_input": "2024-03-11T05:10:41.610141Z",
     "iopub.status.busy": "2024-03-11T05:10:41.608908Z",
     "iopub.status.idle": "2024-03-11T05:10:41.660959Z",
     "shell.execute_reply": "2024-03-11T05:10:41.659535Z"
    },
    "papermill": {
     "duration": 0.090107,
     "end_time": "2024-03-11T05:10:41.664030",
     "exception": false,
     "start_time": "2024-03-11T05:10:41.573923",
     "status": "completed"
    },
    "tags": []
   },
   "outputs": [
    {
     "data": {
      "text/html": [
       "<div>                            <div id=\"63b0db9a-fa3a-4176-aaa9-94f04f9f8ac4\" class=\"plotly-graph-div\" style=\"height:525px; width:100%;\"></div>            <script type=\"text/javascript\">                require([\"plotly\"], function(Plotly) {                    window.PLOTLYENV=window.PLOTLYENV || {};                                    if (document.getElementById(\"63b0db9a-fa3a-4176-aaa9-94f04f9f8ac4\")) {                    Plotly.newPlot(                        \"63b0db9a-fa3a-4176-aaa9-94f04f9f8ac4\",                        [{\"marker\":{\"color\":[1.0,1.0,0.0,1.0,1.0,0.0,1.0,1.0,1.0,0.0,1.0,0.0,0.0,0.0,1.0,2.0,1.0,0.0,0.0,1.0,1.0,1.0,1.0,1.0,3.0,3.0,1.0,0.0,0.0,1.0,1.0,1.0,1.0,3.0,0.0,1.0,1.0,0.0,0.0,2.0,3.0,0.0,2.0,0.0,3.0,1.0,0.0,1.0,1.0,1.0,3.0,0.0,1.0,1.0,2.0,0.0,3.0,0.0,0.0,0.0,1.0,3.0,0.0,0.0,0.0,2.0,1.0,3.0,1.0,0.0,0.0,1.0,0.0,0.0,1.0,1.0,3.0,1.0,0.0,1.0,1.0,0.0,1.0,0.0,0.0,1.0,1.0,0.0,1.0,0.0,3.0,0.0,1.0,3.0,1.0,0.0,0.0,3.0,0.0,1.0,0.0,3.0,1.0,1.0,3.0,1.0,0.0,0.0,3.0,0.0,1.0,0.0,1.0,2.0,2.0,3.0,1.0,1.0,1.0,1.0,1.0,1.0,1.0,0.0,3.0,1.0,1.0,0.0,1.0,1.0,3.0,0.0,1.0,1.0,1.0,2.0,2.0,1.0,0.0,0.0,0.0,1.0,1.0,2.0,1.0,1.0,1.0,1.0,0.0,1.0,0.0,0.0,3.0,0.0,1.0,0.0,1.0,0.0,3.0,1.0,1.0,0.0,3.0,1.0,0.0,1.0,1.0,0.0,1.0,0.0,0.0,0.0,3.0,0.0,0.0,2.0,3.0,1.0,0.0,0.0,3.0,3.0,0.0,1.0,1.0,0.0,1.0,1.0,3.0,3.0,0.0,0.0,0.0,0.0,0.0,1.0,1.0,0.0,1.0,2.0,1.0,1.0,0.0,1.0,1.0,0.0,0.0,0.0,0.0,2.0,2.0,1.0,0.0,0.0,1.0,0.0,3.0,0.0,3.0,2.0,0.0,1.0,0.0,3.0,3.0,1.0,0.0,1.0,1.0,0.0,0.0,1.0,1.0,3.0,1.0,1.0,0.0,1.0,0.0,0.0,0.0,1.0,0.0,1.0,0.0,0.0,1.0,3.0,0.0,1.0,0.0,0.0,3.0,3.0,0.0,0.0,2.0,1.0,0.0,2.0,2.0,0.0,1.0,0.0,1.0,2.0,1.0,1.0,0.0,1.0,3.0,3.0,1.0,1.0,1.0,2.0,3.0,0.0,0.0,0.0,0.0,0.0,1.0,1.0,1.0,0.0,0.0,1.0,0.0,0.0,0.0,0.0,0.0,1.0,0.0,2.0,1.0,1.0,1.0,1.0,1.0,1.0,1.0,1.0,2.0,0.0,1.0,3.0,0.0,1.0,1.0,2.0,3.0,0.0,1.0,1.0,1.0,3.0,3.0,0.0,1.0,3.0,0.0,2.0,3.0,3.0,0.0,1.0,0.0,1.0,1.0,3.0,1.0,1.0,3.0,0.0,1.0,0.0,3.0,1.0,3.0,0.0,0.0,0.0,1.0,1.0,0.0,0.0,1.0,0.0,0.0,3.0,3.0,3.0,3.0,3.0,0.0,0.0,0.0,0.0,3.0,1.0,0.0,1.0,3.0,2.0,0.0,3.0,1.0,3.0,1.0,3.0,1.0,1.0,0.0,1.0,1.0,3.0,0.0,3.0,0.0,0.0,1.0,0.0,1.0,1.0,0.0,1.0,0.0,0.0,1.0,1.0,1.0,0.0,0.0,1.0,3.0,0.0,1.0,0.0,3.0,1.0,2.0,0.0,1.0,1.0,1.0,3.0,0.0,3.0,1.0,3.0,2.0,2.0,0.0,0.0,3.0,0.0,1.0,3.0,1.0,2.0,0.0,1.0,1.0,0.0,0.0,1.0,0.0,0.0,1.0,1.0,3.0,0.0,0.0,0.0,0.0,0.0,0.0,0.0,3.0,1.0,0.0,0.0,0.0,3.0,2.0,1.0,1.0,1.0,3.0,0.0,3.0,0.0,0.0,0.0,0.0,1.0,1.0,1.0,0.0,0.0,3.0,0.0,1.0,3.0,1.0,1.0,1.0,0.0,1.0,1.0,3.0,0.0,0.0,3.0,1.0,2.0,0.0,0.0,0.0,1.0,1.0,0.0,1.0,0.0,1.0,1.0,1.0,1.0,3.0,3.0,3.0,1.0,3.0,1.0,0.0,1.0,0.0,3.0,0.0,3.0,3.0,3.0,3.0,2.0,2.0,2.0,0.0,0.0,0.0,2.0,3.0,1.0,2.0,0.0,1.0,1.0,0.0,3.0,1.0,3.0,3.0,0.0,0.0,2.0,0.0,1.0,0.0,1.0,3.0,3.0,3.0,1.0,3.0,0.0,3.0,2.0,3.0,2.0,1.0,2.0,0.0,1.0,1.0,3.0,3.0,1.0,0.0,3.0,3.0,0.0,1.0,3.0,1.0,0.0,0.0,3.0,0.0,1.0,1.0,0.0,2.0,3.0,2.0,0.0,0.0,1.0,0.0,2.0,3.0,2.0,1.0,1.0,2.0,2.0,3.0,2.0,2.0,0.0,0.0,1.0,0.0,0.0,3.0,0.0,0.0,0.0,1.0,1.0,1.0,0.0,3.0,0.0,0.0,0.0,1.0,3.0,3.0,3.0,3.0,3.0,3.0,1.0,0.0,0.0,1.0,3.0,0.0,0.0,0.0,0.0,0.0,3.0,1.0,0.0,2.0,1.0,3.0,1.0,1.0,0.0,2.0,3.0,2.0,3.0,0.0,1.0,0.0,1.0,0.0,3.0,1.0,3.0,1.0,1.0,1.0,1.0,0.0,1.0,0.0,1.0,1.0,0.0,1.0,0.0,0.0,1.0,3.0,0.0,3.0,1.0,0.0,1.0,3.0,3.0,1.0,3.0,0.0,0.0,0.0,2.0,3.0,2.0,2.0,0.0,0.0,1.0,1.0,0.0,1.0,0.0,1.0,0.0,3.0,1.0,0.0,1.0,0.0,1.0,1.0,1.0,1.0,1.0,3.0,0.0,0.0,0.0,0.0,1.0,3.0,3.0,1.0,1.0,1.0,3.0,0.0,0.0,1.0,0.0,1.0,0.0,1.0,0.0,0.0,1.0,1.0,1.0,0.0,1.0,3.0,3.0,1.0,1.0,0.0,0.0,2.0,1.0,0.0,1.0,3.0,2.0,3.0,1.0,0.0,0.0,0.0,3.0,1.0,3.0,2.0,2.0,2.0,2.0,0.0,2.0,3.0,2.0,2.0,0.0,0.0,2.0,0.0,3.0,0.0,2.0,2.0,0.0,0.0,0.0,0.0,0.0,1.0,0.0,3.0,3.0,3.0,0.0,2.0,3.0,2.0,3.0,0.0,1.0,0.0,0.0,3.0,1.0,1.0,1.0,1.0,3.0,1.0,2.0,1.0,0.0,1.0,0.0,1.0,0.0,1.0,1.0,1.0,2.0,0.0,0.0,1.0,1.0,3.0,3.0,1.0,2.0,2.0,3.0,3.0,3.0,0.0,3.0,0.0,0.0,0.0,0.0,0.0,1.0,1.0,2.0,1.0,0.0,0.0,0.0,0.0,3.0,2.0,0.0,0.0,0.0,0.0,2.0,3.0,1.0,0.0,3.0,0.0,3.0,3.0,0.0,0.0,1.0,1.0,0.0,1.0,2.0,0.0,1.0,1.0,0.0,0.0,2.0,2.0,1.0,1.0,1.0,1.0,1.0,1.0,1.0,1.0,1.0,3.0,0.0,1.0,1.0,2.0,1.0,1.0,1.0,1.0,0.0,3.0,1.0,0.0,0.0,2.0,1.0,1.0,0.0,1.0,1.0,1.0,1.0,1.0,1.0,0.0,1.0,1.0,0.0,1.0,1.0,3.0,3.0,1.0,1.0,0.0,2.0,3.0,0.0,0.0,0.0,0.0,1.0,2.0,0.0,2.0,3.0,0.0,0.0,0.0,0.0,3.0,1.0,0.0]},\"mode\":\"markers\",\"text\":[\"0\",\"1\",\"2\"],\"x\":[23990,35990,51100,39990,28580,70990,34990,49990,36990,59990,34990,64990,52990,57390,47490,153990,49990,75990,55490,27990,19299,27990,39990,27990,77990,78990,19990,71999,66780,44990,47990,47990,46990,102990,68239,46990,34990,53990,63990,113571,88800,53570,116990,70810,81290,35950,69990,39649,29990,32990,83590,54490,42499,27990,147990,74085,86490,60990,56990,72490,35990,108990,57990,69999,71990,119990,26990,77899,50000,56990,57990,49999,72490,69689,9800,15990,83990,46990,60990,44990,34990,66990,24440,51990,54990,11990,48990,74990,49990,53990,81689,63889,37040,94990,35990,72990,55990,94990,51800,49775,53990,79990,41990,37990,85990,39499,57990,67990,94990,75250,47990,66990,43700,154990,119990,104990,34890,32490,43400,40990,30990,40990,31090,68990,96389,43990,45651,52990,38990,33490,109990,72990,40499,35990,44990,148490,152990,37990,60990,50999,65990,32990,47990,132190,14990,33990,39700,32990,52990,29990,68710,61712,91990,60990,32990,72990,23999,71990,84990,25790,31999,72990,92800,48990,54990,39990,24990,61990,38990,72999,52990,62990,87090,70590,66990,114990,99990,34990,64500,74990,104990,94990,77490,24990,39990,55990,48990,39240,90060,85800,57990,60990,73020,53990,56990,32980,36990,59990,31990,144990,25990,31990,57300,29990,49990,56500,56990,60990,56990,119990,121489,47830,52490,67990,40190,61990,89990,55689,89490,119990,65490,34990,69990,78990,105739,42990,54990,21990,33400,50990,50990,43990,27990,105990,46990,46990,53990,48579,70990,69990,75990,24990,70990,30890,51990,57990,48450,79990,63990,19299,69999,62600,99990,83990,59871,56999,144990,40609,64990,132990,136990,54990,24990,63990,24990,116990,41750,36990,52199,21390,90464,87990,21990,34990,32949,150000,79467,56990,54990,57500,54599,62999,36490,45990,46990,66350,62990,36731,51901,59890,73990,61990,67288,34990,74900,152000,31990,29990,46500,32550,49990,44999,42999,19421,123190,68990,46990,107911,51894,30199,20999,155299,111943,76599,40990,46490,46990,99470,79990,56990,39800,88990,55190,112990,86500,105490,61990,47550,64990,49499,36990,90999,34590,32490,99111,55700,35900,70190,92190,27990,79970,51487,51990,56990,39990,32990,63999,65990,16490,53190,50990,92590,85990,84990,80190,109190,54190,54190,66718,53990,78190,39990,61990,38990,93190,139190,70190,103395,39990,90000,34990,79990,28990,49990,61700,32990,49990,86689,68028,89999,69437,73990,39990,63712,49990,32990,56340,30190,56880,56990,39990,29990,46990,50990,54990,38990,99990,74999,42499,67990,86189,36650,113999,65990,48990,49990,34990,86990,65990,97490,22913,99480,128990,113990,51990,51990,90689,69990,47990,100190,40100,137490,53990,42990,28190,73990,73463,44990,60379,75890,27990,37000,88190,62990,73990,69990,66389,60999,71990,61859,98990,36990,59990,56990,52990,90990,114990,25751,44639,44490,89990,62190,98468,58990,60190,73990,64190,41990,44990,45490,75990,75990,94369,62990,47490,94990,36990,41990,40926,71600,33990,37490,85990,57990,58070,109990,31990,152990,58850,59990,63990,26990,41490,70190,36690,67190,44990,46990,45870,38349,84190,86990,98990,32990,87490,47990,77490,41433,74950,87290,60490,77990,89990,96990,104990,149990,149990,114990,55990,58990,55990,119400,99999,37500,132599,50999,37588,36990,58990,105036,43990,101800,94990,69990,72990,119990,56490,37281,69494,32790,97990,78100,91490,36790,88527,59990,99990,146990,109990,123010,25990,139990,67499,35990,22990,84490,95990,39390,60900,81990,89889,67890,36990,89990,43735,74990,64990,89000,64990,43400,40590,70000,141989,98999,129990,65990,75499,25990,76600,126800,99990,133269,41990,32990,120449,129990,78299,152499,117899,71990,63990,23999,65500,73990,97999,52990,62990,73990,32899,24990,47990,73990,99990,52990,61990,69345,44990,96590,87990,86690,87690,78890,83990,38990,50990,55990,39290,107763,59990,72990,56700,65990,53990,78019,30790,57390,115706,41808,109990,44990,47990,52990,115990,83599,139990,87990,58990,49990,60490,35490,71990,90490,44990,111990,45500,40990,43690,49999,66199,29980,55990,29490,33490,53699,42990,57990,54990,47990,104990,74990,94990,40990,50990,47980,94990,84990,38990,79690,60990,51990,67000,125000,89799,150999,131316,75499,52990,40890,40990,69990,46990,65100,38171,64990,95300,35083,54990,27990,73900,34990,34990,46900,29990,46490,94900,52101,58499,74889,61990,28750,99490,80020,28206,42990,38990,88980,71990,73990,27990,73990,49490,61990,45899,68489,63314,48990,31490,38990,64990,32890,91990,87990,28999,29490,61990,76990,149290,39990,75533,43000,109990,129990,81402,49990,58269,56490,55900,92070,39990,104749,126890,131990,133890,154990,52900,144406,94990,149990,134990,60379,52794,154990,69990,84950,69990,143400,113401,67400,64990,76990,72990,58990,32990,61490,105990,86990,111439,76619,142999,93999,118000,79590,63990,35990,52990,63190,81000,39990,40100,36800,46490,104999,47650,114990,46990,60490,49990,65590,42990,71000,30927,47990,46288,124990,51990,58990,38490,44994,88990,96990,31990,132000,115990,89990,109990,81990,52590,91240,62990,69990,64500,71938,51990,33989,39790,119990,38980,55990,65190,72990,68990,77890,123271,70990,69990,62500,68800,143824,85990,45990,59990,104990,68390,97990,92990,64990,74990,43990,44990,63990,39242,129990,58990,22239,37490,55900,61990,145899,138511,21990,43990,45990,32990,32090,21990,45990,33490,35890,79500,56494,43190,43990,119600,27990,36490,48990,45990,65999,87990,33990,50785,57990,146271,32890,43500,61900,39551,30990,26999,32200,44970,45690,59990,41990,30999,76499,37990,47490,92990,82990,29990,32190,68990,118499,87391,68999,50591,60990,53990,40990,154999,54990,119990,77990,66990,59990,75500,65990,91990,44990,67990],\"y\":[63,67,73,62,62,45,56,70,60,71,60,68,71,71,66,85,59,76,71,56,49,59,57,57,63,77,54,66,76,59,62,71,65,48,66,64,60,62,72,77,71,71,80,71,71,58,70,66,54,58,76,70,63,50,80,75,66,67,69,70,64,78,72,72,65,53,53,70,60,71,70,70,62,64,41,46,72,57,54,51,66,72,47,70,65,41,70,75,65,63,71,63,59,70,60,70,67,80,57,62,66,70,63,60,75,62,63,72,72,72,67,64,62,88,75,70,58,54,52,66,49,64,60,74,79,60,67,65,64,56,43,70,60,60,64,78,77,59,64,58,53,54,62,83,45,65,59,63,72,56,67,60,71,66,50,64,49,67,69,50,56,71,76,64,60,58,49,73,56,63,65,73,76,62,69,63,67,63,75,65,76,70,73,50,62,63,57,63,77,76,70,66,66,65,72,53,62,60,59,56,57,57,62,59,65,64,58,70,67,80,78,64,65,73,59,57,67,64,69,75,69,54,70,65,71,59,66,53,53,67,68,62,49,79,68,67,65,60,65,56,60,52,69,50,67,73,62,71,64,39,62,73,78,78,71,54,85,58,74,45,45,59,49,62,52,68,64,52,56,56,56,67,50,54,50,64,64,57,58,51,58,62,50,58,62,69,66,53,62,58,57,60,52,49,63,59,51,47,64,51,64,64,62,41,67,66,63,75,65,44,43,70,78,69,57,63,57,77,58,56,62,64,70,76,67,75,69,58,65,54,53,72,57,56,69,69,60,67,75,45,63,58,63,57,66,60,65,62,47,62,72,70,70,58,57,63,65,69,66,51,64,56,53,57,58,78,58,77,57,65,57,70,47,67,65,57,67,73,53,70,58,62,58,60,62,51,57,46,57,56,58,51,63,57,64,56,70,64,43,69,71,58,75,57,59,65,62,71,63,60,52,62,83,79,67,67,70,66,56,65,57,83,69,50,43,67,67,59,60,59,51,52,58,60,64,63,62,58,58,58,73,53,53,72,70,64,72,41,57,62,73,63,72,58,59,65,69,58,60,56,65,66,70,71,65,76,63,60,57,62,56,58,57,69,63,76,51,70,64,63,60,51,45,60,60,62,57,65,56,58,64,62,63,58,62,54,59,57,71,60,63,60,76,76,77,79,76,77,69,71,70,72,71,59,75,67,59,57,64,67,58,72,72,66,72,73,70,58,60,54,72,67,71,60,73,64,73,77,75,73,45,77,65,58,44,60,63,57,65,63,63,65,58,71,56,69,72,75,72,57,57,70,82,67,80,69,59,44,72,69,73,69,64,46,67,71,72,78,69,70,65,52,60,63,73,62,65,65,59,50,67,60,75,70,64,62,58,66,66,66,70,66,72,57,60,60,60,71,56,69,64,67,66,69,59,67,71,53,69,58,53,60,70,72,83,56,71,64,67,59,70,67,58,78,57,58,52,62,62,50,60,57,57,62,50,67,65,60,78,69,77,60,66,59,77,75,63,70,63,70,63,75,75,72,72,62,65,54,57,69,57,66,59,64,66,53,69,54,64,53,54,56,59,57,71,66,71,64,56,49,59,58,50,57,58,56,52,57,45,67,58,56,63,65,67,63,50,47,66,56,75,75,53,50,64,64,76,51,66,52,73,75,69,50,59,52,50,71,54,71,73,84,75,83,67,73,77,76,80,67,58,82,66,72,65,70,75,57,59,69,71,62,58,57,66,73,76,66,78,70,75,66,71,56,57,67,71,58,54,47,54,65,51,66,51,54,67,56,62,67,45,63,56,78,63,60,59,64,65,77,59,73,73,70,71,65,60,75,59,70,75,64,67,56,52,77,48,59,65,71,73,72,78,63,70,56,62,75,60,57,56,71,64,64,70,62,60,53,62,58,51,74,62,47,64,59,72,79,72,43,59,59,50,44,45,58,56,56,67,70,58,53,68,52,60,54,66,55,72,52,59,59,75,52,54,67,43,50,59,48,58,59,64,60,47,71,58,59,72,74,54,53,72,72,67,71,59,61,58,56,73,68,76,68,65,64,67,68,73,59,68],\"z\":[4,8,12,16,8,8,8,12,8,20,8,16,12,16,8,28,12,16,12,8,2,8,12,4,12,16,8,16,16,12,12,8,12,8,16,12,8,12,12,16,16,12,16,12,16,8,12,12,8,8,16,12,12,8,24,16,16,16,12,16,4,20,12,12,12,8,4,12,12,16,12,12,16,16,0,2,16,8,16,6,8,12,2,12,12,2,16,16,12,16,20,12,8,16,8,16,12,16,12,12,12,12,8,12,16,8,20,12,16,16,12,12,12,20,24,20,4,8,8,12,8,12,4,16,16,8,8,12,8,4,8,20,12,8,8,32,24,8,12,16,12,8,8,16,2,8,8,8,12,8,12,12,16,12,8,16,4,12,16,2,12,16,16,16,12,8,8,12,12,12,12,12,16,16,12,16,16,4,12,16,16,12,16,4,8,16,16,12,16,16,12,16,16,12,12,8,8,12,4,8,4,8,12,4,12,16,16,12,12,16,20,12,8,12,8,12,16,12,16,24,12,8,16,16,20,8,12,2,8,12,12,12,8,16,16,12,12,8,16,12,12,4,16,4,12,12,8,12,12,2,16,16,16,20,12,12,16,4,12,8,8,12,2,16,2,16,12,4,8,8,8,8,4,8,12,5,12,12,8,12,12,12,12,8,8,16,12,8,16,8,12,12,12,4,12,12,4,8,8,8,8,12,12,2,16,12,12,16,8,2,2,12,16,12,8,8,12,16,12,12,12,12,8,16,16,20,12,8,12,4,8,16,8,8,16,8,8,16,16,2,16,4,8,8,12,8,12,12,2,12,12,16,16,16,16,20,12,8,12,12,12,12,12,8,20,16,12,16,8,12,8,16,2,8,12,8,8,20,8,8,12,16,8,12,8,8,8,2,12,12,8,8,12,12,12,12,16,12,6,12,16,4,12,12,8,8,4,16,16,12,4,12,16,16,12,8,12,12,12,20,8,16,16,6,2,12,16,8,12,12,2,4,12,8,16,12,12,12,16,12,16,8,12,12,12,20,16,2,8,8,16,12,16,8,12,12,16,8,8,12,12,12,12,12,8,16,12,12,8,12,8,4,12,12,12,16,4,24,8,12,12,8,8,16,4,12,12,8,6,4,20,16,16,8,16,8,12,6,12,12,12,16,20,16,16,16,20,16,12,12,12,20,16,4,20,12,8,8,12,12,8,12,16,12,16,20,12,4,12,4,12,12,12,4,16,12,16,24,16,16,2,24,12,12,2,16,16,8,8,16,20,16,8,16,8,12,12,16,16,8,8,12,20,16,16,12,12,4,16,12,16,12,8,4,12,16,12,16,16,12,12,4,12,12,12,12,12,12,8,2,12,12,12,8,12,12,6,12,12,12,16,12,12,8,8,16,4,20,8,12,12,12,12,16,4,12,12,8,12,8,8,8,12,12,16,12,12,16,12,4,12,12,8,16,8,8,12,8,12,8,12,8,8,8,8,12,12,8,16,12,16,8,12,12,16,12,8,16,12,12,12,12,16,16,16,12,16,12,12,12,12,16,12,16,16,4,12,8,8,8,8,12,8,12,16,8,12,8,12,2,12,12,4,6,8,12,12,12,2,16,8,12,16,12,12,12,8,8,12,8,16,12,4,2,12,16,16,8,16,8,16,20,16,8,12,12,12,12,8,16,20,16,20,16,8,16,16,16,16,12,12,20,16,12,12,24,16,12,12,12,12,12,4,12,20,12,20,16,24,16,12,16,16,4,12,16,16,8,8,2,8,20,8,24,8,12,12,12,8,8,2,8,8,16,8,8,12,8,12,12,4,16,16,16,20,8,8,16,12,8,12,12,12,4,8,16,8,12,12,12,12,16,16,16,12,12,16,12,16,8,12,16,16,12,16,16,16,8,12,12,8,16,12,2,12,12,16,20,12,2,12,8,8,8,2,8,8,12,16,16,12,12,12,8,4,12,8,12,16,4,8,12,16,8,4,12,0,4,4,8,8,8,12,12,4,16,12,12,16,12,8,8,16,16,20,12,12,12,12,12,12,12,16,12,12,12,16,12,16,8,12],\"type\":\"scatter3d\"}],                        {\"template\":{\"data\":{\"histogram2dcontour\":[{\"type\":\"histogram2dcontour\",\"colorbar\":{\"outlinewidth\":0,\"ticks\":\"\"},\"colorscale\":[[0.0,\"#0d0887\"],[0.1111111111111111,\"#46039f\"],[0.2222222222222222,\"#7201a8\"],[0.3333333333333333,\"#9c179e\"],[0.4444444444444444,\"#bd3786\"],[0.5555555555555556,\"#d8576b\"],[0.6666666666666666,\"#ed7953\"],[0.7777777777777778,\"#fb9f3a\"],[0.8888888888888888,\"#fdca26\"],[1.0,\"#f0f921\"]]}],\"choropleth\":[{\"type\":\"choropleth\",\"colorbar\":{\"outlinewidth\":0,\"ticks\":\"\"}}],\"histogram2d\":[{\"type\":\"histogram2d\",\"colorbar\":{\"outlinewidth\":0,\"ticks\":\"\"},\"colorscale\":[[0.0,\"#0d0887\"],[0.1111111111111111,\"#46039f\"],[0.2222222222222222,\"#7201a8\"],[0.3333333333333333,\"#9c179e\"],[0.4444444444444444,\"#bd3786\"],[0.5555555555555556,\"#d8576b\"],[0.6666666666666666,\"#ed7953\"],[0.7777777777777778,\"#fb9f3a\"],[0.8888888888888888,\"#fdca26\"],[1.0,\"#f0f921\"]]}],\"heatmap\":[{\"type\":\"heatmap\",\"colorbar\":{\"outlinewidth\":0,\"ticks\":\"\"},\"colorscale\":[[0.0,\"#0d0887\"],[0.1111111111111111,\"#46039f\"],[0.2222222222222222,\"#7201a8\"],[0.3333333333333333,\"#9c179e\"],[0.4444444444444444,\"#bd3786\"],[0.5555555555555556,\"#d8576b\"],[0.6666666666666666,\"#ed7953\"],[0.7777777777777778,\"#fb9f3a\"],[0.8888888888888888,\"#fdca26\"],[1.0,\"#f0f921\"]]}],\"heatmapgl\":[{\"type\":\"heatmapgl\",\"colorbar\":{\"outlinewidth\":0,\"ticks\":\"\"},\"colorscale\":[[0.0,\"#0d0887\"],[0.1111111111111111,\"#46039f\"],[0.2222222222222222,\"#7201a8\"],[0.3333333333333333,\"#9c179e\"],[0.4444444444444444,\"#bd3786\"],[0.5555555555555556,\"#d8576b\"],[0.6666666666666666,\"#ed7953\"],[0.7777777777777778,\"#fb9f3a\"],[0.8888888888888888,\"#fdca26\"],[1.0,\"#f0f921\"]]}],\"contourcarpet\":[{\"type\":\"contourcarpet\",\"colorbar\":{\"outlinewidth\":0,\"ticks\":\"\"}}],\"contour\":[{\"type\":\"contour\",\"colorbar\":{\"outlinewidth\":0,\"ticks\":\"\"},\"colorscale\":[[0.0,\"#0d0887\"],[0.1111111111111111,\"#46039f\"],[0.2222222222222222,\"#7201a8\"],[0.3333333333333333,\"#9c179e\"],[0.4444444444444444,\"#bd3786\"],[0.5555555555555556,\"#d8576b\"],[0.6666666666666666,\"#ed7953\"],[0.7777777777777778,\"#fb9f3a\"],[0.8888888888888888,\"#fdca26\"],[1.0,\"#f0f921\"]]}],\"surface\":[{\"type\":\"surface\",\"colorbar\":{\"outlinewidth\":0,\"ticks\":\"\"},\"colorscale\":[[0.0,\"#0d0887\"],[0.1111111111111111,\"#46039f\"],[0.2222222222222222,\"#7201a8\"],[0.3333333333333333,\"#9c179e\"],[0.4444444444444444,\"#bd3786\"],[0.5555555555555556,\"#d8576b\"],[0.6666666666666666,\"#ed7953\"],[0.7777777777777778,\"#fb9f3a\"],[0.8888888888888888,\"#fdca26\"],[1.0,\"#f0f921\"]]}],\"mesh3d\":[{\"type\":\"mesh3d\",\"colorbar\":{\"outlinewidth\":0,\"ticks\":\"\"}}],\"scatter\":[{\"fillpattern\":{\"fillmode\":\"overlay\",\"size\":10,\"solidity\":0.2},\"type\":\"scatter\"}],\"parcoords\":[{\"type\":\"parcoords\",\"line\":{\"colorbar\":{\"outlinewidth\":0,\"ticks\":\"\"}}}],\"scatterpolargl\":[{\"type\":\"scatterpolargl\",\"marker\":{\"colorbar\":{\"outlinewidth\":0,\"ticks\":\"\"}}}],\"bar\":[{\"error_x\":{\"color\":\"#2a3f5f\"},\"error_y\":{\"color\":\"#2a3f5f\"},\"marker\":{\"line\":{\"color\":\"#E5ECF6\",\"width\":0.5},\"pattern\":{\"fillmode\":\"overlay\",\"size\":10,\"solidity\":0.2}},\"type\":\"bar\"}],\"scattergeo\":[{\"type\":\"scattergeo\",\"marker\":{\"colorbar\":{\"outlinewidth\":0,\"ticks\":\"\"}}}],\"scatterpolar\":[{\"type\":\"scatterpolar\",\"marker\":{\"colorbar\":{\"outlinewidth\":0,\"ticks\":\"\"}}}],\"histogram\":[{\"marker\":{\"pattern\":{\"fillmode\":\"overlay\",\"size\":10,\"solidity\":0.2}},\"type\":\"histogram\"}],\"scattergl\":[{\"type\":\"scattergl\",\"marker\":{\"colorbar\":{\"outlinewidth\":0,\"ticks\":\"\"}}}],\"scatter3d\":[{\"type\":\"scatter3d\",\"line\":{\"colorbar\":{\"outlinewidth\":0,\"ticks\":\"\"}},\"marker\":{\"colorbar\":{\"outlinewidth\":0,\"ticks\":\"\"}}}],\"scattermapbox\":[{\"type\":\"scattermapbox\",\"marker\":{\"colorbar\":{\"outlinewidth\":0,\"ticks\":\"\"}}}],\"scatterternary\":[{\"type\":\"scatterternary\",\"marker\":{\"colorbar\":{\"outlinewidth\":0,\"ticks\":\"\"}}}],\"scattercarpet\":[{\"type\":\"scattercarpet\",\"marker\":{\"colorbar\":{\"outlinewidth\":0,\"ticks\":\"\"}}}],\"carpet\":[{\"aaxis\":{\"endlinecolor\":\"#2a3f5f\",\"gridcolor\":\"white\",\"linecolor\":\"white\",\"minorgridcolor\":\"white\",\"startlinecolor\":\"#2a3f5f\"},\"baxis\":{\"endlinecolor\":\"#2a3f5f\",\"gridcolor\":\"white\",\"linecolor\":\"white\",\"minorgridcolor\":\"white\",\"startlinecolor\":\"#2a3f5f\"},\"type\":\"carpet\"}],\"table\":[{\"cells\":{\"fill\":{\"color\":\"#EBF0F8\"},\"line\":{\"color\":\"white\"}},\"header\":{\"fill\":{\"color\":\"#C8D4E3\"},\"line\":{\"color\":\"white\"}},\"type\":\"table\"}],\"barpolar\":[{\"marker\":{\"line\":{\"color\":\"#E5ECF6\",\"width\":0.5},\"pattern\":{\"fillmode\":\"overlay\",\"size\":10,\"solidity\":0.2}},\"type\":\"barpolar\"}],\"pie\":[{\"automargin\":true,\"type\":\"pie\"}]},\"layout\":{\"autotypenumbers\":\"strict\",\"colorway\":[\"#636efa\",\"#EF553B\",\"#00cc96\",\"#ab63fa\",\"#FFA15A\",\"#19d3f3\",\"#FF6692\",\"#B6E880\",\"#FF97FF\",\"#FECB52\"],\"font\":{\"color\":\"#2a3f5f\"},\"hovermode\":\"closest\",\"hoverlabel\":{\"align\":\"left\"},\"paper_bgcolor\":\"white\",\"plot_bgcolor\":\"#E5ECF6\",\"polar\":{\"bgcolor\":\"#E5ECF6\",\"angularaxis\":{\"gridcolor\":\"white\",\"linecolor\":\"white\",\"ticks\":\"\"},\"radialaxis\":{\"gridcolor\":\"white\",\"linecolor\":\"white\",\"ticks\":\"\"}},\"ternary\":{\"bgcolor\":\"#E5ECF6\",\"aaxis\":{\"gridcolor\":\"white\",\"linecolor\":\"white\",\"ticks\":\"\"},\"baxis\":{\"gridcolor\":\"white\",\"linecolor\":\"white\",\"ticks\":\"\"},\"caxis\":{\"gridcolor\":\"white\",\"linecolor\":\"white\",\"ticks\":\"\"}},\"coloraxis\":{\"colorbar\":{\"outlinewidth\":0,\"ticks\":\"\"}},\"colorscale\":{\"sequential\":[[0.0,\"#0d0887\"],[0.1111111111111111,\"#46039f\"],[0.2222222222222222,\"#7201a8\"],[0.3333333333333333,\"#9c179e\"],[0.4444444444444444,\"#bd3786\"],[0.5555555555555556,\"#d8576b\"],[0.6666666666666666,\"#ed7953\"],[0.7777777777777778,\"#fb9f3a\"],[0.8888888888888888,\"#fdca26\"],[1.0,\"#f0f921\"]],\"sequentialminus\":[[0.0,\"#0d0887\"],[0.1111111111111111,\"#46039f\"],[0.2222222222222222,\"#7201a8\"],[0.3333333333333333,\"#9c179e\"],[0.4444444444444444,\"#bd3786\"],[0.5555555555555556,\"#d8576b\"],[0.6666666666666666,\"#ed7953\"],[0.7777777777777778,\"#fb9f3a\"],[0.8888888888888888,\"#fdca26\"],[1.0,\"#f0f921\"]],\"diverging\":[[0,\"#8e0152\"],[0.1,\"#c51b7d\"],[0.2,\"#de77ae\"],[0.3,\"#f1b6da\"],[0.4,\"#fde0ef\"],[0.5,\"#f7f7f7\"],[0.6,\"#e6f5d0\"],[0.7,\"#b8e186\"],[0.8,\"#7fbc41\"],[0.9,\"#4d9221\"],[1,\"#276419\"]]},\"xaxis\":{\"gridcolor\":\"white\",\"linecolor\":\"white\",\"ticks\":\"\",\"title\":{\"standoff\":15},\"zerolinecolor\":\"white\",\"automargin\":true,\"zerolinewidth\":2},\"yaxis\":{\"gridcolor\":\"white\",\"linecolor\":\"white\",\"ticks\":\"\",\"title\":{\"standoff\":15},\"zerolinecolor\":\"white\",\"automargin\":true,\"zerolinewidth\":2},\"scene\":{\"xaxis\":{\"backgroundcolor\":\"#E5ECF6\",\"gridcolor\":\"white\",\"linecolor\":\"white\",\"showbackground\":true,\"ticks\":\"\",\"zerolinecolor\":\"white\",\"gridwidth\":2},\"yaxis\":{\"backgroundcolor\":\"#E5ECF6\",\"gridcolor\":\"white\",\"linecolor\":\"white\",\"showbackground\":true,\"ticks\":\"\",\"zerolinecolor\":\"white\",\"gridwidth\":2},\"zaxis\":{\"backgroundcolor\":\"#E5ECF6\",\"gridcolor\":\"white\",\"linecolor\":\"white\",\"showbackground\":true,\"ticks\":\"\",\"zerolinecolor\":\"white\",\"gridwidth\":2}},\"shapedefaults\":{\"line\":{\"color\":\"#2a3f5f\"}},\"annotationdefaults\":{\"arrowcolor\":\"#2a3f5f\",\"arrowhead\":0,\"arrowwidth\":1},\"geo\":{\"bgcolor\":\"white\",\"landcolor\":\"#E5ECF6\",\"subunitcolor\":\"white\",\"showland\":true,\"showlakes\":true,\"lakecolor\":\"white\"},\"title\":{\"x\":0.05},\"mapbox\":{\"style\":\"light\"}}}},                        {\"responsive\": true}                    ).then(function(){\n",
       "                            \n",
       "var gd = document.getElementById('63b0db9a-fa3a-4176-aaa9-94f04f9f8ac4');\n",
       "var x = new MutationObserver(function (mutations, observer) {{\n",
       "        var display = window.getComputedStyle(gd).display;\n",
       "        if (!display || display === 'none') {{\n",
       "            console.log([gd, 'removed!']);\n",
       "            Plotly.purge(gd);\n",
       "            observer.disconnect();\n",
       "        }}\n",
       "}});\n",
       "\n",
       "// Listen for the removal of the full notebook cells\n",
       "var notebookContainer = gd.closest('#notebook-container');\n",
       "if (notebookContainer) {{\n",
       "    x.observe(notebookContainer, {childList: true});\n",
       "}}\n",
       "\n",
       "// Listen for the clearing of the current output cell\n",
       "var outputEl = gd.closest('.output');\n",
       "if (outputEl) {{\n",
       "    x.observe(outputEl, {childList: true});\n",
       "}}\n",
       "\n",
       "                        })                };                });            </script>        </div>"
      ]
     },
     "metadata": {},
     "output_type": "display_data"
    }
   ],
   "source": [
    "# Creating a 3D chart\n",
    "fig = go.Figure()\n",
    "fig.add_trace(go.Scatter3d(x=df['Price'],\n",
    "                         y = df['Rating'], z = df['num_threads'],\n",
    "                         mode = 'markers',                      \n",
    "                         marker = dict(color = agrupador.labels_.astype(np.float64)),\n",
    "                         text = [0, 1, 2]))\n",
    "fig.show()"
   ]
  },
  {
   "cell_type": "markdown",
   "id": "9383e77e",
   "metadata": {
    "execution": {
     "iopub.execute_input": "2022-08-06T02:54:50.532443Z",
     "iopub.status.busy": "2022-08-06T02:54:50.532054Z",
     "iopub.status.idle": "2022-08-06T02:54:50.537539Z",
     "shell.execute_reply": "2022-08-06T02:54:50.536341Z",
     "shell.execute_reply.started": "2022-08-06T02:54:50.532408Z"
    },
    "papermill": {
     "duration": 0.035322,
     "end_time": "2024-03-11T05:10:41.734818",
     "exception": false,
     "start_time": "2024-03-11T05:10:41.699496",
     "status": "completed"
    },
    "tags": []
   },
   "source": [
    "### <b><span style='color:#DEB078'>6.3 |</span><span style='color:#008849'> Silhouette Coefficient</span></b>"
   ]
  },
  {
   "cell_type": "code",
   "execution_count": 29,
   "id": "8f21e1d6",
   "metadata": {
    "execution": {
     "iopub.execute_input": "2024-03-11T05:10:41.804648Z",
     "iopub.status.busy": "2024-03-11T05:10:41.804252Z",
     "iopub.status.idle": "2024-03-11T05:10:43.096284Z",
     "shell.execute_reply": "2024-03-11T05:10:43.095036Z"
    },
    "papermill": {
     "duration": 1.330314,
     "end_time": "2024-03-11T05:10:43.099057",
     "exception": false,
     "start_time": "2024-03-11T05:10:41.768743",
     "status": "completed"
    },
    "tags": []
   },
   "outputs": [
    {
     "data": {
      "text/plain": [
       "array([3, 3, 0, 3, 3, 0, 3, 3, 3, 0, 3, 0, 0, 0, 3, 1, 3, 0, 0, 3, 3, 3,\n",
       "       3, 3, 0, 2, 3, 0, 0, 3, 3, 3, 3, 2, 0, 3, 3, 0, 0, 1, 2, 0, 1, 0,\n",
       "       2, 3, 0, 3, 3, 3, 2, 0, 3, 3, 1, 0, 2, 0, 0, 0, 3, 2, 0, 0, 0, 1,\n",
       "       3, 0, 3, 0, 0, 3, 0, 0, 3, 3, 2, 3, 0, 3, 3, 0, 3, 0, 0, 3, 3, 0,\n",
       "       3, 0, 2, 0, 3, 2, 3, 0, 0, 2, 0, 3, 0, 2, 3, 3, 2, 3, 0, 0, 2, 0,\n",
       "       3, 0, 3, 1, 1, 2, 3, 3, 3, 3, 3, 3, 3, 0, 2, 3, 3, 0, 3, 3, 2, 0,\n",
       "       3, 3, 3, 1, 1, 3, 0, 0, 0, 3, 3, 1, 3, 3, 3, 3, 0, 3, 0, 0, 2, 0,\n",
       "       3, 0, 3, 0, 2, 3, 3, 0, 2, 3, 0, 3, 3, 0, 3, 0, 0, 0, 2, 0, 0, 1,\n",
       "       2, 3, 0, 0, 2, 2, 0, 3, 3, 0, 3, 3, 2, 2, 0, 0, 0, 0, 0, 3, 3, 0,\n",
       "       3, 1, 3, 3, 0, 3, 3, 0, 0, 0, 0, 1, 1, 3, 0, 0, 3, 0, 2, 0, 2, 1,\n",
       "       0, 3, 0, 2, 2, 3, 0, 3, 3, 0, 0, 3, 3, 2, 3, 3, 0, 3, 0, 0, 0, 3,\n",
       "       0, 3, 0, 0, 3, 2, 0, 3, 0, 0, 2, 2, 0, 0, 1, 3, 0, 1, 1, 0, 3, 0,\n",
       "       3, 1, 3, 3, 0, 3, 2, 2, 3, 3, 3, 1, 2, 0, 0, 0, 0, 0, 3, 3, 3, 0,\n",
       "       0, 3, 0, 0, 0, 0, 0, 3, 0, 1, 3, 3, 3, 3, 3, 3, 3, 3, 1, 0, 3, 2,\n",
       "       0, 3, 3, 1, 2, 0, 3, 3, 3, 2, 2, 0, 3, 2, 0, 1, 2, 2, 0, 3, 0, 3,\n",
       "       3, 2, 3, 3, 2, 0, 3, 0, 2, 3, 2, 0, 0, 0, 3, 3, 0, 0, 3, 0, 0, 2,\n",
       "       2, 2, 2, 2, 0, 0, 0, 0, 2, 3, 0, 3, 2, 1, 0, 2, 3, 2, 3, 2, 3, 3,\n",
       "       0, 3, 3, 2, 0, 2, 0, 0, 3, 0, 3, 3, 0, 3, 0, 0, 3, 3, 3, 0, 0, 3,\n",
       "       2, 0, 3, 0, 2, 3, 1, 0, 3, 3, 3, 2, 0, 2, 3, 2, 1, 1, 0, 0, 2, 0,\n",
       "       3, 2, 3, 1, 0, 3, 3, 0, 0, 3, 0, 0, 3, 3, 2, 0, 0, 0, 0, 0, 0, 0,\n",
       "       2, 3, 0, 0, 0, 2, 1, 3, 3, 3, 2, 0, 2, 0, 0, 0, 0, 3, 3, 3, 0, 0,\n",
       "       2, 0, 3, 2, 3, 3, 3, 0, 3, 3, 2, 0, 0, 2, 3, 1, 0, 0, 0, 3, 3, 0,\n",
       "       3, 0, 3, 3, 3, 3, 2, 2, 2, 3, 2, 3, 0, 3, 0, 2, 0, 0, 2, 2, 2, 1,\n",
       "       1, 1, 0, 0, 0, 1, 2, 3, 1, 0, 3, 3, 0, 2, 3, 2, 2, 0, 0, 1, 0, 3,\n",
       "       0, 3, 2, 0, 2, 3, 2, 0, 2, 1, 2, 1, 3, 1, 0, 3, 3, 2, 2, 3, 0, 2,\n",
       "       2, 0, 3, 2, 3, 0, 0, 2, 0, 3, 3, 0, 1, 2, 1, 0, 0, 3, 0, 1, 2, 1,\n",
       "       3, 3, 1, 1, 2, 1, 1, 0, 0, 3, 0, 0, 2, 0, 0, 0, 3, 3, 3, 0, 2, 0,\n",
       "       0, 0, 3, 2, 2, 2, 2, 2, 2, 3, 0, 0, 3, 2, 0, 0, 0, 0, 0, 0, 3, 0,\n",
       "       1, 3, 2, 3, 3, 0, 1, 2, 1, 2, 0, 3, 0, 3, 0, 2, 3, 2, 3, 3, 3, 3,\n",
       "       0, 3, 0, 3, 3, 0, 3, 0, 0, 3, 2, 0, 2, 3, 0, 3, 2, 2, 3, 2, 0, 0,\n",
       "       0, 1, 2, 1, 1, 0, 0, 3, 3, 0, 3, 0, 3, 0, 2, 3, 0, 3, 0, 3, 3, 3,\n",
       "       3, 3, 2, 0, 0, 0, 0, 3, 2, 2, 3, 3, 3, 2, 0, 0, 3, 0, 3, 0, 3, 0,\n",
       "       0, 3, 3, 3, 0, 3, 2, 2, 3, 3, 0, 0, 1, 3, 0, 3, 2, 1, 2, 3, 0, 0,\n",
       "       0, 2, 3, 2, 1, 1, 1, 1, 0, 1, 2, 1, 1, 0, 0, 1, 0, 2, 0, 1, 1, 0,\n",
       "       0, 0, 0, 0, 3, 0, 2, 2, 2, 0, 1, 2, 1, 2, 0, 3, 0, 0, 2, 3, 3, 3,\n",
       "       3, 2, 3, 1, 3, 0, 3, 0, 3, 0, 3, 3, 3, 1, 0, 0, 3, 3, 2, 2, 3, 1,\n",
       "       1, 2, 2, 2, 0, 2, 0, 0, 0, 0, 0, 3, 3, 1, 3, 0, 0, 0, 0, 0, 1, 0,\n",
       "       0, 0, 0, 1, 2, 3, 0, 2, 0, 2, 2, 0, 0, 3, 3, 0, 3, 1, 0, 3, 3, 0,\n",
       "       0, 1, 1, 3, 3, 3, 3, 3, 3, 3, 3, 3, 2, 0, 3, 3, 1, 3, 3, 3, 3, 0,\n",
       "       2, 3, 0, 0, 1, 3, 3, 0, 3, 3, 3, 3, 3, 3, 0, 3, 3, 0, 3, 3, 2, 2,\n",
       "       3, 3, 0, 1, 2, 0, 3, 0, 0, 3, 1, 0, 1, 0, 0, 0, 0, 0, 2, 3, 0],\n",
       "      dtype=int32)"
      ]
     },
     "execution_count": 29,
     "metadata": {},
     "output_type": "execute_result"
    }
   ],
   "source": [
    "# First let's use KMeans to cluster the data\n",
    "agrupador = KMeans(n_clusters = 4)\n",
    "agrupador.fit(df)\n",
    "labels = agrupador.labels_\n",
    "labels"
   ]
  },
  {
   "cell_type": "code",
   "execution_count": 30,
   "id": "82aec524",
   "metadata": {
    "execution": {
     "iopub.execute_input": "2024-03-11T05:10:43.175107Z",
     "iopub.status.busy": "2024-03-11T05:10:43.174585Z",
     "iopub.status.idle": "2024-03-11T05:10:43.181193Z",
     "shell.execute_reply": "2024-03-11T05:10:43.179785Z"
    },
    "papermill": {
     "duration": 0.048524,
     "end_time": "2024-03-11T05:10:43.184659",
     "exception": false,
     "start_time": "2024-03-11T05:10:43.136135",
     "status": "completed"
    },
    "tags": []
   },
   "outputs": [],
   "source": [
    "# Library\n",
    "from sklearn.metrics import silhouette_samples, silhouette_score"
   ]
  },
  {
   "cell_type": "code",
   "execution_count": 31,
   "id": "f7eaea8c",
   "metadata": {
    "execution": {
     "iopub.execute_input": "2024-03-11T05:10:43.253470Z",
     "iopub.status.busy": "2024-03-11T05:10:43.253078Z",
     "iopub.status.idle": "2024-03-11T05:10:43.258810Z",
     "shell.execute_reply": "2024-03-11T05:10:43.257831Z"
    },
    "papermill": {
     "duration": 0.043155,
     "end_time": "2024-03-11T05:10:43.261356",
     "exception": false,
     "start_time": "2024-03-11T05:10:43.218201",
     "status": "completed"
    },
    "tags": []
   },
   "outputs": [
    {
     "name": "stdout",
     "output_type": "stream",
     "text": [
      "[2, 3, 4, 5, 6, 7, 8, 9]\n"
     ]
    }
   ],
   "source": [
    "# Create a range\n",
    "range_n_clusters = [i for i in range(2,10)]\n",
    "print(range_n_clusters)"
   ]
  },
  {
   "cell_type": "code",
   "execution_count": 32,
   "id": "fd9ce0a3",
   "metadata": {
    "execution": {
     "iopub.execute_input": "2024-03-11T05:10:43.333073Z",
     "iopub.status.busy": "2024-03-11T05:10:43.332617Z",
     "iopub.status.idle": "2024-03-11T05:10:54.225972Z",
     "shell.execute_reply": "2024-03-11T05:10:54.224306Z"
    },
    "papermill": {
     "duration": 10.935555,
     "end_time": "2024-03-11T05:10:54.231371",
     "exception": false,
     "start_time": "2024-03-11T05:10:43.295816",
     "status": "completed"
    },
    "tags": []
   },
   "outputs": [],
   "source": [
    "# Importing KMeans and applying silhouette\n",
    "from sklearn.cluster import KMeans\n",
    "\n",
    "valores_silhueta = []\n",
    "for k in range_n_clusters:\n",
    "    agrupador = KMeans(n_clusters=k)\n",
    "    labels = agrupador.fit_predict(df)\n",
    "    media_silhueta = silhouette_score(df, labels)\n",
    "    valores_silhueta.append(media_silhueta)"
   ]
  },
  {
   "cell_type": "code",
   "execution_count": 33,
   "id": "f6feea71",
   "metadata": {
    "execution": {
     "iopub.execute_input": "2024-03-11T05:10:54.346562Z",
     "iopub.status.busy": "2024-03-11T05:10:54.346151Z",
     "iopub.status.idle": "2024-03-11T05:10:55.521839Z",
     "shell.execute_reply": "2024-03-11T05:10:55.520415Z"
    },
    "papermill": {
     "duration": 1.218652,
     "end_time": "2024-03-11T05:10:55.524877",
     "exception": false,
     "start_time": "2024-03-11T05:10:54.306225",
     "status": "completed"
    },
    "tags": []
   },
   "outputs": [
    {
     "name": "stdout",
     "output_type": "stream",
     "text": [
      "Labels K-means:  [3 3 0 3 3 0 3 3 3 0 3 0 0 0 3 2 3 0 0 3 3 3 3 3 1 1 3 0 0 3 3 3 3 1 0 3 3\n",
      " 0 0 2 1 0 2 0 1 3 0 3 3 3 1 0 3 3 2 0 1 0 0 0 3 1 0 0 0 2 3 1 3 0 0 3 0 0\n",
      " 3 3 1 3 0 3 3 0 3 0 0 3 3 0 3 0 1 0 3 1 3 0 0 1 0 3 0 1 3 3 1 3 0 0 1 0 3\n",
      " 0 3 2 2 1 3 3 3 3 3 3 3 0 1 3 3 0 3 3 1 0 3 3 3 2 2 3 0 0 0 3 3 2 3 3 3 3\n",
      " 0 3 0 0 1 0 3 0 3 0 1 3 3 0 1 3 0 3 3 0 3 0 0 0 1 0 0 2 1 3 0 0 1 1 1 3 3\n",
      " 0 3 3 1 1 0 0 0 0 0 3 3 0 3 2 3 3 0 3 3 0 0 0 0 2 2 3 0 0 3 0 1 0 1 2 0 3\n",
      " 0 1 1 3 0 3 3 0 0 3 3 1 3 3 0 3 0 0 0 3 0 3 0 0 3 1 0 3 0 0 1 1 0 0 2 3 0\n",
      " 2 2 0 3 0 3 2 3 3 0 3 1 1 3 3 3 2 1 0 0 0 0 0 3 3 3 0 0 3 0 0 0 0 0 3 0 2\n",
      " 3 3 3 3 3 3 3 3 2 0 3 1 0 3 3 2 1 0 3 3 3 1 1 0 3 1 0 2 1 1 0 3 0 3 3 1 3\n",
      " 3 1 0 3 0 1 3 1 0 0 0 3 3 0 0 3 0 0 1 1 1 1 1 0 0 0 0 1 3 0 3 1 2 0 1 3 1\n",
      " 3 1 3 3 0 3 3 1 0 1 0 0 3 0 3 3 0 3 0 0 3 3 3 0 0 3 1 0 3 0 1 3 2 0 3 3 3\n",
      " 1 0 1 3 1 2 2 0 0 1 0 3 1 3 2 0 3 3 0 0 3 0 0 3 3 1 0 0 0 0 0 0 0 1 3 0 0\n",
      " 0 1 2 3 3 3 1 0 1 0 0 0 0 3 3 3 0 0 1 0 3 1 3 3 3 0 3 3 1 0 0 1 3 2 0 0 0\n",
      " 3 3 0 3 0 3 3 3 3 1 1 1 3 1 3 1 3 0 1 0 1 1 1 1 2 2 2 0 0 0 2 1 3 2 0 3 3\n",
      " 0 1 3 1 1 0 0 2 0 3 0 3 1 1 1 3 1 0 1 2 1 2 3 2 0 3 3 1 1 3 0 1 1 0 3 1 3\n",
      " 0 0 1 0 3 3 0 2 1 2 0 0 3 0 2 1 2 3 3 2 2 1 2 2 0 0 3 0 0 1 0 0 0 3 3 3 0\n",
      " 1 0 0 0 3 1 1 1 1 1 1 3 0 0 3 1 0 0 0 0 0 1 3 0 2 3 1 3 3 0 2 1 2 1 0 3 0\n",
      " 3 0 1 3 1 3 3 3 3 0 3 0 3 3 0 3 0 0 3 1 0 1 3 0 3 1 1 3 1 0 0 0 2 1 2 2 0\n",
      " 0 3 3 0 3 0 3 0 1 3 0 3 0 3 3 3 3 3 1 0 0 0 0 3 1 1 3 3 3 1 0 0 3 0 3 0 3\n",
      " 0 0 3 3 3 0 3 1 1 3 3 0 0 2 3 0 3 1 2 1 3 0 0 0 1 3 1 2 2 2 2 0 2 1 2 2 0\n",
      " 0 2 0 1 0 2 2 0 0 0 0 0 3 0 1 1 1 0 2 1 2 1 0 3 0 0 1 3 3 3 3 1 3 2 3 0 3\n",
      " 0 3 0 3 3 3 2 0 0 3 3 1 1 3 2 2 1 1 1 0 1 0 0 0 0 0 3 3 2 3 0 0 0 0 1 2 0\n",
      " 0 0 0 2 1 3 0 1 0 1 1 0 0 3 3 0 3 2 0 3 3 0 0 2 2 3 3 3 3 3 3 3 3 3 1 0 3\n",
      " 3 2 3 3 3 3 0 1 3 0 0 2 3 3 0 3 3 3 3 3 3 0 3 3 0 3 3 1 1 3 3 0 2 1 0 0 0\n",
      " 0 3 2 0 2 1 0 0 0 0 1 3 0]\n"
     ]
    }
   ],
   "source": [
    "agrupador_kmeans = KMeans(n_clusters = 4)\n",
    "labels_kmeans = agrupador_kmeans.fit_predict(df)\n",
    "print(\"Labels K-means: \", labels_kmeans)\n"
   ]
  },
  {
   "cell_type": "code",
   "execution_count": 34,
   "id": "4be2908d",
   "metadata": {
    "execution": {
     "iopub.execute_input": "2024-03-11T05:10:55.617316Z",
     "iopub.status.busy": "2024-03-11T05:10:55.616836Z",
     "iopub.status.idle": "2024-03-11T05:10:55.656247Z",
     "shell.execute_reply": "2024-03-11T05:10:55.654387Z"
    },
    "papermill": {
     "duration": 0.079984,
     "end_time": "2024-03-11T05:10:55.660744",
     "exception": false,
     "start_time": "2024-03-11T05:10:55.580760",
     "status": "completed"
    },
    "tags": []
   },
   "outputs": [
    {
     "name": "stdout",
     "output_type": "stream",
     "text": [
      "The K-means silhouette coefficient is: 0.5583024014880512\n"
     ]
    }
   ],
   "source": [
    "# Coefficient Silhouette - Score\n",
    "print(\"The K-means silhouette coefficient is:\", silhouette_score(df, labels_kmeans))"
   ]
  },
  {
   "cell_type": "markdown",
   "id": "c2cde9a4",
   "metadata": {
    "execution": {
     "iopub.execute_input": "2022-08-08T00:01:39.962888Z",
     "iopub.status.busy": "2022-08-08T00:01:39.962293Z",
     "iopub.status.idle": "2022-08-08T00:01:39.990148Z",
     "shell.execute_reply": "2022-08-08T00:01:39.989087Z",
     "shell.execute_reply.started": "2022-08-08T00:01:39.962773Z"
    },
    "papermill": {
     "duration": 0.040478,
     "end_time": "2024-03-11T05:10:55.774973",
     "exception": false,
     "start_time": "2024-03-11T05:10:55.734495",
     "status": "completed"
    },
    "tags": []
   },
   "source": [
    "<div class=\"alert alert-block alert-info\" style=\"background-color:caf0f8;color:#008849;border-color:black;width:80%;margin: auto;text-align: center;\">\n",
    "<b>Insight:</b> The silhouette coefficient varies from -1 to 1. If it is positive, we consider it good, and the closer to 1, the better.</div>"
   ]
  },
  {
   "cell_type": "markdown",
   "id": "a4bc9c20",
   "metadata": {
    "execution": {
     "iopub.execute_input": "2022-08-08T00:57:11.662822Z",
     "iopub.status.busy": "2022-08-08T00:57:11.661443Z",
     "iopub.status.idle": "2022-08-08T00:57:11.668107Z",
     "shell.execute_reply": "2022-08-08T00:57:11.666938Z",
     "shell.execute_reply.started": "2022-08-08T00:57:11.662770Z"
    },
    "papermill": {
     "duration": 0.033703,
     "end_time": "2024-03-11T05:10:55.843306",
     "exception": false,
     "start_time": "2024-03-11T05:10:55.809603",
     "status": "completed"
    },
    "tags": []
   },
   "source": [
    "### <b><span style='color:#DEB078'>6.4 |</span><span style='color:#008849'> Understanding the values ​​of attributes in the cluster</span></b>"
   ]
  },
  {
   "cell_type": "code",
   "execution_count": 35,
   "id": "4140d514",
   "metadata": {
    "execution": {
     "iopub.execute_input": "2024-03-11T05:10:55.913912Z",
     "iopub.status.busy": "2024-03-11T05:10:55.913463Z",
     "iopub.status.idle": "2024-03-11T05:10:56.283822Z",
     "shell.execute_reply": "2024-03-11T05:10:56.281870Z"
    },
    "papermill": {
     "duration": 0.411322,
     "end_time": "2024-03-11T05:10:56.288725",
     "exception": false,
     "start_time": "2024-03-11T05:10:55.877403",
     "status": "completed"
    },
    "tags": []
   },
   "outputs": [
    {
     "data": {
      "text/html": [
       "<div>\n",
       "<style scoped>\n",
       "    .dataframe tbody tr th:only-of-type {\n",
       "        vertical-align: middle;\n",
       "    }\n",
       "\n",
       "    .dataframe tbody tr th {\n",
       "        vertical-align: top;\n",
       "    }\n",
       "\n",
       "    .dataframe thead tr th {\n",
       "        text-align: left;\n",
       "    }\n",
       "\n",
       "    .dataframe thead tr:last-of-type th {\n",
       "        text-align: right;\n",
       "    }\n",
       "</style>\n",
       "<table border=\"1\" class=\"dataframe\">\n",
       "  <thead>\n",
       "    <tr>\n",
       "      <th></th>\n",
       "      <th colspan=\"8\" halign=\"left\">brand</th>\n",
       "      <th colspan=\"8\" halign=\"left\">Model</th>\n",
       "      <th colspan=\"8\" halign=\"left\">Price</th>\n",
       "      <th colspan=\"8\" halign=\"left\">Rating</th>\n",
       "      <th colspan=\"8\" halign=\"left\">processor_brand</th>\n",
       "      <th colspan=\"8\" halign=\"left\">processor_tier</th>\n",
       "      <th colspan=\"8\" halign=\"left\">num_cores</th>\n",
       "      <th colspan=\"8\" halign=\"left\">num_threads</th>\n",
       "      <th colspan=\"8\" halign=\"left\">ram_memory</th>\n",
       "      <th colspan=\"8\" halign=\"left\">primary_storage_type</th>\n",
       "      <th colspan=\"8\" halign=\"left\">primary_storage_capacity</th>\n",
       "      <th colspan=\"8\" halign=\"left\">secondary_storage_type</th>\n",
       "      <th colspan=\"8\" halign=\"left\">secondary_storage_capacity</th>\n",
       "      <th colspan=\"8\" halign=\"left\">gpu_brand</th>\n",
       "      <th colspan=\"8\" halign=\"left\">gpu_type</th>\n",
       "      <th colspan=\"8\" halign=\"left\">display_size</th>\n",
       "      <th colspan=\"8\" halign=\"left\">resolution_width</th>\n",
       "      <th colspan=\"8\" halign=\"left\">resolution_height</th>\n",
       "      <th colspan=\"8\" halign=\"left\">OS</th>\n",
       "      <th colspan=\"8\" halign=\"left\">year_of_warranty</th>\n",
       "    </tr>\n",
       "    <tr>\n",
       "      <th></th>\n",
       "      <th>count</th>\n",
       "      <th>mean</th>\n",
       "      <th>std</th>\n",
       "      <th>min</th>\n",
       "      <th>25%</th>\n",
       "      <th>50%</th>\n",
       "      <th>75%</th>\n",
       "      <th>max</th>\n",
       "      <th>count</th>\n",
       "      <th>mean</th>\n",
       "      <th>std</th>\n",
       "      <th>min</th>\n",
       "      <th>25%</th>\n",
       "      <th>50%</th>\n",
       "      <th>75%</th>\n",
       "      <th>max</th>\n",
       "      <th>count</th>\n",
       "      <th>mean</th>\n",
       "      <th>std</th>\n",
       "      <th>min</th>\n",
       "      <th>25%</th>\n",
       "      <th>50%</th>\n",
       "      <th>75%</th>\n",
       "      <th>max</th>\n",
       "      <th>count</th>\n",
       "      <th>mean</th>\n",
       "      <th>std</th>\n",
       "      <th>min</th>\n",
       "      <th>25%</th>\n",
       "      <th>50%</th>\n",
       "      <th>75%</th>\n",
       "      <th>max</th>\n",
       "      <th>count</th>\n",
       "      <th>mean</th>\n",
       "      <th>std</th>\n",
       "      <th>min</th>\n",
       "      <th>25%</th>\n",
       "      <th>50%</th>\n",
       "      <th>75%</th>\n",
       "      <th>max</th>\n",
       "      <th>count</th>\n",
       "      <th>mean</th>\n",
       "      <th>std</th>\n",
       "      <th>min</th>\n",
       "      <th>25%</th>\n",
       "      <th>50%</th>\n",
       "      <th>75%</th>\n",
       "      <th>max</th>\n",
       "      <th>count</th>\n",
       "      <th>mean</th>\n",
       "      <th>std</th>\n",
       "      <th>min</th>\n",
       "      <th>25%</th>\n",
       "      <th>50%</th>\n",
       "      <th>75%</th>\n",
       "      <th>max</th>\n",
       "      <th>count</th>\n",
       "      <th>mean</th>\n",
       "      <th>std</th>\n",
       "      <th>min</th>\n",
       "      <th>25%</th>\n",
       "      <th>50%</th>\n",
       "      <th>75%</th>\n",
       "      <th>max</th>\n",
       "      <th>count</th>\n",
       "      <th>mean</th>\n",
       "      <th>std</th>\n",
       "      <th>min</th>\n",
       "      <th>25%</th>\n",
       "      <th>50%</th>\n",
       "      <th>75%</th>\n",
       "      <th>max</th>\n",
       "      <th>count</th>\n",
       "      <th>mean</th>\n",
       "      <th>std</th>\n",
       "      <th>min</th>\n",
       "      <th>25%</th>\n",
       "      <th>50%</th>\n",
       "      <th>75%</th>\n",
       "      <th>max</th>\n",
       "      <th>count</th>\n",
       "      <th>mean</th>\n",
       "      <th>std</th>\n",
       "      <th>min</th>\n",
       "      <th>25%</th>\n",
       "      <th>50%</th>\n",
       "      <th>75%</th>\n",
       "      <th>max</th>\n",
       "      <th>count</th>\n",
       "      <th>mean</th>\n",
       "      <th>std</th>\n",
       "      <th>min</th>\n",
       "      <th>25%</th>\n",
       "      <th>50%</th>\n",
       "      <th>75%</th>\n",
       "      <th>max</th>\n",
       "      <th>count</th>\n",
       "      <th>mean</th>\n",
       "      <th>std</th>\n",
       "      <th>min</th>\n",
       "      <th>25%</th>\n",
       "      <th>50%</th>\n",
       "      <th>75%</th>\n",
       "      <th>max</th>\n",
       "      <th>count</th>\n",
       "      <th>mean</th>\n",
       "      <th>std</th>\n",
       "      <th>min</th>\n",
       "      <th>25%</th>\n",
       "      <th>50%</th>\n",
       "      <th>75%</th>\n",
       "      <th>max</th>\n",
       "      <th>count</th>\n",
       "      <th>mean</th>\n",
       "      <th>std</th>\n",
       "      <th>min</th>\n",
       "      <th>25%</th>\n",
       "      <th>50%</th>\n",
       "      <th>75%</th>\n",
       "      <th>max</th>\n",
       "      <th>count</th>\n",
       "      <th>mean</th>\n",
       "      <th>std</th>\n",
       "      <th>min</th>\n",
       "      <th>25%</th>\n",
       "      <th>50%</th>\n",
       "      <th>75%</th>\n",
       "      <th>max</th>\n",
       "      <th>count</th>\n",
       "      <th>mean</th>\n",
       "      <th>std</th>\n",
       "      <th>min</th>\n",
       "      <th>25%</th>\n",
       "      <th>50%</th>\n",
       "      <th>75%</th>\n",
       "      <th>max</th>\n",
       "      <th>count</th>\n",
       "      <th>mean</th>\n",
       "      <th>std</th>\n",
       "      <th>min</th>\n",
       "      <th>25%</th>\n",
       "      <th>50%</th>\n",
       "      <th>75%</th>\n",
       "      <th>max</th>\n",
       "      <th>count</th>\n",
       "      <th>mean</th>\n",
       "      <th>std</th>\n",
       "      <th>min</th>\n",
       "      <th>25%</th>\n",
       "      <th>50%</th>\n",
       "      <th>75%</th>\n",
       "      <th>max</th>\n",
       "      <th>count</th>\n",
       "      <th>mean</th>\n",
       "      <th>std</th>\n",
       "      <th>min</th>\n",
       "      <th>25%</th>\n",
       "      <th>50%</th>\n",
       "      <th>75%</th>\n",
       "      <th>max</th>\n",
       "    </tr>\n",
       "    <tr>\n",
       "      <th>cluster</th>\n",
       "      <th></th>\n",
       "      <th></th>\n",
       "      <th></th>\n",
       "      <th></th>\n",
       "      <th></th>\n",
       "      <th></th>\n",
       "      <th></th>\n",
       "      <th></th>\n",
       "      <th></th>\n",
       "      <th></th>\n",
       "      <th></th>\n",
       "      <th></th>\n",
       "      <th></th>\n",
       "      <th></th>\n",
       "      <th></th>\n",
       "      <th></th>\n",
       "      <th></th>\n",
       "      <th></th>\n",
       "      <th></th>\n",
       "      <th></th>\n",
       "      <th></th>\n",
       "      <th></th>\n",
       "      <th></th>\n",
       "      <th></th>\n",
       "      <th></th>\n",
       "      <th></th>\n",
       "      <th></th>\n",
       "      <th></th>\n",
       "      <th></th>\n",
       "      <th></th>\n",
       "      <th></th>\n",
       "      <th></th>\n",
       "      <th></th>\n",
       "      <th></th>\n",
       "      <th></th>\n",
       "      <th></th>\n",
       "      <th></th>\n",
       "      <th></th>\n",
       "      <th></th>\n",
       "      <th></th>\n",
       "      <th></th>\n",
       "      <th></th>\n",
       "      <th></th>\n",
       "      <th></th>\n",
       "      <th></th>\n",
       "      <th></th>\n",
       "      <th></th>\n",
       "      <th></th>\n",
       "      <th></th>\n",
       "      <th></th>\n",
       "      <th></th>\n",
       "      <th></th>\n",
       "      <th></th>\n",
       "      <th></th>\n",
       "      <th></th>\n",
       "      <th></th>\n",
       "      <th></th>\n",
       "      <th></th>\n",
       "      <th></th>\n",
       "      <th></th>\n",
       "      <th></th>\n",
       "      <th></th>\n",
       "      <th></th>\n",
       "      <th></th>\n",
       "      <th></th>\n",
       "      <th></th>\n",
       "      <th></th>\n",
       "      <th></th>\n",
       "      <th></th>\n",
       "      <th></th>\n",
       "      <th></th>\n",
       "      <th></th>\n",
       "      <th></th>\n",
       "      <th></th>\n",
       "      <th></th>\n",
       "      <th></th>\n",
       "      <th></th>\n",
       "      <th></th>\n",
       "      <th></th>\n",
       "      <th></th>\n",
       "      <th></th>\n",
       "      <th></th>\n",
       "      <th></th>\n",
       "      <th></th>\n",
       "      <th></th>\n",
       "      <th></th>\n",
       "      <th></th>\n",
       "      <th></th>\n",
       "      <th></th>\n",
       "      <th></th>\n",
       "      <th></th>\n",
       "      <th></th>\n",
       "      <th></th>\n",
       "      <th></th>\n",
       "      <th></th>\n",
       "      <th></th>\n",
       "      <th></th>\n",
       "      <th></th>\n",
       "      <th></th>\n",
       "      <th></th>\n",
       "      <th></th>\n",
       "      <th></th>\n",
       "      <th></th>\n",
       "      <th></th>\n",
       "      <th></th>\n",
       "      <th></th>\n",
       "      <th></th>\n",
       "      <th></th>\n",
       "      <th></th>\n",
       "      <th></th>\n",
       "      <th></th>\n",
       "      <th></th>\n",
       "      <th></th>\n",
       "      <th></th>\n",
       "      <th></th>\n",
       "      <th></th>\n",
       "      <th></th>\n",
       "      <th></th>\n",
       "      <th></th>\n",
       "      <th></th>\n",
       "      <th></th>\n",
       "      <th></th>\n",
       "      <th></th>\n",
       "      <th></th>\n",
       "      <th></th>\n",
       "      <th></th>\n",
       "      <th></th>\n",
       "      <th></th>\n",
       "      <th></th>\n",
       "      <th></th>\n",
       "      <th></th>\n",
       "      <th></th>\n",
       "      <th></th>\n",
       "      <th></th>\n",
       "      <th></th>\n",
       "      <th></th>\n",
       "      <th></th>\n",
       "      <th></th>\n",
       "      <th></th>\n",
       "      <th></th>\n",
       "      <th></th>\n",
       "      <th></th>\n",
       "      <th></th>\n",
       "      <th></th>\n",
       "      <th></th>\n",
       "      <th></th>\n",
       "      <th></th>\n",
       "      <th></th>\n",
       "      <th></th>\n",
       "      <th></th>\n",
       "      <th></th>\n",
       "      <th></th>\n",
       "      <th></th>\n",
       "      <th></th>\n",
       "      <th></th>\n",
       "      <th></th>\n",
       "      <th></th>\n",
       "      <th></th>\n",
       "      <th></th>\n",
       "      <th></th>\n",
       "    </tr>\n",
       "  </thead>\n",
       "  <tbody>\n",
       "    <tr>\n",
       "      <th>0</th>\n",
       "      <td>324.0</td>\n",
       "      <td>7.712963</td>\n",
       "      <td>5.062552</td>\n",
       "      <td>0.0</td>\n",
       "      <td>2.0</td>\n",
       "      <td>9.0</td>\n",
       "      <td>12.0</td>\n",
       "      <td>21.0</td>\n",
       "      <td>324.0</td>\n",
       "      <td>457.197531</td>\n",
       "      <td>250.870184</td>\n",
       "      <td>12.0</td>\n",
       "      <td>239.75</td>\n",
       "      <td>493.5</td>\n",
       "      <td>660.75</td>\n",
       "      <td>899.0</td>\n",
       "      <td>324.0</td>\n",
       "      <td>63075.185185</td>\n",
       "      <td>7563.867375</td>\n",
       "      <td>50591.0</td>\n",
       "      <td>56498.5</td>\n",
       "      <td>62550.0</td>\n",
       "      <td>69990.0</td>\n",
       "      <td>76990.0</td>\n",
       "      <td>324.0</td>\n",
       "      <td>64.527778</td>\n",
       "      <td>5.534790</td>\n",
       "      <td>45.0</td>\n",
       "      <td>60.0</td>\n",
       "      <td>65.0</td>\n",
       "      <td>69.0</td>\n",
       "      <td>76.0</td>\n",
       "      <td>324.0</td>\n",
       "      <td>1.379630</td>\n",
       "      <td>0.924897</td>\n",
       "      <td>0.0</td>\n",
       "      <td>0.0</td>\n",
       "      <td>2.0</td>\n",
       "      <td>2.0</td>\n",
       "      <td>2.0</td>\n",
       "      <td>324.0</td>\n",
       "      <td>4.629630</td>\n",
       "      <td>3.820085</td>\n",
       "      <td>1.0</td>\n",
       "      <td>2.0</td>\n",
       "      <td>2.0</td>\n",
       "      <td>10.0</td>\n",
       "      <td>11.0</td>\n",
       "      <td>324.0</td>\n",
       "      <td>8.086420</td>\n",
       "      <td>2.369557</td>\n",
       "      <td>2.0</td>\n",
       "      <td>6.0</td>\n",
       "      <td>8.0</td>\n",
       "      <td>10.0</td>\n",
       "      <td>14.0</td>\n",
       "      <td>324.0</td>\n",
       "      <td>12.506173</td>\n",
       "      <td>2.374391</td>\n",
       "      <td>4.0</td>\n",
       "      <td>12.0</td>\n",
       "      <td>12.0</td>\n",
       "      <td>12.0</td>\n",
       "      <td>20.0</td>\n",
       "      <td>324.0</td>\n",
       "      <td>13.444444</td>\n",
       "      <td>4.180154</td>\n",
       "      <td>8.0</td>\n",
       "      <td>8.0</td>\n",
       "      <td>16.0</td>\n",
       "      <td>16.0</td>\n",
       "      <td>32.0</td>\n",
       "      <td>324.0</td>\n",
       "      <td>0.972222</td>\n",
       "      <td>0.164590</td>\n",
       "      <td>0.0</td>\n",
       "      <td>1.0</td>\n",
       "      <td>1.0</td>\n",
       "      <td>1.0</td>\n",
       "      <td>1.0</td>\n",
       "      <td>324.0</td>\n",
       "      <td>575.209877</td>\n",
       "      <td>172.259054</td>\n",
       "      <td>256.0</td>\n",
       "      <td>512.0</td>\n",
       "      <td>512.0</td>\n",
       "      <td>512.0</td>\n",
       "      <td>1024.0</td>\n",
       "      <td>324.0</td>\n",
       "      <td>0.027778</td>\n",
       "      <td>0.164590</td>\n",
       "      <td>0.0</td>\n",
       "      <td>0.0</td>\n",
       "      <td>0.0</td>\n",
       "      <td>0.0</td>\n",
       "      <td>1.0</td>\n",
       "      <td>324.0</td>\n",
       "      <td>7.111111</td>\n",
       "      <td>42.134974</td>\n",
       "      <td>0.0</td>\n",
       "      <td>0.0</td>\n",
       "      <td>0.0</td>\n",
       "      <td>0.0</td>\n",
       "      <td>256.0</td>\n",
       "      <td>324.0</td>\n",
       "      <td>2.907407</td>\n",
       "      <td>1.359774</td>\n",
       "      <td>0.0</td>\n",
       "      <td>3.0</td>\n",
       "      <td>3.0</td>\n",
       "      <td>4.0</td>\n",
       "      <td>4.0</td>\n",
       "      <td>324.0</td>\n",
       "      <td>1.570988</td>\n",
       "      <td>0.501907</td>\n",
       "      <td>0.0</td>\n",
       "      <td>1.0</td>\n",
       "      <td>2.0</td>\n",
       "      <td>2.0</td>\n",
       "      <td>2.0</td>\n",
       "      <td>324.0</td>\n",
       "      <td>15.216358</td>\n",
       "      <td>0.778948</td>\n",
       "      <td>13.3</td>\n",
       "      <td>14.0</td>\n",
       "      <td>15.6</td>\n",
       "      <td>15.6</td>\n",
       "      <td>17.3</td>\n",
       "      <td>324.0</td>\n",
       "      <td>1933.814815</td>\n",
       "      <td>177.401792</td>\n",
       "      <td>1080.0</td>\n",
       "      <td>1920.0</td>\n",
       "      <td>1920.0</td>\n",
       "      <td>1920.0</td>\n",
       "      <td>2880.0</td>\n",
       "      <td>324.0</td>\n",
       "      <td>1117.185185</td>\n",
       "      <td>136.964628</td>\n",
       "      <td>768.0</td>\n",
       "      <td>1080.0</td>\n",
       "      <td>1080.0</td>\n",
       "      <td>1080.0</td>\n",
       "      <td>1920.0</td>\n",
       "      <td>324.0</td>\n",
       "      <td>3.919753</td>\n",
       "      <td>0.478367</td>\n",
       "      <td>1.0</td>\n",
       "      <td>4.0</td>\n",
       "      <td>4.0</td>\n",
       "      <td>4.0</td>\n",
       "      <td>4.0</td>\n",
       "      <td>324.0</td>\n",
       "      <td>0.203704</td>\n",
       "      <td>0.615978</td>\n",
       "      <td>0.0</td>\n",
       "      <td>0.0</td>\n",
       "      <td>0.0</td>\n",
       "      <td>0.0</td>\n",
       "      <td>3.0</td>\n",
       "    </tr>\n",
       "    <tr>\n",
       "      <th>1</th>\n",
       "      <td>167.0</td>\n",
       "      <td>7.479042</td>\n",
       "      <td>4.865465</td>\n",
       "      <td>0.0</td>\n",
       "      <td>2.0</td>\n",
       "      <td>9.0</td>\n",
       "      <td>12.0</td>\n",
       "      <td>15.0</td>\n",
       "      <td>167.0</td>\n",
       "      <td>454.173653</td>\n",
       "      <td>248.835625</td>\n",
       "      <td>1.0</td>\n",
       "      <td>262.50</td>\n",
       "      <td>466.0</td>\n",
       "      <td>696.50</td>\n",
       "      <td>871.0</td>\n",
       "      <td>167.0</td>\n",
       "      <td>91892.431138</td>\n",
       "      <td>9298.428660</td>\n",
       "      <td>77490.0</td>\n",
       "      <td>84990.0</td>\n",
       "      <td>90060.0</td>\n",
       "      <td>98990.0</td>\n",
       "      <td>111990.0</td>\n",
       "      <td>167.0</td>\n",
       "      <td>69.305389</td>\n",
       "      <td>6.298511</td>\n",
       "      <td>43.0</td>\n",
       "      <td>66.0</td>\n",
       "      <td>71.0</td>\n",
       "      <td>73.0</td>\n",
       "      <td>80.0</td>\n",
       "      <td>167.0</td>\n",
       "      <td>1.556886</td>\n",
       "      <td>0.825824</td>\n",
       "      <td>0.0</td>\n",
       "      <td>2.0</td>\n",
       "      <td>2.0</td>\n",
       "      <td>2.0</td>\n",
       "      <td>2.0</td>\n",
       "      <td>167.0</td>\n",
       "      <td>4.347305</td>\n",
       "      <td>3.472661</td>\n",
       "      <td>2.0</td>\n",
       "      <td>2.0</td>\n",
       "      <td>3.0</td>\n",
       "      <td>3.5</td>\n",
       "      <td>12.0</td>\n",
       "      <td>167.0</td>\n",
       "      <td>10.107784</td>\n",
       "      <td>2.367017</td>\n",
       "      <td>4.0</td>\n",
       "      <td>8.0</td>\n",
       "      <td>10.0</td>\n",
       "      <td>12.0</td>\n",
       "      <td>14.0</td>\n",
       "      <td>167.0</td>\n",
       "      <td>15.041916</td>\n",
       "      <td>2.818513</td>\n",
       "      <td>8.0</td>\n",
       "      <td>12.0</td>\n",
       "      <td>16.0</td>\n",
       "      <td>16.0</td>\n",
       "      <td>20.0</td>\n",
       "      <td>167.0</td>\n",
       "      <td>15.425150</td>\n",
       "      <td>2.072212</td>\n",
       "      <td>8.0</td>\n",
       "      <td>16.0</td>\n",
       "      <td>16.0</td>\n",
       "      <td>16.0</td>\n",
       "      <td>16.0</td>\n",
       "      <td>167.0</td>\n",
       "      <td>0.988024</td>\n",
       "      <td>0.109105</td>\n",
       "      <td>0.0</td>\n",
       "      <td>1.0</td>\n",
       "      <td>1.0</td>\n",
       "      <td>1.0</td>\n",
       "      <td>1.0</td>\n",
       "      <td>167.0</td>\n",
       "      <td>663.760479</td>\n",
       "      <td>246.822584</td>\n",
       "      <td>256.0</td>\n",
       "      <td>512.0</td>\n",
       "      <td>512.0</td>\n",
       "      <td>1024.0</td>\n",
       "      <td>1024.0</td>\n",
       "      <td>167.0</td>\n",
       "      <td>0.011976</td>\n",
       "      <td>0.109105</td>\n",
       "      <td>0.0</td>\n",
       "      <td>0.0</td>\n",
       "      <td>0.0</td>\n",
       "      <td>0.0</td>\n",
       "      <td>1.0</td>\n",
       "      <td>167.0</td>\n",
       "      <td>3.065868</td>\n",
       "      <td>27.930882</td>\n",
       "      <td>0.0</td>\n",
       "      <td>0.0</td>\n",
       "      <td>0.0</td>\n",
       "      <td>0.0</td>\n",
       "      <td>256.0</td>\n",
       "      <td>167.0</td>\n",
       "      <td>3.311377</td>\n",
       "      <td>1.040761</td>\n",
       "      <td>0.0</td>\n",
       "      <td>3.0</td>\n",
       "      <td>4.0</td>\n",
       "      <td>4.0</td>\n",
       "      <td>4.0</td>\n",
       "      <td>167.0</td>\n",
       "      <td>1.437126</td>\n",
       "      <td>0.521177</td>\n",
       "      <td>0.0</td>\n",
       "      <td>1.0</td>\n",
       "      <td>1.0</td>\n",
       "      <td>2.0</td>\n",
       "      <td>2.0</td>\n",
       "      <td>167.0</td>\n",
       "      <td>15.070659</td>\n",
       "      <td>1.025066</td>\n",
       "      <td>12.4</td>\n",
       "      <td>14.0</td>\n",
       "      <td>15.6</td>\n",
       "      <td>15.6</td>\n",
       "      <td>17.3</td>\n",
       "      <td>167.0</td>\n",
       "      <td>2087.377246</td>\n",
       "      <td>368.601911</td>\n",
       "      <td>1200.0</td>\n",
       "      <td>1920.0</td>\n",
       "      <td>1920.0</td>\n",
       "      <td>1920.0</td>\n",
       "      <td>3840.0</td>\n",
       "      <td>167.0</td>\n",
       "      <td>1246.059880</td>\n",
       "      <td>253.763900</td>\n",
       "      <td>1024.0</td>\n",
       "      <td>1080.0</td>\n",
       "      <td>1080.0</td>\n",
       "      <td>1200.0</td>\n",
       "      <td>2400.0</td>\n",
       "      <td>167.0</td>\n",
       "      <td>3.976048</td>\n",
       "      <td>0.218210</td>\n",
       "      <td>2.0</td>\n",
       "      <td>4.0</td>\n",
       "      <td>4.0</td>\n",
       "      <td>4.0</td>\n",
       "      <td>4.0</td>\n",
       "      <td>167.0</td>\n",
       "      <td>0.161677</td>\n",
       "      <td>0.482431</td>\n",
       "      <td>0.0</td>\n",
       "      <td>0.0</td>\n",
       "      <td>0.0</td>\n",
       "      <td>0.0</td>\n",
       "      <td>3.0</td>\n",
       "    </tr>\n",
       "    <tr>\n",
       "      <th>2</th>\n",
       "      <td>83.0</td>\n",
       "      <td>6.951807</td>\n",
       "      <td>4.898740</td>\n",
       "      <td>0.0</td>\n",
       "      <td>2.0</td>\n",
       "      <td>9.0</td>\n",
       "      <td>12.0</td>\n",
       "      <td>17.0</td>\n",
       "      <td>83.0</td>\n",
       "      <td>410.397590</td>\n",
       "      <td>260.008909</td>\n",
       "      <td>0.0</td>\n",
       "      <td>108.00</td>\n",
       "      <td>480.0</td>\n",
       "      <td>592.50</td>\n",
       "      <td>880.0</td>\n",
       "      <td>83.0</td>\n",
       "      <td>132729.795181</td>\n",
       "      <td>13886.556923</td>\n",
       "      <td>112990.0</td>\n",
       "      <td>119990.0</td>\n",
       "      <td>131990.0</td>\n",
       "      <td>145444.5</td>\n",
       "      <td>155299.0</td>\n",
       "      <td>83.0</td>\n",
       "      <td>73.951807</td>\n",
       "      <td>7.680993</td>\n",
       "      <td>45.0</td>\n",
       "      <td>71.5</td>\n",
       "      <td>75.0</td>\n",
       "      <td>78.0</td>\n",
       "      <td>88.0</td>\n",
       "      <td>83.0</td>\n",
       "      <td>1.469880</td>\n",
       "      <td>0.860195</td>\n",
       "      <td>0.0</td>\n",
       "      <td>1.0</td>\n",
       "      <td>2.0</td>\n",
       "      <td>2.0</td>\n",
       "      <td>2.0</td>\n",
       "      <td>83.0</td>\n",
       "      <td>5.072289</td>\n",
       "      <td>3.621693</td>\n",
       "      <td>2.0</td>\n",
       "      <td>3.0</td>\n",
       "      <td>3.0</td>\n",
       "      <td>6.0</td>\n",
       "      <td>12.0</td>\n",
       "      <td>83.0</td>\n",
       "      <td>11.240964</td>\n",
       "      <td>3.351703</td>\n",
       "      <td>5.0</td>\n",
       "      <td>8.0</td>\n",
       "      <td>10.0</td>\n",
       "      <td>14.0</td>\n",
       "      <td>24.0</td>\n",
       "      <td>83.0</td>\n",
       "      <td>16.686747</td>\n",
       "      <td>4.677209</td>\n",
       "      <td>5.0</td>\n",
       "      <td>16.0</td>\n",
       "      <td>16.0</td>\n",
       "      <td>20.0</td>\n",
       "      <td>32.0</td>\n",
       "      <td>83.0</td>\n",
       "      <td>15.518072</td>\n",
       "      <td>2.889685</td>\n",
       "      <td>8.0</td>\n",
       "      <td>16.0</td>\n",
       "      <td>16.0</td>\n",
       "      <td>16.0</td>\n",
       "      <td>32.0</td>\n",
       "      <td>83.0</td>\n",
       "      <td>0.987952</td>\n",
       "      <td>0.109764</td>\n",
       "      <td>0.0</td>\n",
       "      <td>1.0</td>\n",
       "      <td>1.0</td>\n",
       "      <td>1.0</td>\n",
       "      <td>1.0</td>\n",
       "      <td>83.0</td>\n",
       "      <td>780.337349</td>\n",
       "      <td>261.875565</td>\n",
       "      <td>256.0</td>\n",
       "      <td>512.0</td>\n",
       "      <td>1024.0</td>\n",
       "      <td>1024.0</td>\n",
       "      <td>1024.0</td>\n",
       "      <td>83.0</td>\n",
       "      <td>0.012048</td>\n",
       "      <td>0.109764</td>\n",
       "      <td>0.0</td>\n",
       "      <td>0.0</td>\n",
       "      <td>0.0</td>\n",
       "      <td>0.0</td>\n",
       "      <td>1.0</td>\n",
       "      <td>83.0</td>\n",
       "      <td>6.168675</td>\n",
       "      <td>56.199301</td>\n",
       "      <td>0.0</td>\n",
       "      <td>0.0</td>\n",
       "      <td>0.0</td>\n",
       "      <td>0.0</td>\n",
       "      <td>512.0</td>\n",
       "      <td>83.0</td>\n",
       "      <td>3.554217</td>\n",
       "      <td>0.830119</td>\n",
       "      <td>0.0</td>\n",
       "      <td>3.0</td>\n",
       "      <td>4.0</td>\n",
       "      <td>4.0</td>\n",
       "      <td>4.0</td>\n",
       "      <td>83.0</td>\n",
       "      <td>1.204819</td>\n",
       "      <td>0.512265</td>\n",
       "      <td>0.0</td>\n",
       "      <td>1.0</td>\n",
       "      <td>1.0</td>\n",
       "      <td>1.5</td>\n",
       "      <td>2.0</td>\n",
       "      <td>83.0</td>\n",
       "      <td>15.365060</td>\n",
       "      <td>1.068557</td>\n",
       "      <td>13.0</td>\n",
       "      <td>14.0</td>\n",
       "      <td>15.6</td>\n",
       "      <td>16.0</td>\n",
       "      <td>17.3</td>\n",
       "      <td>83.0</td>\n",
       "      <td>2253.975904</td>\n",
       "      <td>458.343730</td>\n",
       "      <td>1080.0</td>\n",
       "      <td>1920.0</td>\n",
       "      <td>1920.0</td>\n",
       "      <td>2560.0</td>\n",
       "      <td>3200.0</td>\n",
       "      <td>83.0</td>\n",
       "      <td>1417.204819</td>\n",
       "      <td>341.306949</td>\n",
       "      <td>1080.0</td>\n",
       "      <td>1080.0</td>\n",
       "      <td>1200.0</td>\n",
       "      <td>1600.0</td>\n",
       "      <td>2560.0</td>\n",
       "      <td>83.0</td>\n",
       "      <td>3.903614</td>\n",
       "      <td>0.430951</td>\n",
       "      <td>2.0</td>\n",
       "      <td>4.0</td>\n",
       "      <td>4.0</td>\n",
       "      <td>4.0</td>\n",
       "      <td>4.0</td>\n",
       "      <td>83.0</td>\n",
       "      <td>0.180723</td>\n",
       "      <td>0.587358</td>\n",
       "      <td>0.0</td>\n",
       "      <td>0.0</td>\n",
       "      <td>0.0</td>\n",
       "      <td>0.0</td>\n",
       "      <td>3.0</td>\n",
       "    </tr>\n",
       "    <tr>\n",
       "      <th>3</th>\n",
       "      <td>327.0</td>\n",
       "      <td>7.972477</td>\n",
       "      <td>5.556942</td>\n",
       "      <td>0.0</td>\n",
       "      <td>2.0</td>\n",
       "      <td>9.0</td>\n",
       "      <td>12.0</td>\n",
       "      <td>21.0</td>\n",
       "      <td>327.0</td>\n",
       "      <td>450.788991</td>\n",
       "      <td>274.991012</td>\n",
       "      <td>2.0</td>\n",
       "      <td>210.00</td>\n",
       "      <td>436.0</td>\n",
       "      <td>693.50</td>\n",
       "      <td>900.0</td>\n",
       "      <td>327.0</td>\n",
       "      <td>37740.232416</td>\n",
       "      <td>8277.780186</td>\n",
       "      <td>9800.0</td>\n",
       "      <td>32490.0</td>\n",
       "      <td>38990.0</td>\n",
       "      <td>44990.0</td>\n",
       "      <td>50000.0</td>\n",
       "      <td>327.0</td>\n",
       "      <td>56.425076</td>\n",
       "      <td>6.177814</td>\n",
       "      <td>39.0</td>\n",
       "      <td>52.0</td>\n",
       "      <td>57.0</td>\n",
       "      <td>60.0</td>\n",
       "      <td>71.0</td>\n",
       "      <td>327.0</td>\n",
       "      <td>1.360856</td>\n",
       "      <td>0.938964</td>\n",
       "      <td>0.0</td>\n",
       "      <td>0.0</td>\n",
       "      <td>2.0</td>\n",
       "      <td>2.0</td>\n",
       "      <td>3.0</td>\n",
       "      <td>327.0</td>\n",
       "      <td>4.000000</td>\n",
       "      <td>3.952168</td>\n",
       "      <td>0.0</td>\n",
       "      <td>1.0</td>\n",
       "      <td>2.0</td>\n",
       "      <td>9.0</td>\n",
       "      <td>11.0</td>\n",
       "      <td>327.0</td>\n",
       "      <td>4.902141</td>\n",
       "      <td>2.352957</td>\n",
       "      <td>2.0</td>\n",
       "      <td>4.0</td>\n",
       "      <td>4.0</td>\n",
       "      <td>6.0</td>\n",
       "      <td>12.0</td>\n",
       "      <td>327.0</td>\n",
       "      <td>7.694190</td>\n",
       "      <td>3.320054</td>\n",
       "      <td>0.0</td>\n",
       "      <td>4.0</td>\n",
       "      <td>8.0</td>\n",
       "      <td>8.0</td>\n",
       "      <td>16.0</td>\n",
       "      <td>327.0</td>\n",
       "      <td>9.155963</td>\n",
       "      <td>3.093158</td>\n",
       "      <td>2.0</td>\n",
       "      <td>8.0</td>\n",
       "      <td>8.0</td>\n",
       "      <td>8.0</td>\n",
       "      <td>16.0</td>\n",
       "      <td>327.0</td>\n",
       "      <td>0.975535</td>\n",
       "      <td>0.154724</td>\n",
       "      <td>0.0</td>\n",
       "      <td>1.0</td>\n",
       "      <td>1.0</td>\n",
       "      <td>1.0</td>\n",
       "      <td>1.0</td>\n",
       "      <td>327.0</td>\n",
       "      <td>499.571865</td>\n",
       "      <td>145.714951</td>\n",
       "      <td>32.0</td>\n",
       "      <td>512.0</td>\n",
       "      <td>512.0</td>\n",
       "      <td>512.0</td>\n",
       "      <td>1024.0</td>\n",
       "      <td>327.0</td>\n",
       "      <td>0.009174</td>\n",
       "      <td>0.095488</td>\n",
       "      <td>0.0</td>\n",
       "      <td>0.0</td>\n",
       "      <td>0.0</td>\n",
       "      <td>0.0</td>\n",
       "      <td>1.0</td>\n",
       "      <td>327.0</td>\n",
       "      <td>1.957187</td>\n",
       "      <td>21.177268</td>\n",
       "      <td>0.0</td>\n",
       "      <td>0.0</td>\n",
       "      <td>0.0</td>\n",
       "      <td>0.0</td>\n",
       "      <td>256.0</td>\n",
       "      <td>327.0</td>\n",
       "      <td>2.088685</td>\n",
       "      <td>1.431919</td>\n",
       "      <td>0.0</td>\n",
       "      <td>0.0</td>\n",
       "      <td>3.0</td>\n",
       "      <td>3.0</td>\n",
       "      <td>4.0</td>\n",
       "      <td>327.0</td>\n",
       "      <td>1.954128</td>\n",
       "      <td>0.209527</td>\n",
       "      <td>1.0</td>\n",
       "      <td>2.0</td>\n",
       "      <td>2.0</td>\n",
       "      <td>2.0</td>\n",
       "      <td>2.0</td>\n",
       "      <td>327.0</td>\n",
       "      <td>15.083486</td>\n",
       "      <td>0.839425</td>\n",
       "      <td>10.1</td>\n",
       "      <td>14.0</td>\n",
       "      <td>15.6</td>\n",
       "      <td>15.6</td>\n",
       "      <td>16.1</td>\n",
       "      <td>327.0</td>\n",
       "      <td>1844.171254</td>\n",
       "      <td>204.113033</td>\n",
       "      <td>1080.0</td>\n",
       "      <td>1920.0</td>\n",
       "      <td>1920.0</td>\n",
       "      <td>1920.0</td>\n",
       "      <td>2256.0</td>\n",
       "      <td>327.0</td>\n",
       "      <td>1062.165138</td>\n",
       "      <td>158.478532</td>\n",
       "      <td>768.0</td>\n",
       "      <td>1080.0</td>\n",
       "      <td>1080.0</td>\n",
       "      <td>1080.0</td>\n",
       "      <td>2160.0</td>\n",
       "      <td>327.0</td>\n",
       "      <td>3.727829</td>\n",
       "      <td>0.887501</td>\n",
       "      <td>0.0</td>\n",
       "      <td>4.0</td>\n",
       "      <td>4.0</td>\n",
       "      <td>4.0</td>\n",
       "      <td>4.0</td>\n",
       "      <td>327.0</td>\n",
       "      <td>0.048930</td>\n",
       "      <td>0.346840</td>\n",
       "      <td>0.0</td>\n",
       "      <td>0.0</td>\n",
       "      <td>0.0</td>\n",
       "      <td>0.0</td>\n",
       "      <td>3.0</td>\n",
       "    </tr>\n",
       "  </tbody>\n",
       "</table>\n",
       "</div>"
      ],
      "text/plain": [
       "         brand                                                 Model  \\\n",
       "         count      mean       std  min  25%  50%   75%   max  count   \n",
       "cluster                                                                \n",
       "0        324.0  7.712963  5.062552  0.0  2.0  9.0  12.0  21.0  324.0   \n",
       "1        167.0  7.479042  4.865465  0.0  2.0  9.0  12.0  15.0  167.0   \n",
       "2         83.0  6.951807  4.898740  0.0  2.0  9.0  12.0  17.0   83.0   \n",
       "3        327.0  7.972477  5.556942  0.0  2.0  9.0  12.0  21.0  327.0   \n",
       "\n",
       "                                                                     Price  \\\n",
       "               mean         std   min     25%    50%     75%    max  count   \n",
       "cluster                                                                      \n",
       "0        457.197531  250.870184  12.0  239.75  493.5  660.75  899.0  324.0   \n",
       "1        454.173653  248.835625   1.0  262.50  466.0  696.50  871.0  167.0   \n",
       "2        410.397590  260.008909   0.0  108.00  480.0  592.50  880.0   83.0   \n",
       "3        450.788991  274.991012   2.0  210.00  436.0  693.50  900.0  327.0   \n",
       "\n",
       "                                                                              \\\n",
       "                  mean           std       min       25%       50%       75%   \n",
       "cluster                                                                        \n",
       "0         63075.185185   7563.867375   50591.0   56498.5   62550.0   69990.0   \n",
       "1         91892.431138   9298.428660   77490.0   84990.0   90060.0   98990.0   \n",
       "2        132729.795181  13886.556923  112990.0  119990.0  131990.0  145444.5   \n",
       "3         37740.232416   8277.780186    9800.0   32490.0   38990.0   44990.0   \n",
       "\n",
       "                  Rating                                                     \\\n",
       "              max  count       mean       std   min   25%   50%   75%   max   \n",
       "cluster                                                                       \n",
       "0         76990.0  324.0  64.527778  5.534790  45.0  60.0  65.0  69.0  76.0   \n",
       "1        111990.0  167.0  69.305389  6.298511  43.0  66.0  71.0  73.0  80.0   \n",
       "2        155299.0   83.0  73.951807  7.680993  45.0  71.5  75.0  78.0  88.0   \n",
       "3         50000.0  327.0  56.425076  6.177814  39.0  52.0  57.0  60.0  71.0   \n",
       "\n",
       "        processor_brand                                               \\\n",
       "                  count      mean       std  min  25%  50%  75%  max   \n",
       "cluster                                                                \n",
       "0                 324.0  1.379630  0.924897  0.0  0.0  2.0  2.0  2.0   \n",
       "1                 167.0  1.556886  0.825824  0.0  2.0  2.0  2.0  2.0   \n",
       "2                  83.0  1.469880  0.860195  0.0  1.0  2.0  2.0  2.0   \n",
       "3                 327.0  1.360856  0.938964  0.0  0.0  2.0  2.0  3.0   \n",
       "\n",
       "        processor_tier                                                 \\\n",
       "                 count      mean       std  min  25%  50%   75%   max   \n",
       "cluster                                                                 \n",
       "0                324.0  4.629630  3.820085  1.0  2.0  2.0  10.0  11.0   \n",
       "1                167.0  4.347305  3.472661  2.0  2.0  3.0   3.5  12.0   \n",
       "2                 83.0  5.072289  3.621693  2.0  3.0  3.0   6.0  12.0   \n",
       "3                327.0  4.000000  3.952168  0.0  1.0  2.0   9.0  11.0   \n",
       "\n",
       "        num_cores                                                   \\\n",
       "            count       mean       std  min  25%   50%   75%   max   \n",
       "cluster                                                              \n",
       "0           324.0   8.086420  2.369557  2.0  6.0   8.0  10.0  14.0   \n",
       "1           167.0  10.107784  2.367017  4.0  8.0  10.0  12.0  14.0   \n",
       "2            83.0  11.240964  3.351703  5.0  8.0  10.0  14.0  24.0   \n",
       "3           327.0   4.902141  2.352957  2.0  4.0   4.0   6.0  12.0   \n",
       "\n",
       "        num_threads                                                    \\\n",
       "              count       mean       std  min   25%   50%   75%   max   \n",
       "cluster                                                                 \n",
       "0             324.0  12.506173  2.374391  4.0  12.0  12.0  12.0  20.0   \n",
       "1             167.0  15.041916  2.818513  8.0  12.0  16.0  16.0  20.0   \n",
       "2              83.0  16.686747  4.677209  5.0  16.0  16.0  20.0  32.0   \n",
       "3             327.0   7.694190  3.320054  0.0   4.0   8.0   8.0  16.0   \n",
       "\n",
       "        ram_memory                                                    \\\n",
       "             count       mean       std  min   25%   50%   75%   max   \n",
       "cluster                                                                \n",
       "0            324.0  13.444444  4.180154  8.0   8.0  16.0  16.0  32.0   \n",
       "1            167.0  15.425150  2.072212  8.0  16.0  16.0  16.0  16.0   \n",
       "2             83.0  15.518072  2.889685  8.0  16.0  16.0  16.0  32.0   \n",
       "3            327.0   9.155963  3.093158  2.0   8.0   8.0   8.0  16.0   \n",
       "\n",
       "        primary_storage_type                                               \\\n",
       "                       count      mean       std  min  25%  50%  75%  max   \n",
       "cluster                                                                     \n",
       "0                      324.0  0.972222  0.164590  0.0  1.0  1.0  1.0  1.0   \n",
       "1                      167.0  0.988024  0.109105  0.0  1.0  1.0  1.0  1.0   \n",
       "2                       83.0  0.987952  0.109764  0.0  1.0  1.0  1.0  1.0   \n",
       "3                      327.0  0.975535  0.154724  0.0  1.0  1.0  1.0  1.0   \n",
       "\n",
       "        primary_storage_capacity                                        \\\n",
       "                           count        mean         std    min    25%   \n",
       "cluster                                                                  \n",
       "0                          324.0  575.209877  172.259054  256.0  512.0   \n",
       "1                          167.0  663.760479  246.822584  256.0  512.0   \n",
       "2                           83.0  780.337349  261.875565  256.0  512.0   \n",
       "3                          327.0  499.571865  145.714951   32.0  512.0   \n",
       "\n",
       "                                secondary_storage_type                      \\\n",
       "            50%     75%     max                  count      mean       std   \n",
       "cluster                                                                      \n",
       "0         512.0   512.0  1024.0                  324.0  0.027778  0.164590   \n",
       "1         512.0  1024.0  1024.0                  167.0  0.011976  0.109105   \n",
       "2        1024.0  1024.0  1024.0                   83.0  0.012048  0.109764   \n",
       "3         512.0   512.0  1024.0                  327.0  0.009174  0.095488   \n",
       "\n",
       "                                 secondary_storage_capacity            \\\n",
       "         min  25%  50%  75%  max                      count      mean   \n",
       "cluster                                                                 \n",
       "0        0.0  0.0  0.0  0.0  1.0                      324.0  7.111111   \n",
       "1        0.0  0.0  0.0  0.0  1.0                      167.0  3.065868   \n",
       "2        0.0  0.0  0.0  0.0  1.0                       83.0  6.168675   \n",
       "3        0.0  0.0  0.0  0.0  1.0                      327.0  1.957187   \n",
       "\n",
       "                                              gpu_brand                      \\\n",
       "               std  min  25%  50%  75%    max     count      mean       std   \n",
       "cluster                                                                       \n",
       "0        42.134974  0.0  0.0  0.0  0.0  256.0     324.0  2.907407  1.359774   \n",
       "1        27.930882  0.0  0.0  0.0  0.0  256.0     167.0  3.311377  1.040761   \n",
       "2        56.199301  0.0  0.0  0.0  0.0  512.0      83.0  3.554217  0.830119   \n",
       "3        21.177268  0.0  0.0  0.0  0.0  256.0     327.0  2.088685  1.431919   \n",
       "\n",
       "                                 gpu_type                                     \\\n",
       "         min  25%  50%  75%  max    count      mean       std  min  25%  50%   \n",
       "cluster                                                                        \n",
       "0        0.0  3.0  3.0  4.0  4.0    324.0  1.570988  0.501907  0.0  1.0  2.0   \n",
       "1        0.0  3.0  4.0  4.0  4.0    167.0  1.437126  0.521177  0.0  1.0  1.0   \n",
       "2        0.0  3.0  4.0  4.0  4.0     83.0  1.204819  0.512265  0.0  1.0  1.0   \n",
       "3        0.0  0.0  3.0  3.0  4.0    327.0  1.954128  0.209527  1.0  2.0  2.0   \n",
       "\n",
       "                  display_size                                               \\\n",
       "         75%  max        count       mean       std   min   25%   50%   75%   \n",
       "cluster                                                                       \n",
       "0        2.0  2.0        324.0  15.216358  0.778948  13.3  14.0  15.6  15.6   \n",
       "1        2.0  2.0        167.0  15.070659  1.025066  12.4  14.0  15.6  15.6   \n",
       "2        1.5  2.0         83.0  15.365060  1.068557  13.0  14.0  15.6  16.0   \n",
       "3        2.0  2.0        327.0  15.083486  0.839425  10.1  14.0  15.6  15.6   \n",
       "\n",
       "              resolution_width                                           \\\n",
       "          max            count         mean         std     min     25%   \n",
       "cluster                                                                   \n",
       "0        17.3            324.0  1933.814815  177.401792  1080.0  1920.0   \n",
       "1        17.3            167.0  2087.377246  368.601911  1200.0  1920.0   \n",
       "2        17.3             83.0  2253.975904  458.343730  1080.0  1920.0   \n",
       "3        16.1            327.0  1844.171254  204.113033  1080.0  1920.0   \n",
       "\n",
       "                                resolution_height                           \\\n",
       "            50%     75%     max             count         mean         std   \n",
       "cluster                                                                      \n",
       "0        1920.0  1920.0  2880.0             324.0  1117.185185  136.964628   \n",
       "1        1920.0  1920.0  3840.0             167.0  1246.059880  253.763900   \n",
       "2        1920.0  2560.0  3200.0              83.0  1417.204819  341.306949   \n",
       "3        1920.0  1920.0  2256.0             327.0  1062.165138  158.478532   \n",
       "\n",
       "                                                    OS                      \\\n",
       "            min     25%     50%     75%     max  count      mean       std   \n",
       "cluster                                                                      \n",
       "0         768.0  1080.0  1080.0  1080.0  1920.0  324.0  3.919753  0.478367   \n",
       "1        1024.0  1080.0  1080.0  1200.0  2400.0  167.0  3.976048  0.218210   \n",
       "2        1080.0  1080.0  1200.0  1600.0  2560.0   83.0  3.903614  0.430951   \n",
       "3         768.0  1080.0  1080.0  1080.0  2160.0  327.0  3.727829  0.887501   \n",
       "\n",
       "                                 year_of_warranty                           \\\n",
       "         min  25%  50%  75%  max            count      mean       std  min   \n",
       "cluster                                                                      \n",
       "0        1.0  4.0  4.0  4.0  4.0            324.0  0.203704  0.615978  0.0   \n",
       "1        2.0  4.0  4.0  4.0  4.0            167.0  0.161677  0.482431  0.0   \n",
       "2        2.0  4.0  4.0  4.0  4.0             83.0  0.180723  0.587358  0.0   \n",
       "3        0.0  4.0  4.0  4.0  4.0            327.0  0.048930  0.346840  0.0   \n",
       "\n",
       "                             \n",
       "         25%  50%  75%  max  \n",
       "cluster                      \n",
       "0        0.0  0.0  0.0  3.0  \n",
       "1        0.0  0.0  0.0  3.0  \n",
       "2        0.0  0.0  0.0  3.0  \n",
       "3        0.0  0.0  0.0  3.0  "
      ]
     },
     "execution_count": 35,
     "metadata": {},
     "output_type": "execute_result"
    }
   ],
   "source": [
    "# Statistical summary of data by cluster\n",
    "\n",
    "df[\"cluster\"] = labels_kmeans\n",
    "df.groupby(\"cluster\").describe()"
   ]
  },
  {
   "cell_type": "code",
   "execution_count": 36,
   "id": "990dcf9c",
   "metadata": {
    "execution": {
     "iopub.execute_input": "2024-03-11T05:10:56.380284Z",
     "iopub.status.busy": "2024-03-11T05:10:56.379885Z",
     "iopub.status.idle": "2024-03-11T05:10:56.408346Z",
     "shell.execute_reply": "2024-03-11T05:10:56.407162Z"
    },
    "papermill": {
     "duration": 0.076271,
     "end_time": "2024-03-11T05:10:56.412066",
     "exception": false,
     "start_time": "2024-03-11T05:10:56.335795",
     "status": "completed"
    },
    "tags": []
   },
   "outputs": [
    {
     "data": {
      "text/html": [
       "<div>\n",
       "<style scoped>\n",
       "    .dataframe tbody tr th:only-of-type {\n",
       "        vertical-align: middle;\n",
       "    }\n",
       "\n",
       "    .dataframe tbody tr th {\n",
       "        vertical-align: top;\n",
       "    }\n",
       "\n",
       "    .dataframe thead th {\n",
       "        text-align: right;\n",
       "    }\n",
       "</style>\n",
       "<table border=\"1\" class=\"dataframe\">\n",
       "  <thead>\n",
       "    <tr style=\"text-align: right;\">\n",
       "      <th></th>\n",
       "      <th>count</th>\n",
       "      <th>mean</th>\n",
       "      <th>std</th>\n",
       "      <th>min</th>\n",
       "      <th>25%</th>\n",
       "      <th>50%</th>\n",
       "      <th>75%</th>\n",
       "      <th>max</th>\n",
       "    </tr>\n",
       "    <tr>\n",
       "      <th>cluster</th>\n",
       "      <th></th>\n",
       "      <th></th>\n",
       "      <th></th>\n",
       "      <th></th>\n",
       "      <th></th>\n",
       "      <th></th>\n",
       "      <th></th>\n",
       "      <th></th>\n",
       "    </tr>\n",
       "  </thead>\n",
       "  <tbody>\n",
       "    <tr>\n",
       "      <th>0</th>\n",
       "      <td>324.0</td>\n",
       "      <td>63075.185185</td>\n",
       "      <td>7563.867375</td>\n",
       "      <td>50591.0</td>\n",
       "      <td>56498.5</td>\n",
       "      <td>62550.0</td>\n",
       "      <td>69990.0</td>\n",
       "      <td>76990.0</td>\n",
       "    </tr>\n",
       "    <tr>\n",
       "      <th>1</th>\n",
       "      <td>167.0</td>\n",
       "      <td>91892.431138</td>\n",
       "      <td>9298.428660</td>\n",
       "      <td>77490.0</td>\n",
       "      <td>84990.0</td>\n",
       "      <td>90060.0</td>\n",
       "      <td>98990.0</td>\n",
       "      <td>111990.0</td>\n",
       "    </tr>\n",
       "    <tr>\n",
       "      <th>2</th>\n",
       "      <td>83.0</td>\n",
       "      <td>132729.795181</td>\n",
       "      <td>13886.556923</td>\n",
       "      <td>112990.0</td>\n",
       "      <td>119990.0</td>\n",
       "      <td>131990.0</td>\n",
       "      <td>145444.5</td>\n",
       "      <td>155299.0</td>\n",
       "    </tr>\n",
       "    <tr>\n",
       "      <th>3</th>\n",
       "      <td>327.0</td>\n",
       "      <td>37740.232416</td>\n",
       "      <td>8277.780186</td>\n",
       "      <td>9800.0</td>\n",
       "      <td>32490.0</td>\n",
       "      <td>38990.0</td>\n",
       "      <td>44990.0</td>\n",
       "      <td>50000.0</td>\n",
       "    </tr>\n",
       "  </tbody>\n",
       "</table>\n",
       "</div>"
      ],
      "text/plain": [
       "         count           mean           std       min       25%       50%  \\\n",
       "cluster                                                                     \n",
       "0        324.0   63075.185185   7563.867375   50591.0   56498.5   62550.0   \n",
       "1        167.0   91892.431138   9298.428660   77490.0   84990.0   90060.0   \n",
       "2         83.0  132729.795181  13886.556923  112990.0  119990.0  131990.0   \n",
       "3        327.0   37740.232416   8277.780186    9800.0   32490.0   38990.0   \n",
       "\n",
       "              75%       max  \n",
       "cluster                      \n",
       "0         69990.0   76990.0  \n",
       "1         98990.0  111990.0  \n",
       "2        145444.5  155299.0  \n",
       "3         44990.0   50000.0  "
      ]
     },
     "execution_count": 36,
     "metadata": {},
     "output_type": "execute_result"
    }
   ],
   "source": [
    "# Statistical analysis of the 'Price' attribute\n",
    "df.groupby(\"cluster\")[\"Price\"].describe()"
   ]
  },
  {
   "cell_type": "code",
   "execution_count": 37,
   "id": "ed986b6e",
   "metadata": {
    "execution": {
     "iopub.execute_input": "2024-03-11T05:10:56.487918Z",
     "iopub.status.busy": "2024-03-11T05:10:56.486814Z",
     "iopub.status.idle": "2024-03-11T05:10:56.899477Z",
     "shell.execute_reply": "2024-03-11T05:10:56.898167Z"
    },
    "papermill": {
     "duration": 0.453613,
     "end_time": "2024-03-11T05:10:56.902277",
     "exception": false,
     "start_time": "2024-03-11T05:10:56.448664",
     "status": "completed"
    },
    "tags": []
   },
   "outputs": [
    {
     "data": {
      "image/png": "[encoded data removed]",
      "text/plain": [
       "<Figure size 800x550 with 1 Axes>"
      ]
     },
     "metadata": {},
     "output_type": "display_data"
    }
   ],
   "source": [
    "# Categorical variable distribution among clusters\n",
    "sns.countplot(data=df, x='cluster', hue='processor_brand')\n",
    "plt.title('processor_brand Distribution Among Clusters')\n",
    "plt.show()"
   ]
  },
  {
   "cell_type": "code",
   "execution_count": 38,
   "id": "bb0ac6cc",
   "metadata": {
    "execution": {
     "iopub.execute_input": "2024-03-11T05:10:56.978459Z",
     "iopub.status.busy": "2024-03-11T05:10:56.978057Z",
     "iopub.status.idle": "2024-03-11T05:10:57.376924Z",
     "shell.execute_reply": "2024-03-11T05:10:57.375194Z"
    },
    "papermill": {
     "duration": 0.442393,
     "end_time": "2024-03-11T05:10:57.381214",
     "exception": false,
     "start_time": "2024-03-11T05:10:56.938821",
     "status": "completed"
    },
    "tags": []
   },
   "outputs": [
    {
     "data": {
      "image/png": "[encoded data removed]",
      "text/plain": [
       "<Figure size 800x550 with 1 Axes>"
      ]
     },
     "metadata": {},
     "output_type": "display_data"
    }
   ],
   "source": [
    "# Categorical variable distribution among clusters\n",
    "sns.countplot(data=df, x='cluster', hue='primary_storage_type')\n",
    "plt.title('primary_storage_type Distribution Among Clusters')\n",
    "plt.show()"
   ]
  },
  {
   "cell_type": "code",
   "execution_count": 39,
   "id": "6d0ac047",
   "metadata": {
    "execution": {
     "iopub.execute_input": "2024-03-11T05:10:57.459745Z",
     "iopub.status.busy": "2024-03-11T05:10:57.458392Z",
     "iopub.status.idle": "2024-03-11T05:10:57.906502Z",
     "shell.execute_reply": "2024-03-11T05:10:57.905267Z"
    },
    "papermill": {
     "duration": 0.489949,
     "end_time": "2024-03-11T05:10:57.909232",
     "exception": false,
     "start_time": "2024-03-11T05:10:57.419283",
     "status": "completed"
    },
    "tags": []
   },
   "outputs": [
    {
     "data": {
      "image/png": "[encoded data removed]",
      "text/plain": [
       "<Figure size 800x550 with 1 Axes>"
      ]
     },
     "metadata": {},
     "output_type": "display_data"
    }
   ],
   "source": [
    "# Categorical variable distribution among clusters\n",
    "sns.countplot(data=df, x='cluster', hue='gpu_brand')\n",
    "plt.title('gpu_brand Distribution Among Clusters')\n",
    "plt.show()"
   ]
  },
  {
   "cell_type": "code",
   "execution_count": 40,
   "id": "10fab481",
   "metadata": {
    "execution": {
     "iopub.execute_input": "2024-03-11T05:10:57.988211Z",
     "iopub.status.busy": "2024-03-11T05:10:57.987771Z",
     "iopub.status.idle": "2024-03-11T05:10:58.007256Z",
     "shell.execute_reply": "2024-03-11T05:10:58.005627Z"
    },
    "papermill": {
     "duration": 0.061498,
     "end_time": "2024-03-11T05:10:58.009757",
     "exception": false,
     "start_time": "2024-03-11T05:10:57.948259",
     "status": "completed"
    },
    "tags": []
   },
   "outputs": [
    {
     "name": "stdout",
     "output_type": "stream",
     "text": [
      "            brand       Model          Price  processor_brand  num_cores  \\\n",
      "cluster                                                                    \n",
      "0        7.712963  457.197531   63075.185185         1.379630   8.086420   \n",
      "1        7.479042  454.173653   91892.431138         1.556886  10.107784   \n",
      "2        6.951807  410.397590  132729.795181         1.469880  11.240964   \n",
      "3        7.972477  450.788991   37740.232416         1.360856   4.902141   \n",
      "\n",
      "         num_threads  ram_memory  primary_storage_type  gpu_brand  \\\n",
      "cluster                                                             \n",
      "0          12.506173   13.444444              0.972222   2.907407   \n",
      "1          15.041916   15.425150              0.988024   3.311377   \n",
      "2          16.686747   15.518072              0.987952   3.554217   \n",
      "3           7.694190    9.155963              0.975535   2.088685   \n",
      "\n",
      "         display_size  year_of_warranty  \n",
      "cluster                                  \n",
      "0           15.216358          0.203704  \n",
      "1           15.070659          0.161677  \n",
      "2           15.365060          0.180723  \n",
      "3           15.083486          0.048930  \n"
     ]
    }
   ],
   "source": [
    "# Analysis of the selected attributes using only the average (mean)\n",
    "# Also including the n_clients column\n",
    "\n",
    "description = df.groupby(\"cluster\")[[\"brand\", \"Model\", \"Price\", \"processor_brand\", \"num_cores\", \"num_threads\", \"ram_memory\", \"primary_storage_type\", \"gpu_brand\", \"display_size\", \"year_of_warranty\"]]\n",
    "n_clients = description.size()\n",
    "description = description.mean()\n",
    "print(description)"
   ]
  },
  {
   "cell_type": "markdown",
   "id": "caa61f2d",
   "metadata": {
    "papermill": {
     "duration": 0.037465,
     "end_time": "2024-03-11T05:10:58.087814",
     "exception": false,
     "start_time": "2024-03-11T05:10:58.050349",
     "status": "completed"
    },
    "tags": []
   },
   "source": [
    "### <b><span style='color:#DEB078'>6.5 |</span><span style='color:#008849'> Interpreting the clusters</span></b>\n"
   ]
  },
  {
   "cell_type": "markdown",
   "id": "a9d9c4d7",
   "metadata": {
    "papermill": {
     "duration": 0.039942,
     "end_time": "2024-03-11T05:10:58.166814",
     "exception": false,
     "start_time": "2024-03-11T05:10:58.126872",
     "status": "completed"
    },
    "tags": []
   },
   "source": [
    "<div class=\"alert alert-block alert-info\" style=\"background-color:caf0f8;color:#008849;border-color:black;width:80%;margin: auto;text-align: center;\">\n",
    "<b>Insight:</b> Let's analyze the distribution of average 'Price' and 'num_cores' in Clusters to understand clustering. This analysis can also be done for other attributes.</div>"
   ]
  },
  {
   "cell_type": "code",
   "execution_count": 41,
   "id": "af130732",
   "metadata": {
    "execution": {
     "iopub.execute_input": "2024-03-11T05:10:58.245236Z",
     "iopub.status.busy": "2024-03-11T05:10:58.244831Z",
     "iopub.status.idle": "2024-03-11T05:10:58.256324Z",
     "shell.execute_reply": "2024-03-11T05:10:58.255049Z"
    },
    "papermill": {
     "duration": 0.053045,
     "end_time": "2024-03-11T05:10:58.258710",
     "exception": false,
     "start_time": "2024-03-11T05:10:58.205665",
     "status": "completed"
    },
    "tags": []
   },
   "outputs": [
    {
     "name": "stdout",
     "output_type": "stream",
     "text": [
      "                 Price  num_cores\n",
      "cluster                          \n",
      "0         63075.185185   8.086420\n",
      "1         91892.431138  10.107784\n",
      "2        132729.795181  11.240964\n",
      "3         37740.232416   4.902141\n"
     ]
    }
   ],
   "source": [
    "# Analysis of the 'Price' and 'num_cores' attributes using only the average (mean)\n",
    "\n",
    "description = df.groupby(\"cluster\")[[\"Price\", \"num_cores\"]]\n",
    "n_clients = description.size()\n",
    "description = description.mean()\n",
    "print(description)"
   ]
  },
  {
   "cell_type": "code",
   "execution_count": 42,
   "id": "27a83cf9",
   "metadata": {
    "execution": {
     "iopub.execute_input": "2024-03-11T05:10:58.337019Z",
     "iopub.status.busy": "2024-03-11T05:10:58.336283Z",
     "iopub.status.idle": "2024-03-11T05:10:58.350024Z",
     "shell.execute_reply": "2024-03-11T05:10:58.349121Z"
    },
    "papermill": {
     "duration": 0.05597,
     "end_time": "2024-03-11T05:10:58.352267",
     "exception": false,
     "start_time": "2024-03-11T05:10:58.296297",
     "status": "completed"
    },
    "tags": []
   },
   "outputs": [
    {
     "data": {
      "text/html": [
       "<div>\n",
       "<style scoped>\n",
       "    .dataframe tbody tr th:only-of-type {\n",
       "        vertical-align: middle;\n",
       "    }\n",
       "\n",
       "    .dataframe tbody tr th {\n",
       "        vertical-align: top;\n",
       "    }\n",
       "\n",
       "    .dataframe thead th {\n",
       "        text-align: right;\n",
       "    }\n",
       "</style>\n",
       "<table border=\"1\" class=\"dataframe\">\n",
       "  <thead>\n",
       "    <tr style=\"text-align: right;\">\n",
       "      <th></th>\n",
       "      <th>Price</th>\n",
       "      <th>num_cores</th>\n",
       "      <th>cluster</th>\n",
       "    </tr>\n",
       "    <tr>\n",
       "      <th>cluster</th>\n",
       "      <th></th>\n",
       "      <th></th>\n",
       "      <th></th>\n",
       "    </tr>\n",
       "  </thead>\n",
       "  <tbody>\n",
       "    <tr>\n",
       "      <th>0</th>\n",
       "      <td>63075.19</td>\n",
       "      <td>8.1</td>\n",
       "      <td>0</td>\n",
       "    </tr>\n",
       "    <tr>\n",
       "      <th>1</th>\n",
       "      <td>91892.43</td>\n",
       "      <td>10.1</td>\n",
       "      <td>1</td>\n",
       "    </tr>\n",
       "    <tr>\n",
       "      <th>2</th>\n",
       "      <td>132729.80</td>\n",
       "      <td>11.2</td>\n",
       "      <td>2</td>\n",
       "    </tr>\n",
       "    <tr>\n",
       "      <th>3</th>\n",
       "      <td>37740.23</td>\n",
       "      <td>4.9</td>\n",
       "      <td>3</td>\n",
       "    </tr>\n",
       "  </tbody>\n",
       "</table>\n",
       "</div>"
      ],
      "text/plain": [
       "             Price  num_cores  cluster\n",
       "cluster                               \n",
       "0         63075.19        8.1        0\n",
       "1         91892.43       10.1        1\n",
       "2        132729.80       11.2        2\n",
       "3         37740.23        4.9        3"
      ]
     },
     "execution_count": 42,
     "metadata": {},
     "output_type": "execute_result"
    }
   ],
   "source": [
    "# Transforming the index into a column\n",
    "description['cluster'] = description.index\n",
    "# Defining number of decimal places per column\n",
    "description = description.round({\"Price\":2, \"num_cores\":1})\n",
    "\n",
    "description"
   ]
  },
  {
   "cell_type": "markdown",
   "id": "1ec7c267",
   "metadata": {
    "papermill": {
     "duration": 0.037858,
     "end_time": "2024-03-11T05:10:58.429803",
     "exception": false,
     "start_time": "2024-03-11T05:10:58.391945",
     "status": "completed"
    },
    "tags": []
   },
   "source": [
    "**Analyzing the data above, we can extract some attempts, such as:**\n",
    "\n",
    "- The cluster with the highest 'Price' has highest 'num_cores'\n",
    "\n",
    "- The cluster with the second highest 'Price' has the second highest 'num_cores'\n",
    "\n",
    "- The cluster with the third highest 'Price' has the third highest 'num_cores'\n",
    "\n",
    "- The cluster with the lowest 'Price' has the lowest 'num_cores'\n",
    "\n",
    "- We can conclude  that there is a positive correlation between 'Price' and 'num_cores'\n"
   ]
  },
  {
   "cell_type": "code",
   "execution_count": 43,
   "id": "8b0daf40",
   "metadata": {
    "execution": {
     "iopub.execute_input": "2024-03-11T05:10:58.511336Z",
     "iopub.status.busy": "2024-03-11T05:10:58.510933Z",
     "iopub.status.idle": "2024-03-11T05:10:59.055761Z",
     "shell.execute_reply": "2024-03-11T05:10:59.054283Z"
    },
    "papermill": {
     "duration": 0.589022,
     "end_time": "2024-03-11T05:10:59.059127",
     "exception": false,
     "start_time": "2024-03-11T05:10:58.470105",
     "status": "completed"
    },
    "tags": []
   },
   "outputs": [
    {
     "data": {
      "image/png": "[encoded data removed]",
      "text/plain": [
       "<Figure size 700x400 with 1 Axes>"
      ]
     },
     "metadata": {},
     "output_type": "display_data"
    }
   ],
   "source": [
    "# Let's visualize it with the graph below.\n",
    "fig, ax = plt.subplots(figsize=(7, 4))\n",
    "sns.pointplot(data=description, x=\"Price\", y=\"num_cores\", hue=\"cluster\", palette=\"Set1\")\n",
    "plt.title(\"Cluster: Price vs num_cores\", fontsize = 14, color = 'blue')\n",
    "plt.grid(True)\n",
    "\n",
    "plt.show()"
   ]
  },
  {
   "cell_type": "markdown",
   "id": "5937efd9",
   "metadata": {
    "papermill": {
     "duration": 0.04186,
     "end_time": "2024-03-11T05:10:59.140844",
     "exception": false,
     "start_time": "2024-03-11T05:10:59.098984",
     "status": "completed"
    },
    "tags": []
   },
   "source": [
    "<h2 style=\"color:Green;\"> If you liked it, please upvote. Thank you. </h2>"
   ]
  }
 ],
 "metadata": {
  "kaggle": {
   "accelerator": "none",
   "dataSources": [
    {
     "datasetId": 4567907,
     "sourceId": 7801134,
     "sourceType": "datasetVersion"
    }
   ],
   "dockerImageVersionId": 30664,
   "isGpuEnabled": false,
   "isInternetEnabled": true,
   "language": "python",
   "sourceType": "notebook"
  },
  "kernelspec": {
   "display_name": "Python 3",
   "language": "python",
   "name": "python3"
  },
  "language_info": {
   "codemirror_mode": {
    "name": "ipython",
    "version": 3
   },
   "file_extension": ".py",
   "mimetype": "text/x-python",
   "name": "python",
   "nbconvert_exporter": "python",
   "pygments_lexer": "ipython3",
   "version": "3.10.13"
  },
  "papermill": {
   "default_parameters": {},
   "duration": 62.211078,
   "end_time": "2024-03-11T05:11:00.105444",
   "environment_variables": {},
   "exception": null,
   "input_path": "__notebook__.ipynb",
   "output_path": "__notebook__.ipynb",
   "parameters": {},
   "start_time": "2024-03-11T05:09:57.894366",
   "version": "2.3.4"
  }
 },
 "nbformat": 4,
 "nbformat_minor": 5
}
